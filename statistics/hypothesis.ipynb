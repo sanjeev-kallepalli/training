{
 "cells": [
  {
   "cell_type": "markdown",
   "metadata": {},
   "source": [
    "# Hypothesis Testing"
   ]
  },
  {
   "attachments": {
    "image-2.png": {
     "image/png": "[encoded data removed]"
    }
   },
   "cell_type": "markdown",
   "metadata": {
    "vscode": {
     "languageId": "html"
    }
   },
   "source": [
    "![image-2.png](attachment:image-2.png)"
   ]
  },
  {
   "cell_type": "markdown",
   "metadata": {},
   "source": [
    "*Hypothesis testing is to utilize statistics to prove or disprove assumptions*"
   ]
  },
  {
   "cell_type": "markdown",
   "metadata": {},
   "source": [
    "*Steps involved*\n",
    "1. Say, a statement: It is not healthy to drink sweetened carbonated drink on daily basis.\n",
    "    - The statement above is a hypothesis, and we will have to capture *data* aligned to this problem statement.\n",
    "    - The data collection may have to involve people of both kinds of certain age. (One who drinks and one who does not)\n",
    "    - The data should be testable and correlate to the problem statement.\n",
    "2. Once we have the problem statment, for statistical analysis, we make a *null hypothesis* and *alternate hypothesis*\n",
    "    - *null hypothesis* is usually against the statement to be proven.\n",
    "        for the case as this the statement would be, sweetened carbonated drinks have no effect on health.\n",
    "    - *alternate hypothesis* is in line with statement to be proven.\n",
    "3. The null hypothesis *H<sub>o</sub>* and *H<sub>1</sub>* are mutually exclusive.\n",
    "   (In other words, only one can occur. There is no scope of overlap within  them)\n",
    "4. Next is to apply statistical testing and obtain *p-value*\n",
    "    - alpha α is the error term (significance level) (at 95% confidence, the error is 5%. 2.5% error at each ends of distribution)\n",
    "    - in a one sided hypothesis testing, error remains only on one end.\n",
    "    - Imagine this as that there is no scope of value to be present on one end, so the error can occur only on either right or left.\n",
    "    - When the *p-value* is less than the error α (0.05 or 5%) we reject null hypothesis *H<sub>o</sub>* as the mean is not present in the error region. (No statistical evidence, mean is somwhere in 95% confidence interval)\n",
    "    - When the *p-value* is greater than the error α (0.05 or 5%) we reject alternate hypothesis *H<sub>1</sub>* as the mean is present in the error region. (statistical evidence, the mean may be present in 5% error region)"
   ]
  },
  {
   "cell_type": "markdown",
   "metadata": {},
   "source": [
    "*Type I and Type II errors*\n",
    "There is possibility that we make wrong interpretations based on the *p-value* observed.\n",
    "The wrong *p-value* may be due to wrong data or making wrong assumptions.\n",
    "\n",
    "It boils down to the fact that we can make 2 kinds of errors.\n",
    "- *Type I* - We reject the null hypothesis erroneously when it should not have been rejected.\n",
    "            *H<sub>1</sub>* is accepted to be correct but in real this is wrong.\n",
    "- *Type II* - We do not reject the null hypothesis erroneously when it should have been rejected.\n",
    "            *H<sub>0</sub>* is accepted to be correct but in real this is wrong."
   ]
  },
  {
   "cell_type": "markdown",
   "metadata": {},
   "source": [
    "*code credits*: https://www.kaggle.com/code/hamelg/python-for-data-24-hypothesis-testing#Type-I-and-Type-II-Error"
   ]
  },
  {
   "cell_type": "code",
   "execution_count": null,
   "metadata": {},
   "outputs": [],
   "source": []
  }
 ],
 "metadata": {
  "kernelspec": {
   "display_name": "Python 3",
   "language": "python",
   "name": "python3"
  },
  "language_info": {
   "codemirror_mode": {
    "name": "ipython",
    "version": 3
   },
   "file_extension": ".py",
   "mimetype": "text/x-python",
   "name": "python",
   "nbconvert_exporter": "python",
   "pygments_lexer": "ipython3",
   "version": "3.10.5"
  }
 },
 "nbformat": 4,
 "nbformat_minor": 2
}
