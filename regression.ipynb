{
 "cells": [
  {
   "cell_type": "markdown",
   "metadata": {},
   "source": [
    "# Life Expectancy (*WHO*)"
   ]
  },
  {
   "cell_type": "markdown",
   "metadata": {},
   "source": [
    "###### Credits: https://www.kaggle.com/datasets/kumarajarshi/life-expectancy-who/data"
   ]
  },
  {
   "cell_type": "markdown",
   "metadata": {},
   "source": [
    "https://github.com/sanjeev-kallepalli/training"
   ]
  },
  {
   "cell_type": "markdown",
   "metadata": {},
   "source": [
    "### Import required libraries"
   ]
  },
  {
   "cell_type": "code",
   "execution_count": 1,
   "metadata": {},
   "outputs": [],
   "source": [
    "import pandas as pd\n",
    "import numpy as np\n",
    "import matplotlib.pyplot as plt\n",
    "from scipy.stats import kurtosis\n",
    "import seaborn as sns\n",
    "from sklearn.preprocessing import StandardScaler, LabelEncoder\n",
    "from sklearn.model_selection import train_test_split\n",
    "import statsmodels.api as sm\n",
    "import statsmodels.formula.api as smf\n",
    "from sklearn.linear_model import LinearRegression\n",
    "from sklearn.metrics import mean_squared_error"
   ]
  },
  {
   "cell_type": "markdown",
   "metadata": {},
   "source": [
    "### Load Data to dataframe"
   ]
  },
  {
   "cell_type": "code",
   "execution_count": 2,
   "metadata": {},
   "outputs": [],
   "source": [
    "data = pd.read_csv(\"./data/Life_Expectancy_Data.csv\")"
   ]
  },
  {
   "cell_type": "code",
   "execution_count": 3,
   "metadata": {},
   "outputs": [
    {
     "data": {
      "text/html": [
       "<div>\n",
       "<style scoped>\n",
       "    .dataframe tbody tr th:only-of-type {\n",
       "        vertical-align: middle;\n",
       "    }\n",
       "\n",
       "    .dataframe tbody tr th {\n",
       "        vertical-align: top;\n",
       "    }\n",
       "\n",
       "    .dataframe thead th {\n",
       "        text-align: right;\n",
       "    }\n",
       "</style>\n",
       "<table border=\"1\" class=\"dataframe\">\n",
       "  <thead>\n",
       "    <tr style=\"text-align: right;\">\n",
       "      <th></th>\n",
       "      <th>Country</th>\n",
       "      <th>Year</th>\n",
       "      <th>Status</th>\n",
       "      <th>Life expectancy</th>\n",
       "      <th>Adult Mortality</th>\n",
       "      <th>infant deaths</th>\n",
       "      <th>Alcohol</th>\n",
       "      <th>percentage expenditure</th>\n",
       "      <th>Hepatitis B</th>\n",
       "      <th>Measles</th>\n",
       "      <th>...</th>\n",
       "      <th>Polio</th>\n",
       "      <th>Total expenditure</th>\n",
       "      <th>Diphtheria</th>\n",
       "      <th>HIV/AIDS</th>\n",
       "      <th>GDP</th>\n",
       "      <th>Population</th>\n",
       "      <th>thinness  1-19 years</th>\n",
       "      <th>thinness 5-9 years</th>\n",
       "      <th>Income composition of resources</th>\n",
       "      <th>Schooling</th>\n",
       "    </tr>\n",
       "  </thead>\n",
       "  <tbody>\n",
       "    <tr>\n",
       "      <th>0</th>\n",
       "      <td>Afghanistan</td>\n",
       "      <td>2015</td>\n",
       "      <td>Developing</td>\n",
       "      <td>65.0</td>\n",
       "      <td>263.0</td>\n",
       "      <td>62</td>\n",
       "      <td>0.01</td>\n",
       "      <td>71.279624</td>\n",
       "      <td>65.0</td>\n",
       "      <td>1154</td>\n",
       "      <td>...</td>\n",
       "      <td>6.0</td>\n",
       "      <td>8.16</td>\n",
       "      <td>65.0</td>\n",
       "      <td>0.1</td>\n",
       "      <td>584.259210</td>\n",
       "      <td>33736494.0</td>\n",
       "      <td>17.2</td>\n",
       "      <td>17.3</td>\n",
       "      <td>0.479</td>\n",
       "      <td>10.1</td>\n",
       "    </tr>\n",
       "    <tr>\n",
       "      <th>1</th>\n",
       "      <td>Afghanistan</td>\n",
       "      <td>2014</td>\n",
       "      <td>Developing</td>\n",
       "      <td>59.9</td>\n",
       "      <td>271.0</td>\n",
       "      <td>64</td>\n",
       "      <td>0.01</td>\n",
       "      <td>73.523582</td>\n",
       "      <td>62.0</td>\n",
       "      <td>492</td>\n",
       "      <td>...</td>\n",
       "      <td>58.0</td>\n",
       "      <td>8.18</td>\n",
       "      <td>62.0</td>\n",
       "      <td>0.1</td>\n",
       "      <td>612.696514</td>\n",
       "      <td>327582.0</td>\n",
       "      <td>17.5</td>\n",
       "      <td>17.5</td>\n",
       "      <td>0.476</td>\n",
       "      <td>10.0</td>\n",
       "    </tr>\n",
       "    <tr>\n",
       "      <th>2</th>\n",
       "      <td>Afghanistan</td>\n",
       "      <td>2013</td>\n",
       "      <td>Developing</td>\n",
       "      <td>59.9</td>\n",
       "      <td>268.0</td>\n",
       "      <td>66</td>\n",
       "      <td>0.01</td>\n",
       "      <td>73.219243</td>\n",
       "      <td>64.0</td>\n",
       "      <td>430</td>\n",
       "      <td>...</td>\n",
       "      <td>62.0</td>\n",
       "      <td>8.13</td>\n",
       "      <td>64.0</td>\n",
       "      <td>0.1</td>\n",
       "      <td>631.744976</td>\n",
       "      <td>31731688.0</td>\n",
       "      <td>17.7</td>\n",
       "      <td>17.7</td>\n",
       "      <td>0.470</td>\n",
       "      <td>9.9</td>\n",
       "    </tr>\n",
       "    <tr>\n",
       "      <th>3</th>\n",
       "      <td>Afghanistan</td>\n",
       "      <td>2012</td>\n",
       "      <td>Developing</td>\n",
       "      <td>59.5</td>\n",
       "      <td>272.0</td>\n",
       "      <td>69</td>\n",
       "      <td>0.01</td>\n",
       "      <td>78.184215</td>\n",
       "      <td>67.0</td>\n",
       "      <td>2787</td>\n",
       "      <td>...</td>\n",
       "      <td>67.0</td>\n",
       "      <td>8.52</td>\n",
       "      <td>67.0</td>\n",
       "      <td>0.1</td>\n",
       "      <td>669.959000</td>\n",
       "      <td>3696958.0</td>\n",
       "      <td>17.9</td>\n",
       "      <td>18.0</td>\n",
       "      <td>0.463</td>\n",
       "      <td>9.8</td>\n",
       "    </tr>\n",
       "    <tr>\n",
       "      <th>4</th>\n",
       "      <td>Afghanistan</td>\n",
       "      <td>2011</td>\n",
       "      <td>Developing</td>\n",
       "      <td>59.2</td>\n",
       "      <td>275.0</td>\n",
       "      <td>71</td>\n",
       "      <td>0.01</td>\n",
       "      <td>7.097109</td>\n",
       "      <td>68.0</td>\n",
       "      <td>3013</td>\n",
       "      <td>...</td>\n",
       "      <td>68.0</td>\n",
       "      <td>7.87</td>\n",
       "      <td>68.0</td>\n",
       "      <td>0.1</td>\n",
       "      <td>63.537231</td>\n",
       "      <td>2978599.0</td>\n",
       "      <td>18.2</td>\n",
       "      <td>18.2</td>\n",
       "      <td>0.454</td>\n",
       "      <td>9.5</td>\n",
       "    </tr>\n",
       "  </tbody>\n",
       "</table>\n",
       "<p>5 rows × 22 columns</p>\n",
       "</div>"
      ],
      "text/plain": [
       "       Country  Year      Status  Life expectancy   Adult Mortality  \\\n",
       "0  Afghanistan  2015  Developing              65.0            263.0   \n",
       "1  Afghanistan  2014  Developing              59.9            271.0   \n",
       "2  Afghanistan  2013  Developing              59.9            268.0   \n",
       "3  Afghanistan  2012  Developing              59.5            272.0   \n",
       "4  Afghanistan  2011  Developing              59.2            275.0   \n",
       "\n",
       "   infant deaths  Alcohol  percentage expenditure  Hepatitis B  Measles   ...  \\\n",
       "0             62     0.01               71.279624         65.0      1154  ...   \n",
       "1             64     0.01               73.523582         62.0       492  ...   \n",
       "2             66     0.01               73.219243         64.0       430  ...   \n",
       "3             69     0.01               78.184215         67.0      2787  ...   \n",
       "4             71     0.01                7.097109         68.0      3013  ...   \n",
       "\n",
       "   Polio  Total expenditure  Diphtheria    HIV/AIDS         GDP  Population  \\\n",
       "0    6.0               8.16         65.0        0.1  584.259210  33736494.0   \n",
       "1   58.0               8.18         62.0        0.1  612.696514    327582.0   \n",
       "2   62.0               8.13         64.0        0.1  631.744976  31731688.0   \n",
       "3   67.0               8.52         67.0        0.1  669.959000   3696958.0   \n",
       "4   68.0               7.87         68.0        0.1   63.537231   2978599.0   \n",
       "\n",
       "    thinness  1-19 years   thinness 5-9 years  \\\n",
       "0                   17.2                 17.3   \n",
       "1                   17.5                 17.5   \n",
       "2                   17.7                 17.7   \n",
       "3                   17.9                 18.0   \n",
       "4                   18.2                 18.2   \n",
       "\n",
       "   Income composition of resources  Schooling  \n",
       "0                            0.479       10.1  \n",
       "1                            0.476       10.0  \n",
       "2                            0.470        9.9  \n",
       "3                            0.463        9.8  \n",
       "4                            0.454        9.5  \n",
       "\n",
       "[5 rows x 22 columns]"
      ]
     },
     "execution_count": 3,
     "metadata": {},
     "output_type": "execute_result"
    }
   ],
   "source": [
    "data.head()"
   ]
  },
  {
   "cell_type": "code",
   "execution_count": 4,
   "metadata": {},
   "outputs": [
    {
     "data": {
      "text/plain": [
       "(2938, 22)"
      ]
     },
     "execution_count": 4,
     "metadata": {},
     "output_type": "execute_result"
    }
   ],
   "source": [
    "data.shape"
   ]
  },
  {
   "cell_type": "markdown",
   "metadata": {},
   "source": [
    "### Overview of DataSet"
   ]
  },
  {
   "cell_type": "code",
   "execution_count": 5,
   "metadata": {},
   "outputs": [
    {
     "data": {
      "text/plain": [
       "Country                              0\n",
       "Year                                 0\n",
       "Status                               0\n",
       "Life expectancy                     10\n",
       "Adult Mortality                     10\n",
       "infant deaths                        0\n",
       "Alcohol                            194\n",
       "percentage expenditure               0\n",
       "Hepatitis B                        553\n",
       "Measles                              0\n",
       " BMI                                34\n",
       "under-five deaths                    0\n",
       "Polio                               19\n",
       "Total expenditure                  226\n",
       "Diphtheria                          19\n",
       " HIV/AIDS                            0\n",
       "GDP                                448\n",
       "Population                         652\n",
       " thinness  1-19 years               34\n",
       " thinness 5-9 years                 34\n",
       "Income composition of resources    167\n",
       "Schooling                          163\n",
       "dtype: int64"
      ]
     },
     "execution_count": 5,
     "metadata": {},
     "output_type": "execute_result"
    }
   ],
   "source": [
    "# null values of dataset \n",
    "data.isnull().sum()"
   ]
  },
  {
   "cell_type": "code",
   "execution_count": 6,
   "metadata": {},
   "outputs": [
    {
     "data": {
      "text/plain": [
       "Country                             object\n",
       "Year                                 int64\n",
       "Status                              object\n",
       "Life expectancy                    float64\n",
       "Adult Mortality                    float64\n",
       "infant deaths                        int64\n",
       "Alcohol                            float64\n",
       "percentage expenditure             float64\n",
       "Hepatitis B                        float64\n",
       "Measles                              int64\n",
       " BMI                               float64\n",
       "under-five deaths                    int64\n",
       "Polio                              float64\n",
       "Total expenditure                  float64\n",
       "Diphtheria                         float64\n",
       " HIV/AIDS                          float64\n",
       "GDP                                float64\n",
       "Population                         float64\n",
       " thinness  1-19 years              float64\n",
       " thinness 5-9 years                float64\n",
       "Income composition of resources    float64\n",
       "Schooling                          float64\n",
       "dtype: object"
      ]
     },
     "execution_count": 6,
     "metadata": {},
     "output_type": "execute_result"
    }
   ],
   "source": [
    "data.dtypes"
   ]
  },
  {
   "cell_type": "markdown",
   "metadata": {},
   "source": [
    "### Features"
   ]
  },
  {
   "cell_type": "markdown",
   "metadata": {},
   "source": [
    "1. Status - Developed or Developing Status\n",
    "2. Life Expectancy - Life Expectancy in Age\n",
    "3. Adult Mortality - Adult mortality rate. Probability of dying between age of 15 - 60 for a sample of 1000\n",
    "4. infant deaths - number of infants deaths per 1000\n",
    "5. Alcohol - Alcohol recorded per capita\n",
    "6. percentage expenditure - expenditure on health\n",
    "7. Hepatitis B - immunization coverage among 1-year-olds %\n",
    "8. Measles - cases per 1000"
   ]
  },
  {
   "cell_type": "markdown",
   "metadata": {},
   "source": [
    "### Description"
   ]
  },
  {
   "cell_type": "code",
   "execution_count": 7,
   "metadata": {},
   "outputs": [
    {
     "data": {
      "text/html": [
       "<div>\n",
       "<style scoped>\n",
       "    .dataframe tbody tr th:only-of-type {\n",
       "        vertical-align: middle;\n",
       "    }\n",
       "\n",
       "    .dataframe tbody tr th {\n",
       "        vertical-align: top;\n",
       "    }\n",
       "\n",
       "    .dataframe thead th {\n",
       "        text-align: right;\n",
       "    }\n",
       "</style>\n",
       "<table border=\"1\" class=\"dataframe\">\n",
       "  <thead>\n",
       "    <tr style=\"text-align: right;\">\n",
       "      <th></th>\n",
       "      <th>Country</th>\n",
       "      <th>Year</th>\n",
       "      <th>Status</th>\n",
       "      <th>Life expectancy</th>\n",
       "      <th>Adult Mortality</th>\n",
       "      <th>infant deaths</th>\n",
       "      <th>Alcohol</th>\n",
       "      <th>percentage expenditure</th>\n",
       "      <th>Hepatitis B</th>\n",
       "      <th>Measles</th>\n",
       "      <th>...</th>\n",
       "      <th>Polio</th>\n",
       "      <th>Total expenditure</th>\n",
       "      <th>Diphtheria</th>\n",
       "      <th>HIV/AIDS</th>\n",
       "      <th>GDP</th>\n",
       "      <th>Population</th>\n",
       "      <th>thinness  1-19 years</th>\n",
       "      <th>thinness 5-9 years</th>\n",
       "      <th>Income composition of resources</th>\n",
       "      <th>Schooling</th>\n",
       "    </tr>\n",
       "  </thead>\n",
       "  <tbody>\n",
       "    <tr>\n",
       "      <th>count</th>\n",
       "      <td>2938</td>\n",
       "      <td>2938.000000</td>\n",
       "      <td>2938</td>\n",
       "      <td>2928.000000</td>\n",
       "      <td>2928.000000</td>\n",
       "      <td>2938.000000</td>\n",
       "      <td>2744.000000</td>\n",
       "      <td>2938.000000</td>\n",
       "      <td>2385.000000</td>\n",
       "      <td>2938.000000</td>\n",
       "      <td>...</td>\n",
       "      <td>2919.000000</td>\n",
       "      <td>2712.00000</td>\n",
       "      <td>2919.000000</td>\n",
       "      <td>2938.000000</td>\n",
       "      <td>2490.000000</td>\n",
       "      <td>2.286000e+03</td>\n",
       "      <td>2904.000000</td>\n",
       "      <td>2904.000000</td>\n",
       "      <td>2771.000000</td>\n",
       "      <td>2775.000000</td>\n",
       "    </tr>\n",
       "    <tr>\n",
       "      <th>unique</th>\n",
       "      <td>193</td>\n",
       "      <td>NaN</td>\n",
       "      <td>2</td>\n",
       "      <td>NaN</td>\n",
       "      <td>NaN</td>\n",
       "      <td>NaN</td>\n",
       "      <td>NaN</td>\n",
       "      <td>NaN</td>\n",
       "      <td>NaN</td>\n",
       "      <td>NaN</td>\n",
       "      <td>...</td>\n",
       "      <td>NaN</td>\n",
       "      <td>NaN</td>\n",
       "      <td>NaN</td>\n",
       "      <td>NaN</td>\n",
       "      <td>NaN</td>\n",
       "      <td>NaN</td>\n",
       "      <td>NaN</td>\n",
       "      <td>NaN</td>\n",
       "      <td>NaN</td>\n",
       "      <td>NaN</td>\n",
       "    </tr>\n",
       "    <tr>\n",
       "      <th>top</th>\n",
       "      <td>Afghanistan</td>\n",
       "      <td>NaN</td>\n",
       "      <td>Developing</td>\n",
       "      <td>NaN</td>\n",
       "      <td>NaN</td>\n",
       "      <td>NaN</td>\n",
       "      <td>NaN</td>\n",
       "      <td>NaN</td>\n",
       "      <td>NaN</td>\n",
       "      <td>NaN</td>\n",
       "      <td>...</td>\n",
       "      <td>NaN</td>\n",
       "      <td>NaN</td>\n",
       "      <td>NaN</td>\n",
       "      <td>NaN</td>\n",
       "      <td>NaN</td>\n",
       "      <td>NaN</td>\n",
       "      <td>NaN</td>\n",
       "      <td>NaN</td>\n",
       "      <td>NaN</td>\n",
       "      <td>NaN</td>\n",
       "    </tr>\n",
       "    <tr>\n",
       "      <th>freq</th>\n",
       "      <td>16</td>\n",
       "      <td>NaN</td>\n",
       "      <td>2426</td>\n",
       "      <td>NaN</td>\n",
       "      <td>NaN</td>\n",
       "      <td>NaN</td>\n",
       "      <td>NaN</td>\n",
       "      <td>NaN</td>\n",
       "      <td>NaN</td>\n",
       "      <td>NaN</td>\n",
       "      <td>...</td>\n",
       "      <td>NaN</td>\n",
       "      <td>NaN</td>\n",
       "      <td>NaN</td>\n",
       "      <td>NaN</td>\n",
       "      <td>NaN</td>\n",
       "      <td>NaN</td>\n",
       "      <td>NaN</td>\n",
       "      <td>NaN</td>\n",
       "      <td>NaN</td>\n",
       "      <td>NaN</td>\n",
       "    </tr>\n",
       "    <tr>\n",
       "      <th>mean</th>\n",
       "      <td>NaN</td>\n",
       "      <td>2007.518720</td>\n",
       "      <td>NaN</td>\n",
       "      <td>69.224932</td>\n",
       "      <td>164.796448</td>\n",
       "      <td>30.303948</td>\n",
       "      <td>4.602861</td>\n",
       "      <td>738.251295</td>\n",
       "      <td>80.940461</td>\n",
       "      <td>2419.592240</td>\n",
       "      <td>...</td>\n",
       "      <td>82.550188</td>\n",
       "      <td>5.93819</td>\n",
       "      <td>82.324084</td>\n",
       "      <td>1.742103</td>\n",
       "      <td>7483.158469</td>\n",
       "      <td>1.275338e+07</td>\n",
       "      <td>4.839704</td>\n",
       "      <td>4.870317</td>\n",
       "      <td>0.627551</td>\n",
       "      <td>11.992793</td>\n",
       "    </tr>\n",
       "    <tr>\n",
       "      <th>std</th>\n",
       "      <td>NaN</td>\n",
       "      <td>4.613841</td>\n",
       "      <td>NaN</td>\n",
       "      <td>9.523867</td>\n",
       "      <td>124.292079</td>\n",
       "      <td>117.926501</td>\n",
       "      <td>4.052413</td>\n",
       "      <td>1987.914858</td>\n",
       "      <td>25.070016</td>\n",
       "      <td>11467.272489</td>\n",
       "      <td>...</td>\n",
       "      <td>23.428046</td>\n",
       "      <td>2.49832</td>\n",
       "      <td>23.716912</td>\n",
       "      <td>5.077785</td>\n",
       "      <td>14270.169342</td>\n",
       "      <td>6.101210e+07</td>\n",
       "      <td>4.420195</td>\n",
       "      <td>4.508882</td>\n",
       "      <td>0.210904</td>\n",
       "      <td>3.358920</td>\n",
       "    </tr>\n",
       "    <tr>\n",
       "      <th>min</th>\n",
       "      <td>NaN</td>\n",
       "      <td>2000.000000</td>\n",
       "      <td>NaN</td>\n",
       "      <td>36.300000</td>\n",
       "      <td>1.000000</td>\n",
       "      <td>0.000000</td>\n",
       "      <td>0.010000</td>\n",
       "      <td>0.000000</td>\n",
       "      <td>1.000000</td>\n",
       "      <td>0.000000</td>\n",
       "      <td>...</td>\n",
       "      <td>3.000000</td>\n",
       "      <td>0.37000</td>\n",
       "      <td>2.000000</td>\n",
       "      <td>0.100000</td>\n",
       "      <td>1.681350</td>\n",
       "      <td>3.400000e+01</td>\n",
       "      <td>0.100000</td>\n",
       "      <td>0.100000</td>\n",
       "      <td>0.000000</td>\n",
       "      <td>0.000000</td>\n",
       "    </tr>\n",
       "    <tr>\n",
       "      <th>25%</th>\n",
       "      <td>NaN</td>\n",
       "      <td>2004.000000</td>\n",
       "      <td>NaN</td>\n",
       "      <td>63.100000</td>\n",
       "      <td>74.000000</td>\n",
       "      <td>0.000000</td>\n",
       "      <td>0.877500</td>\n",
       "      <td>4.685343</td>\n",
       "      <td>77.000000</td>\n",
       "      <td>0.000000</td>\n",
       "      <td>...</td>\n",
       "      <td>78.000000</td>\n",
       "      <td>4.26000</td>\n",
       "      <td>78.000000</td>\n",
       "      <td>0.100000</td>\n",
       "      <td>463.935626</td>\n",
       "      <td>1.957932e+05</td>\n",
       "      <td>1.600000</td>\n",
       "      <td>1.500000</td>\n",
       "      <td>0.493000</td>\n",
       "      <td>10.100000</td>\n",
       "    </tr>\n",
       "    <tr>\n",
       "      <th>50%</th>\n",
       "      <td>NaN</td>\n",
       "      <td>2008.000000</td>\n",
       "      <td>NaN</td>\n",
       "      <td>72.100000</td>\n",
       "      <td>144.000000</td>\n",
       "      <td>3.000000</td>\n",
       "      <td>3.755000</td>\n",
       "      <td>64.912906</td>\n",
       "      <td>92.000000</td>\n",
       "      <td>17.000000</td>\n",
       "      <td>...</td>\n",
       "      <td>93.000000</td>\n",
       "      <td>5.75500</td>\n",
       "      <td>93.000000</td>\n",
       "      <td>0.100000</td>\n",
       "      <td>1766.947595</td>\n",
       "      <td>1.386542e+06</td>\n",
       "      <td>3.300000</td>\n",
       "      <td>3.300000</td>\n",
       "      <td>0.677000</td>\n",
       "      <td>12.300000</td>\n",
       "    </tr>\n",
       "    <tr>\n",
       "      <th>75%</th>\n",
       "      <td>NaN</td>\n",
       "      <td>2012.000000</td>\n",
       "      <td>NaN</td>\n",
       "      <td>75.700000</td>\n",
       "      <td>228.000000</td>\n",
       "      <td>22.000000</td>\n",
       "      <td>7.702500</td>\n",
       "      <td>441.534144</td>\n",
       "      <td>97.000000</td>\n",
       "      <td>360.250000</td>\n",
       "      <td>...</td>\n",
       "      <td>97.000000</td>\n",
       "      <td>7.49250</td>\n",
       "      <td>97.000000</td>\n",
       "      <td>0.800000</td>\n",
       "      <td>5910.806335</td>\n",
       "      <td>7.420359e+06</td>\n",
       "      <td>7.200000</td>\n",
       "      <td>7.200000</td>\n",
       "      <td>0.779000</td>\n",
       "      <td>14.300000</td>\n",
       "    </tr>\n",
       "    <tr>\n",
       "      <th>max</th>\n",
       "      <td>NaN</td>\n",
       "      <td>2015.000000</td>\n",
       "      <td>NaN</td>\n",
       "      <td>89.000000</td>\n",
       "      <td>723.000000</td>\n",
       "      <td>1800.000000</td>\n",
       "      <td>17.870000</td>\n",
       "      <td>19479.911610</td>\n",
       "      <td>99.000000</td>\n",
       "      <td>212183.000000</td>\n",
       "      <td>...</td>\n",
       "      <td>99.000000</td>\n",
       "      <td>17.60000</td>\n",
       "      <td>99.000000</td>\n",
       "      <td>50.600000</td>\n",
       "      <td>119172.741800</td>\n",
       "      <td>1.293859e+09</td>\n",
       "      <td>27.700000</td>\n",
       "      <td>28.600000</td>\n",
       "      <td>0.948000</td>\n",
       "      <td>20.700000</td>\n",
       "    </tr>\n",
       "  </tbody>\n",
       "</table>\n",
       "<p>11 rows × 22 columns</p>\n",
       "</div>"
      ],
      "text/plain": [
       "            Country         Year      Status  Life expectancy   \\\n",
       "count          2938  2938.000000        2938       2928.000000   \n",
       "unique          193          NaN           2               NaN   \n",
       "top     Afghanistan          NaN  Developing               NaN   \n",
       "freq             16          NaN        2426               NaN   \n",
       "mean            NaN  2007.518720         NaN         69.224932   \n",
       "std             NaN     4.613841         NaN          9.523867   \n",
       "min             NaN  2000.000000         NaN         36.300000   \n",
       "25%             NaN  2004.000000         NaN         63.100000   \n",
       "50%             NaN  2008.000000         NaN         72.100000   \n",
       "75%             NaN  2012.000000         NaN         75.700000   \n",
       "max             NaN  2015.000000         NaN         89.000000   \n",
       "\n",
       "        Adult Mortality  infant deaths      Alcohol  percentage expenditure  \\\n",
       "count       2928.000000    2938.000000  2744.000000             2938.000000   \n",
       "unique              NaN            NaN          NaN                     NaN   \n",
       "top                 NaN            NaN          NaN                     NaN   \n",
       "freq                NaN            NaN          NaN                     NaN   \n",
       "mean         164.796448      30.303948     4.602861              738.251295   \n",
       "std          124.292079     117.926501     4.052413             1987.914858   \n",
       "min            1.000000       0.000000     0.010000                0.000000   \n",
       "25%           74.000000       0.000000     0.877500                4.685343   \n",
       "50%          144.000000       3.000000     3.755000               64.912906   \n",
       "75%          228.000000      22.000000     7.702500              441.534144   \n",
       "max          723.000000    1800.000000    17.870000            19479.911610   \n",
       "\n",
       "        Hepatitis B       Measles   ...        Polio  Total expenditure  \\\n",
       "count   2385.000000    2938.000000  ...  2919.000000         2712.00000   \n",
       "unique          NaN            NaN  ...          NaN                NaN   \n",
       "top             NaN            NaN  ...          NaN                NaN   \n",
       "freq            NaN            NaN  ...          NaN                NaN   \n",
       "mean      80.940461    2419.592240  ...    82.550188            5.93819   \n",
       "std       25.070016   11467.272489  ...    23.428046            2.49832   \n",
       "min        1.000000       0.000000  ...     3.000000            0.37000   \n",
       "25%       77.000000       0.000000  ...    78.000000            4.26000   \n",
       "50%       92.000000      17.000000  ...    93.000000            5.75500   \n",
       "75%       97.000000     360.250000  ...    97.000000            7.49250   \n",
       "max       99.000000  212183.000000  ...    99.000000           17.60000   \n",
       "\n",
       "        Diphtheria      HIV/AIDS            GDP    Population  \\\n",
       "count   2919.000000  2938.000000    2490.000000  2.286000e+03   \n",
       "unique          NaN          NaN            NaN           NaN   \n",
       "top             NaN          NaN            NaN           NaN   \n",
       "freq            NaN          NaN            NaN           NaN   \n",
       "mean      82.324084     1.742103    7483.158469  1.275338e+07   \n",
       "std       23.716912     5.077785   14270.169342  6.101210e+07   \n",
       "min        2.000000     0.100000       1.681350  3.400000e+01   \n",
       "25%       78.000000     0.100000     463.935626  1.957932e+05   \n",
       "50%       93.000000     0.100000    1766.947595  1.386542e+06   \n",
       "75%       97.000000     0.800000    5910.806335  7.420359e+06   \n",
       "max       99.000000    50.600000  119172.741800  1.293859e+09   \n",
       "\n",
       "         thinness  1-19 years   thinness 5-9 years  \\\n",
       "count             2904.000000          2904.000000   \n",
       "unique                    NaN                  NaN   \n",
       "top                       NaN                  NaN   \n",
       "freq                      NaN                  NaN   \n",
       "mean                 4.839704             4.870317   \n",
       "std                  4.420195             4.508882   \n",
       "min                  0.100000             0.100000   \n",
       "25%                  1.600000             1.500000   \n",
       "50%                  3.300000             3.300000   \n",
       "75%                  7.200000             7.200000   \n",
       "max                 27.700000            28.600000   \n",
       "\n",
       "        Income composition of resources    Schooling  \n",
       "count                       2771.000000  2775.000000  \n",
       "unique                              NaN          NaN  \n",
       "top                                 NaN          NaN  \n",
       "freq                                NaN          NaN  \n",
       "mean                           0.627551    11.992793  \n",
       "std                            0.210904     3.358920  \n",
       "min                            0.000000     0.000000  \n",
       "25%                            0.493000    10.100000  \n",
       "50%                            0.677000    12.300000  \n",
       "75%                            0.779000    14.300000  \n",
       "max                            0.948000    20.700000  \n",
       "\n",
       "[11 rows x 22 columns]"
      ]
     },
     "execution_count": 7,
     "metadata": {},
     "output_type": "execute_result"
    }
   ],
   "source": [
    "data.describe(include='all')"
   ]
  },
  {
   "cell_type": "code",
   "execution_count": 8,
   "metadata": {},
   "outputs": [
    {
     "data": {
      "text/plain": [
       "Index(['Country', 'Year', 'Status', 'Life expectancy ', 'Adult Mortality',\n",
       "       'infant deaths', 'Alcohol', 'percentage expenditure', 'Hepatitis B',\n",
       "       'Measles ', ' BMI ', 'under-five deaths ', 'Polio', 'Total expenditure',\n",
       "       'Diphtheria ', ' HIV/AIDS', 'GDP', 'Population',\n",
       "       ' thinness  1-19 years', ' thinness 5-9 years',\n",
       "       'Income composition of resources', 'Schooling'],\n",
       "      dtype='object')"
      ]
     },
     "execution_count": 8,
     "metadata": {},
     "output_type": "execute_result"
    }
   ],
   "source": [
    "data.columns"
   ]
  },
  {
   "cell_type": "code",
   "execution_count": 9,
   "metadata": {},
   "outputs": [
    {
     "name": "stdout",
     "output_type": "stream",
     "text": [
      "[1, 2, 3, 4]\n"
     ]
    }
   ],
   "source": [
    "ls = [1, 2, 3]\n",
    "ls.append(4)\n",
    "print(ls)"
   ]
  },
  {
   "cell_type": "code",
   "execution_count": 10,
   "metadata": {},
   "outputs": [
    {
     "name": "stdout",
     "output_type": "stream",
     "text": [
      "None\n"
     ]
    }
   ],
   "source": [
    "ls = [1, 2, 3]\n",
    "ls = ls.append(4)\n",
    "print(ls)"
   ]
  },
  {
   "cell_type": "code",
   "execution_count": null,
   "metadata": {},
   "outputs": [],
   "source": [
    "# syntax to rename columns\n",
    "# data.rename(columns={'old_col':'new_col'}, inplace=True)\n",
    "# data = data.rename(columns={'old_col':'new_col'})"
   ]
  },
  {
   "cell_type": "code",
   "execution_count": 11,
   "metadata": {},
   "outputs": [],
   "source": [
    "data.columns = ['COUNTRY', 'YEAR', 'STATUS', 'LIFE_EXPECTANCY', 'ADULT_MORTALITY', 'INFANT_DEATHS', 'ALCOHOL', 'P_EXP',\n",
    "                'HP_B', 'MEASLES', 'BMI', 'UNDER_5_DEATHS', 'POLIO', 'TOTAL_EXP', 'DIPHTHERIA', 'HIV', 'GDP', 'POPULATION',\n",
    "                'THINNESS_1-19_YEARS', 'THINNESS_5-9_YEARS', 'INCOME_COMP', 'SCHOOLING']"
   ]
  },
  {
   "cell_type": "code",
   "execution_count": 12,
   "metadata": {},
   "outputs": [
    {
     "data": {
      "text/html": [
       "<div>\n",
       "<style scoped>\n",
       "    .dataframe tbody tr th:only-of-type {\n",
       "        vertical-align: middle;\n",
       "    }\n",
       "\n",
       "    .dataframe tbody tr th {\n",
       "        vertical-align: top;\n",
       "    }\n",
       "\n",
       "    .dataframe thead th {\n",
       "        text-align: right;\n",
       "    }\n",
       "</style>\n",
       "<table border=\"1\" class=\"dataframe\">\n",
       "  <thead>\n",
       "    <tr style=\"text-align: right;\">\n",
       "      <th></th>\n",
       "      <th>COUNTRY</th>\n",
       "      <th>YEAR</th>\n",
       "      <th>STATUS</th>\n",
       "      <th>LIFE_EXPECTANCY</th>\n",
       "      <th>ADULT_MORTALITY</th>\n",
       "      <th>INFANT_DEATHS</th>\n",
       "      <th>ALCOHOL</th>\n",
       "      <th>P_EXP</th>\n",
       "      <th>HP_B</th>\n",
       "      <th>MEASLES</th>\n",
       "      <th>...</th>\n",
       "      <th>POLIO</th>\n",
       "      <th>TOTAL_EXP</th>\n",
       "      <th>DIPHTHERIA</th>\n",
       "      <th>HIV</th>\n",
       "      <th>GDP</th>\n",
       "      <th>POPULATION</th>\n",
       "      <th>THINNESS_1-19_YEARS</th>\n",
       "      <th>THINNESS_5-9_YEARS</th>\n",
       "      <th>INCOME_COMP</th>\n",
       "      <th>SCHOOLING</th>\n",
       "    </tr>\n",
       "  </thead>\n",
       "  <tbody>\n",
       "    <tr>\n",
       "      <th>0</th>\n",
       "      <td>Afghanistan</td>\n",
       "      <td>2015</td>\n",
       "      <td>Developing</td>\n",
       "      <td>65.0</td>\n",
       "      <td>263.0</td>\n",
       "      <td>62</td>\n",
       "      <td>0.01</td>\n",
       "      <td>71.279624</td>\n",
       "      <td>65.0</td>\n",
       "      <td>1154</td>\n",
       "      <td>...</td>\n",
       "      <td>6.0</td>\n",
       "      <td>8.16</td>\n",
       "      <td>65.0</td>\n",
       "      <td>0.1</td>\n",
       "      <td>584.259210</td>\n",
       "      <td>33736494.0</td>\n",
       "      <td>17.2</td>\n",
       "      <td>17.3</td>\n",
       "      <td>0.479</td>\n",
       "      <td>10.1</td>\n",
       "    </tr>\n",
       "    <tr>\n",
       "      <th>1</th>\n",
       "      <td>Afghanistan</td>\n",
       "      <td>2014</td>\n",
       "      <td>Developing</td>\n",
       "      <td>59.9</td>\n",
       "      <td>271.0</td>\n",
       "      <td>64</td>\n",
       "      <td>0.01</td>\n",
       "      <td>73.523582</td>\n",
       "      <td>62.0</td>\n",
       "      <td>492</td>\n",
       "      <td>...</td>\n",
       "      <td>58.0</td>\n",
       "      <td>8.18</td>\n",
       "      <td>62.0</td>\n",
       "      <td>0.1</td>\n",
       "      <td>612.696514</td>\n",
       "      <td>327582.0</td>\n",
       "      <td>17.5</td>\n",
       "      <td>17.5</td>\n",
       "      <td>0.476</td>\n",
       "      <td>10.0</td>\n",
       "    </tr>\n",
       "    <tr>\n",
       "      <th>2</th>\n",
       "      <td>Afghanistan</td>\n",
       "      <td>2013</td>\n",
       "      <td>Developing</td>\n",
       "      <td>59.9</td>\n",
       "      <td>268.0</td>\n",
       "      <td>66</td>\n",
       "      <td>0.01</td>\n",
       "      <td>73.219243</td>\n",
       "      <td>64.0</td>\n",
       "      <td>430</td>\n",
       "      <td>...</td>\n",
       "      <td>62.0</td>\n",
       "      <td>8.13</td>\n",
       "      <td>64.0</td>\n",
       "      <td>0.1</td>\n",
       "      <td>631.744976</td>\n",
       "      <td>31731688.0</td>\n",
       "      <td>17.7</td>\n",
       "      <td>17.7</td>\n",
       "      <td>0.470</td>\n",
       "      <td>9.9</td>\n",
       "    </tr>\n",
       "    <tr>\n",
       "      <th>3</th>\n",
       "      <td>Afghanistan</td>\n",
       "      <td>2012</td>\n",
       "      <td>Developing</td>\n",
       "      <td>59.5</td>\n",
       "      <td>272.0</td>\n",
       "      <td>69</td>\n",
       "      <td>0.01</td>\n",
       "      <td>78.184215</td>\n",
       "      <td>67.0</td>\n",
       "      <td>2787</td>\n",
       "      <td>...</td>\n",
       "      <td>67.0</td>\n",
       "      <td>8.52</td>\n",
       "      <td>67.0</td>\n",
       "      <td>0.1</td>\n",
       "      <td>669.959000</td>\n",
       "      <td>3696958.0</td>\n",
       "      <td>17.9</td>\n",
       "      <td>18.0</td>\n",
       "      <td>0.463</td>\n",
       "      <td>9.8</td>\n",
       "    </tr>\n",
       "    <tr>\n",
       "      <th>4</th>\n",
       "      <td>Afghanistan</td>\n",
       "      <td>2011</td>\n",
       "      <td>Developing</td>\n",
       "      <td>59.2</td>\n",
       "      <td>275.0</td>\n",
       "      <td>71</td>\n",
       "      <td>0.01</td>\n",
       "      <td>7.097109</td>\n",
       "      <td>68.0</td>\n",
       "      <td>3013</td>\n",
       "      <td>...</td>\n",
       "      <td>68.0</td>\n",
       "      <td>7.87</td>\n",
       "      <td>68.0</td>\n",
       "      <td>0.1</td>\n",
       "      <td>63.537231</td>\n",
       "      <td>2978599.0</td>\n",
       "      <td>18.2</td>\n",
       "      <td>18.2</td>\n",
       "      <td>0.454</td>\n",
       "      <td>9.5</td>\n",
       "    </tr>\n",
       "  </tbody>\n",
       "</table>\n",
       "<p>5 rows × 22 columns</p>\n",
       "</div>"
      ],
      "text/plain": [
       "       COUNTRY  YEAR      STATUS  LIFE_EXPECTANCY  ADULT_MORTALITY  \\\n",
       "0  Afghanistan  2015  Developing             65.0            263.0   \n",
       "1  Afghanistan  2014  Developing             59.9            271.0   \n",
       "2  Afghanistan  2013  Developing             59.9            268.0   \n",
       "3  Afghanistan  2012  Developing             59.5            272.0   \n",
       "4  Afghanistan  2011  Developing             59.2            275.0   \n",
       "\n",
       "   INFANT_DEATHS  ALCOHOL      P_EXP  HP_B  MEASLES  ...  POLIO  TOTAL_EXP  \\\n",
       "0             62     0.01  71.279624  65.0     1154  ...    6.0       8.16   \n",
       "1             64     0.01  73.523582  62.0      492  ...   58.0       8.18   \n",
       "2             66     0.01  73.219243  64.0      430  ...   62.0       8.13   \n",
       "3             69     0.01  78.184215  67.0     2787  ...   67.0       8.52   \n",
       "4             71     0.01   7.097109  68.0     3013  ...   68.0       7.87   \n",
       "\n",
       "   DIPHTHERIA  HIV         GDP  POPULATION  THINNESS_1-19_YEARS  \\\n",
       "0        65.0  0.1  584.259210  33736494.0                 17.2   \n",
       "1        62.0  0.1  612.696514    327582.0                 17.5   \n",
       "2        64.0  0.1  631.744976  31731688.0                 17.7   \n",
       "3        67.0  0.1  669.959000   3696958.0                 17.9   \n",
       "4        68.0  0.1   63.537231   2978599.0                 18.2   \n",
       "\n",
       "   THINNESS_5-9_YEARS  INCOME_COMP  SCHOOLING  \n",
       "0                17.3        0.479       10.1  \n",
       "1                17.5        0.476       10.0  \n",
       "2                17.7        0.470        9.9  \n",
       "3                18.0        0.463        9.8  \n",
       "4                18.2        0.454        9.5  \n",
       "\n",
       "[5 rows x 22 columns]"
      ]
     },
     "execution_count": 12,
     "metadata": {},
     "output_type": "execute_result"
    }
   ],
   "source": [
    "data.head()"
   ]
  },
  {
   "cell_type": "code",
   "execution_count": 13,
   "metadata": {},
   "outputs": [
    {
     "data": {
      "text/plain": [
       "10"
      ]
     },
     "execution_count": 13,
     "metadata": {},
     "output_type": "execute_result"
    }
   ],
   "source": [
    "data['LIFE_EXPECTANCY'].isnull().sum()"
   ]
  },
  {
   "cell_type": "code",
   "execution_count": 14,
   "metadata": {},
   "outputs": [
    {
     "data": {
      "text/plain": [
       "-0.6386047358773552"
      ]
     },
     "execution_count": 14,
     "metadata": {},
     "output_type": "execute_result"
    }
   ],
   "source": [
    "data['LIFE_EXPECTANCY'].skew()"
   ]
  },
  {
   "cell_type": "code",
   "execution_count": 15,
   "metadata": {},
   "outputs": [
    {
     "data": {
      "text/plain": [
       "-0.23447739417967428"
      ]
     },
     "execution_count": 15,
     "metadata": {},
     "output_type": "execute_result"
    }
   ],
   "source": [
    "data['LIFE_EXPECTANCY'].kurtosis()"
   ]
  },
  {
   "cell_type": "code",
   "execution_count": 16,
   "metadata": {},
   "outputs": [
    {
     "data": {
      "text/plain": [
       "<AxesSubplot: ylabel='Density'>"
      ]
     },
     "execution_count": 16,
     "metadata": {},
     "output_type": "execute_result"
    },
    {
     "data": {
      "image/png": "[encoded data removed]",
      "text/plain": [
       "<Figure size 432x288 with 1 Axes>"
      ]
     },
     "metadata": {
      "needs_background": "light"
     },
     "output_type": "display_data"
    }
   ],
   "source": [
    "data['LIFE_EXPECTANCY'].plot.kde()"
   ]
  },
  {
   "cell_type": "code",
   "execution_count": 17,
   "metadata": {},
   "outputs": [
    {
     "data": {
      "text/plain": [
       "Text(0.5, 0, 'LIFE_EXPECTANCY')"
      ]
     },
     "execution_count": 17,
     "metadata": {},
     "output_type": "execute_result"
    },
    {
     "data": {
      "image/png": "[encoded data removed]",
      "text/plain": [
       "<Figure size 432x288 with 1 Axes>"
      ]
     },
     "metadata": {
      "needs_background": "light"
     },
     "output_type": "display_data"
    }
   ],
   "source": [
    "\n",
    "sns.kdeplot(data['LIFE_EXPECTANCY'])\n",
    "plt.title('KDE plot for LIFE_EXPECTANCY')\n",
    "plt.xlabel(\"LIFE_EXPECTANCY\")"
   ]
  },
  {
   "cell_type": "code",
   "execution_count": 18,
   "metadata": {},
   "outputs": [
    {
     "data": {
      "text/plain": [
       "(69.22493169398908, 72.1)"
      ]
     },
     "execution_count": 18,
     "metadata": {},
     "output_type": "execute_result"
    }
   ],
   "source": [
    "data['LIFE_EXPECTANCY'].mean(), data['LIFE_EXPECTANCY'].median()"
   ]
  },
  {
   "attachments": {
    "image.png": {
     "image/png": "[encoded data removed]"
    }
   },
   "cell_type": "markdown",
   "metadata": {},
   "source": [
    "![image.png](attachment:image.png)"
   ]
  },
  {
   "attachments": {
    "image.png": {
     "image/png": "[encoded data removed]"
    }
   },
   "cell_type": "markdown",
   "metadata": {},
   "source": [
    "![image.png](attachment:image.png)"
   ]
  },
  {
   "attachments": {
    "image.png": {
     "image/png": "[encoded data removed]"
    }
   },
   "cell_type": "markdown",
   "metadata": {},
   "source": [
    "![image.png](attachment:image.png)"
   ]
  },
  {
   "cell_type": "markdown",
   "metadata": {},
   "source": [
    "### Create functions"
   ]
  },
  {
   "cell_type": "markdown",
   "metadata": {},
   "source": [
    "- Function can be helpful for perform repeated tasks."
   ]
  },
  {
   "cell_type": "code",
   "execution_count": 19,
   "metadata": {},
   "outputs": [
    {
     "data": {
      "text/plain": [
       "(86.73000000000002, 45.6)"
      ]
     },
     "execution_count": 19,
     "metadata": {},
     "output_type": "execute_result"
    }
   ],
   "source": [
    "data['LIFE_EXPECTANCY'].quantile(0.99), data['LIFE_EXPECTANCY'].quantile(0.01)"
   ]
  },
  {
   "cell_type": "code",
   "execution_count": 20,
   "metadata": {},
   "outputs": [],
   "source": [
    "def handle_nulls(df, col, impute_nulls = False, cap_outliers=False):\n",
    "    \"\"\"\n",
    "    For a continuous column, check the skewness, impute Null values based on distribution.\n",
    "    Also if required, cap the outliers on higher and lower ends with 99th and 1st quantile.\n",
    "    \"\"\"\n",
    "    try:\n",
    "        skw = df[col].skew()\n",
    "        print(f\"Col:{col}\\nNull values {df[col].isnull().sum()}\\nMean: {df[col].mean()}\\nMedian: {df[col].median()}\")\n",
    "        # kde plot for the given feature.\n",
    "        plt.figure(figsize=(8, 4))\n",
    "        plt.subplot(1, 2, 1) # rows columns index\n",
    "        sns.kdeplot(df[col])\n",
    "        plt.title(f'KDE plot for {col}')\n",
    "        plt.xlabel(f\"{col}\")\n",
    "        plt.subplot(1, 2, 2)\n",
    "        sns.boxplot(x=df[col])\n",
    "        plt.show()\n",
    "        if abs(skw)<=0.5:\n",
    "            print(f\"Skewness for {col} is {skw}, considering almost normal\")\n",
    "            if impute_nulls:\n",
    "                df.loc[df[col].isnull(), col] = df[col].mean()\n",
    "        else:\n",
    "            print(f\"Skewness for {col} is {skw}, skewness observed\")\n",
    "            if impute_nulls:\n",
    "                df.loc[df[col].isnull(), col] = df[col].median()\n",
    "        if cap_outliers:\n",
    "            df.loc[df[col]>df[col].quantile(0.99), col] = df[col].quantile(0.99)\n",
    "            df.loc[df[col]<df[col].quantile(0.01), col] = df[col].quantile(0.01)\n",
    "        return df\n",
    "    except Exception as e:\n",
    "        print(f\"Error in handle_nulls for {col} due to {e}\")"
   ]
  },
  {
   "cell_type": "code",
   "execution_count": 21,
   "metadata": {},
   "outputs": [
    {
     "data": {
      "text/plain": [
       "'\\n    For a continuous column, check the skewness, impute Null values based on distribution.\\n    Also if required, cap the outliers on higher and lower ends with 99th and 1st quantile.\\n    '"
      ]
     },
     "execution_count": 21,
     "metadata": {},
     "output_type": "execute_result"
    }
   ],
   "source": [
    "handle_nulls.__doc__"
   ]
  },
  {
   "cell_type": "code",
   "execution_count": 22,
   "metadata": {},
   "outputs": [
    {
     "name": "stdout",
     "output_type": "stream",
     "text": [
      "Col:LIFE_EXPECTANCY\n",
      "Null values 10\n",
      "Mean: 69.22493169398908\n",
      "Median: 72.1\n"
     ]
    },
    {
     "data": {
      "image/png": "[encoded data removed]",
      "text/plain": [
       "<Figure size 576x288 with 2 Axes>"
      ]
     },
     "metadata": {
      "needs_background": "light"
     },
     "output_type": "display_data"
    },
    {
     "name": "stdout",
     "output_type": "stream",
     "text": [
      "Skewness for LIFE_EXPECTANCY is -0.6386047358773552, skewness observed\n"
     ]
    }
   ],
   "source": [
    "data = handle_nulls(data, 'LIFE_EXPECTANCY', impute_nulls=True, cap_outliers=False)"
   ]
  },
  {
   "cell_type": "code",
   "execution_count": 23,
   "metadata": {},
   "outputs": [
    {
     "name": "stdout",
     "output_type": "stream",
     "text": [
      "Col:ADULT_MORTALITY\n",
      "Null values 10\n",
      "Mean: 164.79644808743168\n",
      "Median: 144.0\n"
     ]
    },
    {
     "data": {
      "image/png": "[encoded data removed]",
      "text/plain": [
       "<Figure size 576x288 with 2 Axes>"
      ]
     },
     "metadata": {
      "needs_background": "light"
     },
     "output_type": "display_data"
    },
    {
     "name": "stdout",
     "output_type": "stream",
     "text": [
      "Skewness for ADULT_MORTALITY is 1.1743694876948636, skewness observed\n"
     ]
    }
   ],
   "source": [
    "data = handle_nulls(data, 'ADULT_MORTALITY')"
   ]
  },
  {
   "cell_type": "code",
   "execution_count": 24,
   "metadata": {},
   "outputs": [
    {
     "name": "stdout",
     "output_type": "stream",
     "text": [
      "Col:ADULT_MORTALITY\n",
      "Null values 10\n",
      "Mean: 164.79644808743168\n",
      "Median: 144.0\n"
     ]
    },
    {
     "data": {
      "image/png": "[encoded data removed]",
      "text/plain": [
       "<Figure size 576x288 with 2 Axes>"
      ]
     },
     "metadata": {
      "needs_background": "light"
     },
     "output_type": "display_data"
    },
    {
     "name": "stdout",
     "output_type": "stream",
     "text": [
      "Skewness for ADULT_MORTALITY is 1.1743694876948636, skewness observed\n"
     ]
    }
   ],
   "source": [
    "data = handle_nulls(data, 'ADULT_MORTALITY', impute_nulls=True, cap_outliers=True)"
   ]
  },
  {
   "cell_type": "code",
   "execution_count": 25,
   "metadata": {},
   "outputs": [
    {
     "name": "stdout",
     "output_type": "stream",
     "text": [
      "Col:ADULT_MORTALITY\n",
      "Null values 0\n",
      "Mean: 164.14714091218517\n",
      "Median: 144.0\n"
     ]
    },
    {
     "data": {
      "image/png": "[encoded data removed]",
      "text/plain": [
       "<Figure size 576x288 with 2 Axes>"
      ]
     },
     "metadata": {
      "needs_background": "light"
     },
     "output_type": "display_data"
    },
    {
     "name": "stdout",
     "output_type": "stream",
     "text": [
      "Skewness for ADULT_MORTALITY is 1.044908649978283, skewness observed\n"
     ]
    }
   ],
   "source": [
    "data = handle_nulls(data, 'ADULT_MORTALITY', impute_nulls=True, cap_outliers=True)"
   ]
  },
  {
   "cell_type": "markdown",
   "metadata": {},
   "source": [
    "When the distribution is not normal after capping the outliers, we can try applying transformations like sqrt/log etc.\n",
    "For now we skip this."
   ]
  },
  {
   "cell_type": "markdown",
   "metadata": {},
   "source": [
    "### Handle nulls and outliers for all continuous columns"
   ]
  },
  {
   "cell_type": "code",
   "execution_count": 26,
   "metadata": {},
   "outputs": [],
   "source": [
    "cols = ['ALCOHOL', 'P_EXP', 'HP_B', 'MEASLES', 'BMI', 'UNDER_5_DEATHS', 'POLIO',\n",
    "        'TOTAL_EXP', 'DIPHTHERIA', 'HIV', 'GDP', 'POPULATION', 'THINNESS_1-19_YEARS',\n",
    "        'THINNESS_5-9_YEARS', 'INCOME_COMP', 'SCHOOLING']"
   ]
  },
  {
   "cell_type": "code",
   "execution_count": 27,
   "metadata": {},
   "outputs": [
    {
     "name": "stdout",
     "output_type": "stream",
     "text": [
      "Col:ALCOHOL\n",
      "Null values 194\n",
      "Mean: 4.602860787172012\n",
      "Median: 3.755\n"
     ]
    },
    {
     "data": {
      "image/png": "[encoded data removed]",
      "text/plain": [
       "<Figure size 576x288 with 2 Axes>"
      ]
     },
     "metadata": {
      "needs_background": "light"
     },
     "output_type": "display_data"
    },
    {
     "name": "stdout",
     "output_type": "stream",
     "text": [
      "Skewness for ALCOHOL is 0.5895625281160799, skewness observed\n",
      "Col:P_EXP\n",
      "Null values 0\n",
      "Mean: 738.2512954533831\n",
      "Median: 64.912906045\n"
     ]
    },
    {
     "data": {
      "image/png": "[encoded data removed]",
      "text/plain": [
       "<Figure size 576x288 with 2 Axes>"
      ]
     },
     "metadata": {
      "needs_background": "light"
     },
     "output_type": "display_data"
    },
    {
     "name": "stdout",
     "output_type": "stream",
     "text": [
      "Skewness for P_EXP is 4.6520513478350605, skewness observed\n",
      "Col:HP_B\n",
      "Null values 553\n",
      "Mean: 80.94046121593291\n",
      "Median: 92.0\n"
     ]
    },
    {
     "data": {
      "image/png": "[encoded data removed]",
      "text/plain": [
       "<Figure size 576x288 with 2 Axes>"
      ]
     },
     "metadata": {
      "needs_background": "light"
     },
     "output_type": "display_data"
    },
    {
     "name": "stdout",
     "output_type": "stream",
     "text": [
      "Skewness for HP_B is -1.9308451037678318, skewness observed\n",
      "Col:MEASLES\n",
      "Null values 0\n",
      "Mean: 2419.5922396187884\n",
      "Median: 17.0\n"
     ]
    },
    {
     "data": {
      "image/png": "[encoded data removed]",
      "text/plain": [
       "<Figure size 576x288 with 2 Axes>"
      ]
     },
     "metadata": {
      "needs_background": "light"
     },
     "output_type": "display_data"
    },
    {
     "name": "stdout",
     "output_type": "stream",
     "text": [
      "Skewness for MEASLES is 9.441331947061583, skewness observed\n",
      "Col:BMI\n",
      "Null values 34\n",
      "Mean: 38.321246556473824\n",
      "Median: 43.5\n"
     ]
    },
    {
     "data": {
      "image/png": "[encoded data removed]",
      "text/plain": [
       "<Figure size 576x288 with 2 Axes>"
      ]
     },
     "metadata": {
      "needs_background": "light"
     },
     "output_type": "display_data"
    },
    {
     "name": "stdout",
     "output_type": "stream",
     "text": [
      "Skewness for BMI is -0.219311603419775, considering almost normal\n",
      "Col:UNDER_5_DEATHS\n",
      "Null values 0\n",
      "Mean: 42.0357385976855\n",
      "Median: 4.0\n"
     ]
    },
    {
     "data": {
      "image/png": "[encoded data removed]",
      "text/plain": [
       "<Figure size 576x288 with 2 Axes>"
      ]
     },
     "metadata": {
      "needs_background": "light"
     },
     "output_type": "display_data"
    },
    {
     "name": "stdout",
     "output_type": "stream",
     "text": [
      "Skewness for UNDER_5_DEATHS is 9.495064656961773, skewness observed\n",
      "Col:POLIO\n",
      "Null values 19\n",
      "Mean: 82.55018842069202\n",
      "Median: 93.0\n"
     ]
    },
    {
     "data": {
      "image/png": "[encoded data removed]",
      "text/plain": [
       "<Figure size 576x288 with 2 Axes>"
      ]
     },
     "metadata": {
      "needs_background": "light"
     },
     "output_type": "display_data"
    },
    {
     "name": "stdout",
     "output_type": "stream",
     "text": [
      "Skewness for POLIO is -2.0980532489729056, skewness observed\n",
      "Col:TOTAL_EXP\n",
      "Null values 226\n",
      "Mean: 5.9381895280235995\n",
      "Median: 5.755\n"
     ]
    },
    {
     "data": {
      "image/png": "[encoded data removed]",
      "text/plain": [
       "<Figure size 576x288 with 2 Axes>"
      ]
     },
     "metadata": {
      "needs_background": "light"
     },
     "output_type": "display_data"
    },
    {
     "name": "stdout",
     "output_type": "stream",
     "text": [
      "Skewness for TOTAL_EXP is 0.6186855520639749, skewness observed\n",
      "Col:DIPHTHERIA\n",
      "Null values 19\n",
      "Mean: 82.32408359027065\n",
      "Median: 93.0\n"
     ]
    },
    {
     "data": {
      "image/png": "[encoded data removed]",
      "text/plain": [
       "<Figure size 576x288 with 2 Axes>"
      ]
     },
     "metadata": {
      "needs_background": "light"
     },
     "output_type": "display_data"
    },
    {
     "name": "stdout",
     "output_type": "stream",
     "text": [
      "Skewness for DIPHTHERIA is -2.0727529292965605, skewness observed\n",
      "Col:HIV\n",
      "Null values 0\n",
      "Mean: 1.7421034717494894\n",
      "Median: 0.1\n"
     ]
    },
    {
     "data": {
      "image/png": "[encoded data removed]",
      "text/plain": [
       "<Figure size 576x288 with 2 Axes>"
      ]
     },
     "metadata": {
      "needs_background": "light"
     },
     "output_type": "display_data"
    },
    {
     "name": "stdout",
     "output_type": "stream",
     "text": [
      "Skewness for HIV is 5.396112042126371, skewness observed\n",
      "Col:GDP\n",
      "Null values 448\n",
      "Mean: 7483.158469138474\n",
      "Median: 1766.947595\n"
     ]
    },
    {
     "data": {
      "image/png": "[encoded data removed]",
      "text/plain": [
       "<Figure size 576x288 with 2 Axes>"
      ]
     },
     "metadata": {
      "needs_background": "light"
     },
     "output_type": "display_data"
    },
    {
     "name": "stdout",
     "output_type": "stream",
     "text": [
      "Skewness for GDP is 3.2066548698696393, skewness observed\n",
      "Col:POPULATION\n",
      "Null values 652\n",
      "Mean: 12753375.120052494\n",
      "Median: 1386542.0\n"
     ]
    },
    {
     "data": {
      "image/png": "[encoded data removed]",
      "text/plain": [
       "<Figure size 576x288 with 2 Axes>"
      ]
     },
     "metadata": {
      "needs_background": "light"
     },
     "output_type": "display_data"
    },
    {
     "name": "stdout",
     "output_type": "stream",
     "text": [
      "Skewness for POPULATION is 15.916235598428203, skewness observed\n",
      "Col:THINNESS_1-19_YEARS\n",
      "Null values 34\n",
      "Mean: 4.839703856749312\n",
      "Median: 3.3\n"
     ]
    },
    {
     "data": {
      "image/png": "[encoded data removed]",
      "text/plain": [
       "<Figure size 576x288 with 2 Axes>"
      ]
     },
     "metadata": {
      "needs_background": "light"
     },
     "output_type": "display_data"
    },
    {
     "name": "stdout",
     "output_type": "stream",
     "text": [
      "Skewness for THINNESS_1-19_YEARS is 1.7114710881233637, skewness observed\n",
      "Col:THINNESS_5-9_YEARS\n",
      "Null values 34\n",
      "Mean: 4.870316804407714\n",
      "Median: 3.3\n"
     ]
    },
    {
     "data": {
      "image/png": "[encoded data removed]",
      "text/plain": [
       "<Figure size 576x288 with 2 Axes>"
      ]
     },
     "metadata": {
      "needs_background": "light"
     },
     "output_type": "display_data"
    },
    {
     "name": "stdout",
     "output_type": "stream",
     "text": [
      "Skewness for THINNESS_5-9_YEARS is 1.777423977376571, skewness observed\n",
      "Col:INCOME_COMP\n",
      "Null values 167\n",
      "Mean: 0.6275510645976182\n",
      "Median: 0.677\n"
     ]
    },
    {
     "data": {
      "image/png": "[encoded data removed]",
      "text/plain": [
       "<Figure size 576x288 with 2 Axes>"
      ]
     },
     "metadata": {
      "needs_background": "light"
     },
     "output_type": "display_data"
    },
    {
     "name": "stdout",
     "output_type": "stream",
     "text": [
      "Skewness for INCOME_COMP is -1.143762720185521, skewness observed\n",
      "Col:SCHOOLING\n",
      "Null values 163\n",
      "Mean: 11.992792792792793\n",
      "Median: 12.3\n"
     ]
    },
    {
     "data": {
      "image/png": "[encoded data removed]",
      "text/plain": [
       "<Figure size 576x288 with 2 Axes>"
      ]
     },
     "metadata": {
      "needs_background": "light"
     },
     "output_type": "display_data"
    },
    {
     "name": "stdout",
     "output_type": "stream",
     "text": [
      "Skewness for SCHOOLING is -0.6024365418785147, skewness observed\n"
     ]
    }
   ],
   "source": [
    "for col in cols:\n",
    "    data = handle_nulls(data, col, impute_nulls=True, cap_outliers=True)"
   ]
  },
  {
   "cell_type": "code",
   "execution_count": 28,
   "metadata": {},
   "outputs": [
    {
     "data": {
      "text/plain": [
       "COUNTRY                0\n",
       "YEAR                   0\n",
       "STATUS                 0\n",
       "LIFE_EXPECTANCY        0\n",
       "ADULT_MORTALITY        0\n",
       "INFANT_DEATHS          0\n",
       "ALCOHOL                0\n",
       "P_EXP                  0\n",
       "HP_B                   0\n",
       "MEASLES                0\n",
       "BMI                    0\n",
       "UNDER_5_DEATHS         0\n",
       "POLIO                  0\n",
       "TOTAL_EXP              0\n",
       "DIPHTHERIA             0\n",
       "HIV                    0\n",
       "GDP                    0\n",
       "POPULATION             0\n",
       "THINNESS_1-19_YEARS    0\n",
       "THINNESS_5-9_YEARS     0\n",
       "INCOME_COMP            0\n",
       "SCHOOLING              0\n",
       "dtype: int64"
      ]
     },
     "execution_count": 28,
     "metadata": {},
     "output_type": "execute_result"
    }
   ],
   "source": [
    "data.isnull().sum()"
   ]
  },
  {
   "cell_type": "markdown",
   "metadata": {},
   "source": [
    "### Convert categorical to numerical"
   ]
  },
  {
   "cell_type": "code",
   "execution_count": 29,
   "metadata": {},
   "outputs": [
    {
     "data": {
      "text/plain": [
       "array([2015, 2014, 2013, 2012, 2011, 2010, 2009, 2008, 2007, 2006, 2005,\n",
       "       2004, 2003, 2002, 2001, 2000], dtype=int64)"
      ]
     },
     "execution_count": 29,
     "metadata": {},
     "output_type": "execute_result"
    }
   ],
   "source": [
    "data['YEAR'].unique()"
   ]
  },
  {
   "cell_type": "code",
   "execution_count": 30,
   "metadata": {},
   "outputs": [
    {
     "data": {
      "text/plain": [
       "array(['Afghanistan', 'Albania', 'Algeria', 'Angola',\n",
       "       'Antigua and Barbuda', 'Argentina', 'Armenia', 'Australia',\n",
       "       'Austria', 'Azerbaijan', 'Bahamas', 'Bahrain', 'Bangladesh',\n",
       "       'Barbados', 'Belarus', 'Belgium', 'Belize', 'Benin', 'Bhutan',\n",
       "       'Bolivia (Plurinational State of)', 'Bosnia and Herzegovina',\n",
       "       'Botswana', 'Brazil', 'Brunei Darussalam', 'Bulgaria',\n",
       "       'Burkina Faso', 'Burundi', \"Côte d'Ivoire\", 'Cabo Verde',\n",
       "       'Cambodia', 'Cameroon', 'Canada', 'Central African Republic',\n",
       "       'Chad', 'Chile', 'China', 'Colombia', 'Comoros', 'Congo',\n",
       "       'Cook Islands', 'Costa Rica', 'Croatia', 'Cuba', 'Cyprus',\n",
       "       'Czechia', \"Democratic People's Republic of Korea\",\n",
       "       'Democratic Republic of the Congo', 'Denmark', 'Djibouti',\n",
       "       'Dominica', 'Dominican Republic', 'Ecuador', 'Egypt',\n",
       "       'El Salvador', 'Equatorial Guinea', 'Eritrea', 'Estonia',\n",
       "       'Ethiopia', 'Fiji', 'Finland', 'France', 'Gabon', 'Gambia',\n",
       "       'Georgia', 'Germany', 'Ghana', 'Greece', 'Grenada', 'Guatemala',\n",
       "       'Guinea', 'Guinea-Bissau', 'Guyana', 'Haiti', 'Honduras',\n",
       "       'Hungary', 'Iceland', 'India', 'Indonesia',\n",
       "       'Iran (Islamic Republic of)', 'Iraq', 'Ireland', 'Israel', 'Italy',\n",
       "       'Jamaica', 'Japan', 'Jordan', 'Kazakhstan', 'Kenya', 'Kiribati',\n",
       "       'Kuwait', 'Kyrgyzstan', \"Lao People's Democratic Republic\",\n",
       "       'Latvia', 'Lebanon', 'Lesotho', 'Liberia', 'Libya', 'Lithuania',\n",
       "       'Luxembourg', 'Madagascar', 'Malawi', 'Malaysia', 'Maldives',\n",
       "       'Mali', 'Malta', 'Marshall Islands', 'Mauritania', 'Mauritius',\n",
       "       'Mexico', 'Micronesia (Federated States of)', 'Monaco', 'Mongolia',\n",
       "       'Montenegro', 'Morocco', 'Mozambique', 'Myanmar', 'Namibia',\n",
       "       'Nauru', 'Nepal', 'Netherlands', 'New Zealand', 'Nicaragua',\n",
       "       'Niger', 'Nigeria', 'Niue', 'Norway', 'Oman', 'Pakistan', 'Palau',\n",
       "       'Panama', 'Papua New Guinea', 'Paraguay', 'Peru', 'Philippines',\n",
       "       'Poland', 'Portugal', 'Qatar', 'Republic of Korea',\n",
       "       'Republic of Moldova', 'Romania', 'Russian Federation', 'Rwanda',\n",
       "       'Saint Kitts and Nevis', 'Saint Lucia',\n",
       "       'Saint Vincent and the Grenadines', 'Samoa', 'San Marino',\n",
       "       'Sao Tome and Principe', 'Saudi Arabia', 'Senegal', 'Serbia',\n",
       "       'Seychelles', 'Sierra Leone', 'Singapore', 'Slovakia', 'Slovenia',\n",
       "       'Solomon Islands', 'Somalia', 'South Africa', 'South Sudan',\n",
       "       'Spain', 'Sri Lanka', 'Sudan', 'Suriname', 'Swaziland', 'Sweden',\n",
       "       'Switzerland', 'Syrian Arab Republic', 'Tajikistan', 'Thailand',\n",
       "       'The former Yugoslav republic of Macedonia', 'Timor-Leste', 'Togo',\n",
       "       'Tonga', 'Trinidad and Tobago', 'Tunisia', 'Turkey',\n",
       "       'Turkmenistan', 'Tuvalu', 'Uganda', 'Ukraine',\n",
       "       'United Arab Emirates',\n",
       "       'United Kingdom of Great Britain and Northern Ireland',\n",
       "       'United Republic of Tanzania', 'United States of America',\n",
       "       'Uruguay', 'Uzbekistan', 'Vanuatu',\n",
       "       'Venezuela (Bolivarian Republic of)', 'Viet Nam', 'Yemen',\n",
       "       'Zambia', 'Zimbabwe'], dtype=object)"
      ]
     },
     "execution_count": 30,
     "metadata": {},
     "output_type": "execute_result"
    }
   ],
   "source": [
    "data['COUNTRY'].unique()"
   ]
  },
  {
   "cell_type": "code",
   "execution_count": 31,
   "metadata": {},
   "outputs": [
    {
     "data": {
      "text/plain": [
       "array(['Developing', 'Developed'], dtype=object)"
      ]
     },
     "execution_count": 31,
     "metadata": {},
     "output_type": "execute_result"
    }
   ],
   "source": [
    "data['STATUS'].unique()"
   ]
  },
  {
   "cell_type": "code",
   "execution_count": 32,
   "metadata": {},
   "outputs": [],
   "source": [
    "label_cols = ['YEAR', 'COUNTRY']\n",
    "label_encoder = LabelEncoder()\n",
    "\n",
    "for col in label_cols:\n",
    "    data[col] = label_encoder.fit_transform(data[col].astype(str))"
   ]
  },
  {
   "cell_type": "code",
   "execution_count": 33,
   "metadata": {},
   "outputs": [],
   "source": [
    "data.loc[data['STATUS']=='Developing', 'STATUS'] = 0\n",
    "data.loc[data['STATUS']=='Developed', 'STATUS'] = 1\n",
    "data['STATUS'] = data['STATUS'].astype('category')"
   ]
  },
  {
   "cell_type": "code",
   "execution_count": 34,
   "metadata": {},
   "outputs": [
    {
     "data": {
      "text/html": [
       "<div>\n",
       "<style scoped>\n",
       "    .dataframe tbody tr th:only-of-type {\n",
       "        vertical-align: middle;\n",
       "    }\n",
       "\n",
       "    .dataframe tbody tr th {\n",
       "        vertical-align: top;\n",
       "    }\n",
       "\n",
       "    .dataframe thead th {\n",
       "        text-align: right;\n",
       "    }\n",
       "</style>\n",
       "<table border=\"1\" class=\"dataframe\">\n",
       "  <thead>\n",
       "    <tr style=\"text-align: right;\">\n",
       "      <th></th>\n",
       "      <th>COUNTRY</th>\n",
       "      <th>YEAR</th>\n",
       "      <th>STATUS</th>\n",
       "      <th>LIFE_EXPECTANCY</th>\n",
       "      <th>ADULT_MORTALITY</th>\n",
       "      <th>INFANT_DEATHS</th>\n",
       "      <th>ALCOHOL</th>\n",
       "      <th>P_EXP</th>\n",
       "      <th>HP_B</th>\n",
       "      <th>MEASLES</th>\n",
       "      <th>...</th>\n",
       "      <th>POLIO</th>\n",
       "      <th>TOTAL_EXP</th>\n",
       "      <th>DIPHTHERIA</th>\n",
       "      <th>HIV</th>\n",
       "      <th>GDP</th>\n",
       "      <th>POPULATION</th>\n",
       "      <th>THINNESS_1-19_YEARS</th>\n",
       "      <th>THINNESS_5-9_YEARS</th>\n",
       "      <th>INCOME_COMP</th>\n",
       "      <th>SCHOOLING</th>\n",
       "    </tr>\n",
       "  </thead>\n",
       "  <tbody>\n",
       "    <tr>\n",
       "      <th>0</th>\n",
       "      <td>0</td>\n",
       "      <td>15</td>\n",
       "      <td>0</td>\n",
       "      <td>65.0</td>\n",
       "      <td>263.0</td>\n",
       "      <td>62</td>\n",
       "      <td>0.01</td>\n",
       "      <td>71.279624</td>\n",
       "      <td>65.0</td>\n",
       "      <td>1154.0</td>\n",
       "      <td>...</td>\n",
       "      <td>6.0</td>\n",
       "      <td>8.16</td>\n",
       "      <td>65.0</td>\n",
       "      <td>0.1</td>\n",
       "      <td>584.259210</td>\n",
       "      <td>33736494.0</td>\n",
       "      <td>17.2</td>\n",
       "      <td>17.3</td>\n",
       "      <td>0.479</td>\n",
       "      <td>10.1</td>\n",
       "    </tr>\n",
       "    <tr>\n",
       "      <th>1</th>\n",
       "      <td>0</td>\n",
       "      <td>14</td>\n",
       "      <td>0</td>\n",
       "      <td>59.9</td>\n",
       "      <td>271.0</td>\n",
       "      <td>64</td>\n",
       "      <td>0.01</td>\n",
       "      <td>73.523582</td>\n",
       "      <td>62.0</td>\n",
       "      <td>492.0</td>\n",
       "      <td>...</td>\n",
       "      <td>58.0</td>\n",
       "      <td>8.18</td>\n",
       "      <td>62.0</td>\n",
       "      <td>0.1</td>\n",
       "      <td>612.696514</td>\n",
       "      <td>327582.0</td>\n",
       "      <td>17.5</td>\n",
       "      <td>17.5</td>\n",
       "      <td>0.476</td>\n",
       "      <td>10.0</td>\n",
       "    </tr>\n",
       "    <tr>\n",
       "      <th>2</th>\n",
       "      <td>0</td>\n",
       "      <td>13</td>\n",
       "      <td>0</td>\n",
       "      <td>59.9</td>\n",
       "      <td>268.0</td>\n",
       "      <td>66</td>\n",
       "      <td>0.01</td>\n",
       "      <td>73.219243</td>\n",
       "      <td>64.0</td>\n",
       "      <td>430.0</td>\n",
       "      <td>...</td>\n",
       "      <td>62.0</td>\n",
       "      <td>8.13</td>\n",
       "      <td>64.0</td>\n",
       "      <td>0.1</td>\n",
       "      <td>631.744976</td>\n",
       "      <td>31731688.0</td>\n",
       "      <td>17.7</td>\n",
       "      <td>17.7</td>\n",
       "      <td>0.470</td>\n",
       "      <td>9.9</td>\n",
       "    </tr>\n",
       "    <tr>\n",
       "      <th>3</th>\n",
       "      <td>0</td>\n",
       "      <td>12</td>\n",
       "      <td>0</td>\n",
       "      <td>59.5</td>\n",
       "      <td>272.0</td>\n",
       "      <td>69</td>\n",
       "      <td>0.01</td>\n",
       "      <td>78.184215</td>\n",
       "      <td>67.0</td>\n",
       "      <td>2787.0</td>\n",
       "      <td>...</td>\n",
       "      <td>67.0</td>\n",
       "      <td>8.52</td>\n",
       "      <td>67.0</td>\n",
       "      <td>0.1</td>\n",
       "      <td>669.959000</td>\n",
       "      <td>3696958.0</td>\n",
       "      <td>17.9</td>\n",
       "      <td>18.0</td>\n",
       "      <td>0.463</td>\n",
       "      <td>9.8</td>\n",
       "    </tr>\n",
       "    <tr>\n",
       "      <th>4</th>\n",
       "      <td>0</td>\n",
       "      <td>11</td>\n",
       "      <td>0</td>\n",
       "      <td>59.2</td>\n",
       "      <td>275.0</td>\n",
       "      <td>71</td>\n",
       "      <td>0.01</td>\n",
       "      <td>7.097109</td>\n",
       "      <td>68.0</td>\n",
       "      <td>3013.0</td>\n",
       "      <td>...</td>\n",
       "      <td>68.0</td>\n",
       "      <td>7.87</td>\n",
       "      <td>68.0</td>\n",
       "      <td>0.1</td>\n",
       "      <td>63.537231</td>\n",
       "      <td>2978599.0</td>\n",
       "      <td>18.2</td>\n",
       "      <td>18.2</td>\n",
       "      <td>0.454</td>\n",
       "      <td>9.5</td>\n",
       "    </tr>\n",
       "  </tbody>\n",
       "</table>\n",
       "<p>5 rows × 22 columns</p>\n",
       "</div>"
      ],
      "text/plain": [
       "   COUNTRY  YEAR STATUS  LIFE_EXPECTANCY  ADULT_MORTALITY  INFANT_DEATHS  \\\n",
       "0        0    15      0             65.0            263.0             62   \n",
       "1        0    14      0             59.9            271.0             64   \n",
       "2        0    13      0             59.9            268.0             66   \n",
       "3        0    12      0             59.5            272.0             69   \n",
       "4        0    11      0             59.2            275.0             71   \n",
       "\n",
       "   ALCOHOL      P_EXP  HP_B  MEASLES  ...  POLIO  TOTAL_EXP  DIPHTHERIA  HIV  \\\n",
       "0     0.01  71.279624  65.0   1154.0  ...    6.0       8.16        65.0  0.1   \n",
       "1     0.01  73.523582  62.0    492.0  ...   58.0       8.18        62.0  0.1   \n",
       "2     0.01  73.219243  64.0    430.0  ...   62.0       8.13        64.0  0.1   \n",
       "3     0.01  78.184215  67.0   2787.0  ...   67.0       8.52        67.0  0.1   \n",
       "4     0.01   7.097109  68.0   3013.0  ...   68.0       7.87        68.0  0.1   \n",
       "\n",
       "          GDP  POPULATION  THINNESS_1-19_YEARS  THINNESS_5-9_YEARS  \\\n",
       "0  584.259210  33736494.0                 17.2                17.3   \n",
       "1  612.696514    327582.0                 17.5                17.5   \n",
       "2  631.744976  31731688.0                 17.7                17.7   \n",
       "3  669.959000   3696958.0                 17.9                18.0   \n",
       "4   63.537231   2978599.0                 18.2                18.2   \n",
       "\n",
       "   INCOME_COMP  SCHOOLING  \n",
       "0        0.479       10.1  \n",
       "1        0.476       10.0  \n",
       "2        0.470        9.9  \n",
       "3        0.463        9.8  \n",
       "4        0.454        9.5  \n",
       "\n",
       "[5 rows x 22 columns]"
      ]
     },
     "execution_count": 34,
     "metadata": {},
     "output_type": "execute_result"
    }
   ],
   "source": [
    "data.head()"
   ]
  },
  {
   "cell_type": "markdown",
   "metadata": {},
   "source": [
    "### Draw X and y for applying model"
   ]
  },
  {
   "cell_type": "code",
   "execution_count": 35,
   "metadata": {},
   "outputs": [],
   "source": [
    "X = data.drop('LIFE_EXPECTANCY', axis=1)\n",
    "y = data['LIFE_EXPECTANCY']"
   ]
  },
  {
   "cell_type": "code",
   "execution_count": 36,
   "metadata": {},
   "outputs": [],
   "source": [
    "cont_cols = [col for col in data.columns if not col in ['COUNTRY', 'YEAR', 'STATUS', 'LIFE_EXPECTANCY']]\n",
    "scaler = StandardScaler()\n",
    "scaler.fit(X[cont_cols])\n",
    "\n",
    "X[cont_cols] = scaler.transform(X[cont_cols])"
   ]
  },
  {
   "cell_type": "code",
   "execution_count": 37,
   "metadata": {},
   "outputs": [
    {
     "data": {
      "text/html": [
       "<div>\n",
       "<style scoped>\n",
       "    .dataframe tbody tr th:only-of-type {\n",
       "        vertical-align: middle;\n",
       "    }\n",
       "\n",
       "    .dataframe tbody tr th {\n",
       "        vertical-align: top;\n",
       "    }\n",
       "\n",
       "    .dataframe thead th {\n",
       "        text-align: right;\n",
       "    }\n",
       "</style>\n",
       "<table border=\"1\" class=\"dataframe\">\n",
       "  <thead>\n",
       "    <tr style=\"text-align: right;\">\n",
       "      <th></th>\n",
       "      <th>COUNTRY</th>\n",
       "      <th>YEAR</th>\n",
       "      <th>STATUS</th>\n",
       "      <th>ADULT_MORTALITY</th>\n",
       "      <th>INFANT_DEATHS</th>\n",
       "      <th>ALCOHOL</th>\n",
       "      <th>P_EXP</th>\n",
       "      <th>HP_B</th>\n",
       "      <th>MEASLES</th>\n",
       "      <th>BMI</th>\n",
       "      <th>...</th>\n",
       "      <th>POLIO</th>\n",
       "      <th>TOTAL_EXP</th>\n",
       "      <th>DIPHTHERIA</th>\n",
       "      <th>HIV</th>\n",
       "      <th>GDP</th>\n",
       "      <th>POPULATION</th>\n",
       "      <th>THINNESS_1-19_YEARS</th>\n",
       "      <th>THINNESS_5-9_YEARS</th>\n",
       "      <th>INCOME_COMP</th>\n",
       "      <th>SCHOOLING</th>\n",
       "    </tr>\n",
       "  </thead>\n",
       "  <tbody>\n",
       "    <tr>\n",
       "      <th>0</th>\n",
       "      <td>0</td>\n",
       "      <td>15</td>\n",
       "      <td>0</td>\n",
       "      <td>0.812453</td>\n",
       "      <td>0.268824</td>\n",
       "      <td>-1.163857</td>\n",
       "      <td>-0.359809</td>\n",
       "      <td>-0.785881</td>\n",
       "      <td>-0.114889</td>\n",
       "      <td>-0.966642</td>\n",
       "      <td>...</td>\n",
       "      <td>-3.288307</td>\n",
       "      <td>0.974058</td>\n",
       "      <td>-0.737852</td>\n",
       "      <td>-0.351018</td>\n",
       "      <td>-0.478074</td>\n",
       "      <td>1.190790</td>\n",
       "      <td>2.960000</td>\n",
       "      <td>2.929392</td>\n",
       "      <td>-0.738010</td>\n",
       "      <td>-0.611537</td>\n",
       "    </tr>\n",
       "    <tr>\n",
       "      <th>1</th>\n",
       "      <td>0</td>\n",
       "      <td>14</td>\n",
       "      <td>0</td>\n",
       "      <td>0.878192</td>\n",
       "      <td>0.285786</td>\n",
       "      <td>-1.163857</td>\n",
       "      <td>-0.358533</td>\n",
       "      <td>-0.916606</td>\n",
       "      <td>-0.203943</td>\n",
       "      <td>-0.991834</td>\n",
       "      <td>...</td>\n",
       "      <td>-1.057059</td>\n",
       "      <td>0.982691</td>\n",
       "      <td>-0.864994</td>\n",
       "      <td>-0.351018</td>\n",
       "      <td>-0.475744</td>\n",
       "      <td>-0.358739</td>\n",
       "      <td>3.031474</td>\n",
       "      <td>2.976266</td>\n",
       "      <td>-0.752647</td>\n",
       "      <td>-0.643219</td>\n",
       "    </tr>\n",
       "    <tr>\n",
       "      <th>2</th>\n",
       "      <td>0</td>\n",
       "      <td>13</td>\n",
       "      <td>0</td>\n",
       "      <td>0.853540</td>\n",
       "      <td>0.302749</td>\n",
       "      <td>-1.163857</td>\n",
       "      <td>-0.358706</td>\n",
       "      <td>-0.829456</td>\n",
       "      <td>-0.212284</td>\n",
       "      <td>-1.017027</td>\n",
       "      <td>...</td>\n",
       "      <td>-0.885425</td>\n",
       "      <td>0.961109</td>\n",
       "      <td>-0.780233</td>\n",
       "      <td>-0.351018</td>\n",
       "      <td>-0.474183</td>\n",
       "      <td>1.097806</td>\n",
       "      <td>3.079123</td>\n",
       "      <td>3.023140</td>\n",
       "      <td>-0.781921</td>\n",
       "      <td>-0.674901</td>\n",
       "    </tr>\n",
       "    <tr>\n",
       "      <th>3</th>\n",
       "      <td>0</td>\n",
       "      <td>12</td>\n",
       "      <td>0</td>\n",
       "      <td>0.886410</td>\n",
       "      <td>0.328193</td>\n",
       "      <td>-1.163857</td>\n",
       "      <td>-0.355883</td>\n",
       "      <td>-0.698730</td>\n",
       "      <td>0.104785</td>\n",
       "      <td>-1.042219</td>\n",
       "      <td>...</td>\n",
       "      <td>-0.670882</td>\n",
       "      <td>1.129449</td>\n",
       "      <td>-0.653091</td>\n",
       "      <td>-0.351018</td>\n",
       "      <td>-0.471052</td>\n",
       "      <td>-0.202465</td>\n",
       "      <td>3.126772</td>\n",
       "      <td>3.093451</td>\n",
       "      <td>-0.816073</td>\n",
       "      <td>-0.706582</td>\n",
       "    </tr>\n",
       "    <tr>\n",
       "      <th>4</th>\n",
       "      <td>0</td>\n",
       "      <td>11</td>\n",
       "      <td>0</td>\n",
       "      <td>0.911062</td>\n",
       "      <td>0.345155</td>\n",
       "      <td>-1.163857</td>\n",
       "      <td>-0.396297</td>\n",
       "      <td>-0.655155</td>\n",
       "      <td>0.135187</td>\n",
       "      <td>-1.062373</td>\n",
       "      <td>...</td>\n",
       "      <td>-0.627973</td>\n",
       "      <td>0.848883</td>\n",
       "      <td>-0.610710</td>\n",
       "      <td>-0.351018</td>\n",
       "      <td>-0.520737</td>\n",
       "      <td>-0.235783</td>\n",
       "      <td>3.198246</td>\n",
       "      <td>3.140325</td>\n",
       "      <td>-0.859983</td>\n",
       "      <td>-0.801627</td>\n",
       "    </tr>\n",
       "  </tbody>\n",
       "</table>\n",
       "<p>5 rows × 21 columns</p>\n",
       "</div>"
      ],
      "text/plain": [
       "   COUNTRY  YEAR STATUS  ADULT_MORTALITY  INFANT_DEATHS   ALCOHOL     P_EXP  \\\n",
       "0        0    15      0         0.812453       0.268824 -1.163857 -0.359809   \n",
       "1        0    14      0         0.878192       0.285786 -1.163857 -0.358533   \n",
       "2        0    13      0         0.853540       0.302749 -1.163857 -0.358706   \n",
       "3        0    12      0         0.886410       0.328193 -1.163857 -0.355883   \n",
       "4        0    11      0         0.911062       0.345155 -1.163857 -0.396297   \n",
       "\n",
       "       HP_B   MEASLES       BMI  ...     POLIO  TOTAL_EXP  DIPHTHERIA  \\\n",
       "0 -0.785881 -0.114889 -0.966642  ... -3.288307   0.974058   -0.737852   \n",
       "1 -0.916606 -0.203943 -0.991834  ... -1.057059   0.982691   -0.864994   \n",
       "2 -0.829456 -0.212284 -1.017027  ... -0.885425   0.961109   -0.780233   \n",
       "3 -0.698730  0.104785 -1.042219  ... -0.670882   1.129449   -0.653091   \n",
       "4 -0.655155  0.135187 -1.062373  ... -0.627973   0.848883   -0.610710   \n",
       "\n",
       "        HIV       GDP  POPULATION  THINNESS_1-19_YEARS  THINNESS_5-9_YEARS  \\\n",
       "0 -0.351018 -0.478074    1.190790             2.960000            2.929392   \n",
       "1 -0.351018 -0.475744   -0.358739             3.031474            2.976266   \n",
       "2 -0.351018 -0.474183    1.097806             3.079123            3.023140   \n",
       "3 -0.351018 -0.471052   -0.202465             3.126772            3.093451   \n",
       "4 -0.351018 -0.520737   -0.235783             3.198246            3.140325   \n",
       "\n",
       "   INCOME_COMP  SCHOOLING  \n",
       "0    -0.738010  -0.611537  \n",
       "1    -0.752647  -0.643219  \n",
       "2    -0.781921  -0.674901  \n",
       "3    -0.816073  -0.706582  \n",
       "4    -0.859983  -0.801627  \n",
       "\n",
       "[5 rows x 21 columns]"
      ]
     },
     "execution_count": 37,
     "metadata": {},
     "output_type": "execute_result"
    }
   ],
   "source": [
    "X.head()"
   ]
  },
  {
   "cell_type": "markdown",
   "metadata": {},
   "source": [
    "### Split data into train and validation sets"
   ]
  },
  {
   "cell_type": "code",
   "execution_count": 39,
   "metadata": {},
   "outputs": [],
   "source": [
    "X_train, X_val, y_train, y_val = train_test_split(X, y, random_state=104, train_size=0.80, shuffle=True)"
   ]
  },
  {
   "cell_type": "code",
   "execution_count": 40,
   "metadata": {},
   "outputs": [
    {
     "data": {
      "text/plain": [
       "((2350, 21), (588, 21), (2350,), (588,))"
      ]
     },
     "execution_count": 40,
     "metadata": {},
     "output_type": "execute_result"
    }
   ],
   "source": [
    "X_train.shape, X_val.shape, y_train.shape, y_val.shape"
   ]
  },
  {
   "cell_type": "markdown",
   "metadata": {},
   "source": [
    "# Modelling"
   ]
  },
  {
   "cell_type": "code",
   "execution_count": 41,
   "metadata": {},
   "outputs": [],
   "source": [
    "model = sm.OLS(y_train, X_train).fit()"
   ]
  },
  {
   "cell_type": "code",
   "execution_count": 42,
   "metadata": {},
   "outputs": [
    {
     "name": "stdout",
     "output_type": "stream",
     "text": [
      "                                 OLS Regression Results                                \n",
      "=======================================================================================\n",
      "Dep. Variable:        LIFE_EXPECTANCY   R-squared (uncentered):                   0.866\n",
      "Model:                            OLS   Adj. R-squared (uncentered):              0.865\n",
      "Method:                 Least Squares   F-statistic:                              715.2\n",
      "Date:                Sat, 27 Jul 2024   Prob (F-statistic):                        0.00\n",
      "Time:                        18:27:43   Log-Likelihood:                         -10958.\n",
      "No. Observations:                2350   AIC:                                  2.196e+04\n",
      "Df Residuals:                    2329   BIC:                                  2.208e+04\n",
      "Df Model:                          21                                                  \n",
      "Covariance Type:            nonrobust                                                  \n",
      "=======================================================================================\n",
      "                          coef    std err          t      P>|t|      [0.025      0.975]\n",
      "---------------------------------------------------------------------------------------\n",
      "COUNTRY                 0.2828      0.008     37.085      0.000       0.268       0.298\n",
      "YEAR                    3.8901      0.093     41.643      0.000       3.707       4.073\n",
      "STATUS                 20.3166      1.901     10.690      0.000      16.590      24.044\n",
      "ADULT_MORTALITY        -3.5534      0.720     -4.938      0.000      -4.964      -2.142\n",
      "INFANT_DEATHS           2.9308      1.201      2.440      0.015       0.576       5.286\n",
      "ALCOHOL                 2.7279      0.733      3.723      0.000       1.291       4.165\n",
      "P_EXP                   4.1013      1.252      3.276      0.001       1.646       6.556\n",
      "HP_B                   -0.0620      0.601     -0.103      0.918      -1.241       1.117\n",
      "MEASLES                 2.9673      0.698      4.252      0.000       1.599       4.336\n",
      "BMI                     0.8299      0.705      1.178      0.239      -0.552       2.212\n",
      "UNDER_5_DEATHS         -4.9344      1.283     -3.845      0.000      -7.451      -2.418\n",
      "POLIO                   0.7718      0.734      1.051      0.293      -0.668       2.212\n",
      "TOTAL_EXP              -3.3969      0.589     -5.765      0.000      -4.552      -2.241\n",
      "DIPHTHERIA             -0.1519      0.765     -0.199      0.843      -1.652       1.348\n",
      "HIV                    -1.7896      0.657     -2.722      0.007      -3.079      -0.500\n",
      "GDP                    -4.4761      1.248     -3.586      0.000      -6.924      -2.029\n",
      "POPULATION             -0.6775      0.603     -1.123      0.262      -1.861       0.506\n",
      "THINNESS_1-19_YEARS     1.4381      1.546      0.930      0.352      -1.594       4.471\n",
      "THINNESS_5-9_YEARS     -1.6730      1.547     -1.081      0.280      -4.708       1.362\n",
      "INCOME_COMP            -3.3518      0.916     -3.658      0.000      -5.148      -1.555\n",
      "SCHOOLING              -0.8263      0.990     -0.835      0.404      -2.768       1.115\n",
      "==============================================================================\n",
      "Omnibus:                       35.225   Durbin-Watson:                   1.712\n",
      "Prob(Omnibus):                  0.000   Jarque-Bera (JB):               21.829\n",
      "Skew:                           0.070   Prob(JB):                     1.82e-05\n",
      "Kurtosis:                       2.549   Cond. No.                         447.\n",
      "==============================================================================\n",
      "\n",
      "Notes:\n",
      "[1] R² is computed without centering (uncentered) since the model does not contain a constant.\n",
      "[2] Standard Errors assume that the covariance matrix of the errors is correctly specified.\n"
     ]
    }
   ],
   "source": [
    "print(model.summary())"
   ]
  },
  {
   "cell_type": "code",
   "execution_count": 43,
   "metadata": {},
   "outputs": [],
   "source": [
    "lin_reg = LinearRegression()\n",
    "lin_model = lin_reg.fit(X_train, y_train)"
   ]
  },
  {
   "cell_type": "markdown",
   "metadata": {},
   "source": [
    "### Prediction"
   ]
  },
  {
   "cell_type": "code",
   "execution_count": 44,
   "metadata": {},
   "outputs": [],
   "source": [
    "y_val_ols = model.predict(X_val)\n",
    "y_train_ols = model.predict(X_train)\n",
    "y_val_lr = lin_model.predict(X_val)\n",
    "y_train_lr = lin_model.predict(X_train)"
   ]
  },
  {
   "cell_type": "markdown",
   "metadata": {},
   "source": [
    "### Evaluation"
   ]
  },
  {
   "cell_type": "code",
   "execution_count": 45,
   "metadata": {},
   "outputs": [
    {
     "name": "stdout",
     "output_type": "stream",
     "text": [
      "RMSE in Train 25.63298702366997\n",
      "RMSE in Val 25.627400614852235\n"
     ]
    }
   ],
   "source": [
    "rms_val = mean_squared_error(y_val, y_val_ols, squared=False)\n",
    "rms_train = mean_squared_error(y_train, y_train_ols, squared=False)\n",
    "print(f\"RMSE in Train {rms_train}\\nRMSE in Val {rms_val}\")"
   ]
  },
  {
   "cell_type": "code",
   "execution_count": 46,
   "metadata": {},
   "outputs": [
    {
     "name": "stdout",
     "output_type": "stream",
     "text": [
      "RMSE in Train 3.9775086102878343\n",
      "RMSE in Val 4.028529728424617\n"
     ]
    }
   ],
   "source": [
    "rms_val = mean_squared_error(y_val, y_val_lr, squared=False)\n",
    "rms_train = mean_squared_error(y_train, y_train_lr, squared=False)\n",
    "print(f\"RMSE in Train {rms_train}\\nRMSE in Val {rms_val}\")"
   ]
  },
  {
   "cell_type": "code",
   "execution_count": null,
   "metadata": {},
   "outputs": [],
   "source": []
  }
 ],
 "metadata": {
  "kernelspec": {
   "display_name": "Python 3",
   "language": "python",
   "name": "python3"
  },
  "language_info": {
   "codemirror_mode": {
    "name": "ipython",
    "version": 3
   },
   "file_extension": ".py",
   "mimetype": "text/x-python",
   "name": "python",
   "nbconvert_exporter": "python",
   "pygments_lexer": "ipython3",
   "version": "3.10.5"
  }
 },
 "nbformat": 4,
 "nbformat_minor": 2
}
