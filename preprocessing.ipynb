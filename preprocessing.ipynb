{
 "cells": [
  {
   "cell_type": "markdown",
   "metadata": {},
   "source": [
    "# ML Application for Attrition Rate"
   ]
  },
  {
   "cell_type": "markdown",
   "metadata": {},
   "source": [
    "## Imporing libraries required"
   ]
  },
  {
   "cell_type": "code",
   "execution_count": 1,
   "metadata": {},
   "outputs": [],
   "source": [
    "import pandas as pd\n",
    "import numpy as np\n",
    "import plotly.express as px"
   ]
  },
  {
   "cell_type": "markdown",
   "metadata": {},
   "source": [
    "## Load data into dataframe"
   ]
  },
  {
   "cell_type": "code",
   "execution_count": 2,
   "metadata": {},
   "outputs": [],
   "source": [
    "def get_data_as_df(path):\n",
    "    return pd.read_csv(path)"
   ]
  },
  {
   "cell_type": "code",
   "execution_count": 3,
   "metadata": {},
   "outputs": [],
   "source": [
    "dept_data = get_data_as_df('./data/preprocessing/dept_data.csv')\n",
    "employee_data = get_data_as_df('./data/preprocessing/employee_data.csv')\n",
    "employee_details = get_data_as_df('./data/preprocessing/employee_details.csv')"
   ]
  },
  {
   "cell_type": "markdown",
   "metadata": {},
   "source": [
    "## A view on how the data looks like"
   ]
  },
  {
   "cell_type": "code",
   "execution_count": 4,
   "metadata": {},
   "outputs": [
    {
     "data": {
      "text/html": [
       "<div>\n",
       "<style scoped>\n",
       "    .dataframe tbody tr th:only-of-type {\n",
       "        vertical-align: middle;\n",
       "    }\n",
       "\n",
       "    .dataframe tbody tr th {\n",
       "        vertical-align: top;\n",
       "    }\n",
       "\n",
       "    .dataframe thead th {\n",
       "        text-align: right;\n",
       "    }\n",
       "</style>\n",
       "<table border=\"1\" class=\"dataframe\">\n",
       "  <thead>\n",
       "    <tr style=\"text-align: right;\">\n",
       "      <th></th>\n",
       "      <th>dept_id</th>\n",
       "      <th>dept_name</th>\n",
       "      <th>dept_head</th>\n",
       "    </tr>\n",
       "  </thead>\n",
       "  <tbody>\n",
       "    <tr>\n",
       "      <th>0</th>\n",
       "      <td>D00-IT</td>\n",
       "      <td>IT</td>\n",
       "      <td>Henry Adey</td>\n",
       "    </tr>\n",
       "    <tr>\n",
       "      <th>1</th>\n",
       "      <td>D00-SS</td>\n",
       "      <td>Sales</td>\n",
       "      <td>Edward J Bayley</td>\n",
       "    </tr>\n",
       "    <tr>\n",
       "      <th>2</th>\n",
       "      <td>D00-TP</td>\n",
       "      <td>Temp</td>\n",
       "      <td>Micheal Zachrey</td>\n",
       "    </tr>\n",
       "    <tr>\n",
       "      <th>3</th>\n",
       "      <td>D00-ENG</td>\n",
       "      <td>Engineering</td>\n",
       "      <td>Sushant Raghunathan K</td>\n",
       "    </tr>\n",
       "    <tr>\n",
       "      <th>4</th>\n",
       "      <td>D00-SP</td>\n",
       "      <td>Support</td>\n",
       "      <td>Amelia Westray</td>\n",
       "    </tr>\n",
       "  </tbody>\n",
       "</table>\n",
       "</div>"
      ],
      "text/plain": [
       "   dept_id    dept_name              dept_head\n",
       "0   D00-IT           IT             Henry Adey\n",
       "1   D00-SS        Sales        Edward J Bayley\n",
       "2   D00-TP         Temp        Micheal Zachrey\n",
       "3  D00-ENG  Engineering  Sushant Raghunathan K\n",
       "4   D00-SP      Support         Amelia Westray"
      ]
     },
     "execution_count": 4,
     "metadata": {},
     "output_type": "execute_result"
    }
   ],
   "source": [
    "dept_data.head()"
   ]
  },
  {
   "cell_type": "code",
   "execution_count": 5,
   "metadata": {},
   "outputs": [
    {
     "data": {
      "text/html": [
       "<div>\n",
       "<style scoped>\n",
       "    .dataframe tbody tr th:only-of-type {\n",
       "        vertical-align: middle;\n",
       "    }\n",
       "\n",
       "    .dataframe tbody tr th {\n",
       "        vertical-align: top;\n",
       "    }\n",
       "\n",
       "    .dataframe thead th {\n",
       "        text-align: right;\n",
       "    }\n",
       "</style>\n",
       "<table border=\"1\" class=\"dataframe\">\n",
       "  <thead>\n",
       "    <tr style=\"text-align: right;\">\n",
       "      <th></th>\n",
       "      <th>employee_id</th>\n",
       "      <th>age</th>\n",
       "      <th>gender</th>\n",
       "      <th>marital_status</th>\n",
       "    </tr>\n",
       "  </thead>\n",
       "  <tbody>\n",
       "    <tr>\n",
       "      <th>0</th>\n",
       "      <td>113558</td>\n",
       "      <td>43</td>\n",
       "      <td>Male</td>\n",
       "      <td>Married</td>\n",
       "    </tr>\n",
       "    <tr>\n",
       "      <th>1</th>\n",
       "      <td>112256</td>\n",
       "      <td>24</td>\n",
       "      <td>Female</td>\n",
       "      <td>Unmarried</td>\n",
       "    </tr>\n",
       "    <tr>\n",
       "      <th>2</th>\n",
       "      <td>112586</td>\n",
       "      <td>22</td>\n",
       "      <td>Female</td>\n",
       "      <td>Unmarried</td>\n",
       "    </tr>\n",
       "    <tr>\n",
       "      <th>3</th>\n",
       "      <td>108071</td>\n",
       "      <td>36</td>\n",
       "      <td>Male</td>\n",
       "      <td>Married</td>\n",
       "    </tr>\n",
       "    <tr>\n",
       "      <th>4</th>\n",
       "      <td>116915</td>\n",
       "      <td>38</td>\n",
       "      <td>Male</td>\n",
       "      <td>Married</td>\n",
       "    </tr>\n",
       "  </tbody>\n",
       "</table>\n",
       "</div>"
      ],
      "text/plain": [
       "   employee_id  age  gender marital_status\n",
       "0       113558   43    Male        Married\n",
       "1       112256   24  Female      Unmarried\n",
       "2       112586   22  Female      Unmarried\n",
       "3       108071   36    Male        Married\n",
       "4       116915   38    Male        Married"
      ]
     },
     "execution_count": 5,
     "metadata": {},
     "output_type": "execute_result"
    }
   ],
   "source": [
    "employee_details.head()"
   ]
  },
  {
   "cell_type": "code",
   "execution_count": 6,
   "metadata": {},
   "outputs": [
    {
     "data": {
      "text/html": [
       "<div>\n",
       "<style scoped>\n",
       "    .dataframe tbody tr th:only-of-type {\n",
       "        vertical-align: middle;\n",
       "    }\n",
       "\n",
       "    .dataframe tbody tr th {\n",
       "        vertical-align: top;\n",
       "    }\n",
       "\n",
       "    .dataframe thead th {\n",
       "        text-align: right;\n",
       "    }\n",
       "</style>\n",
       "<table border=\"1\" class=\"dataframe\">\n",
       "  <thead>\n",
       "    <tr style=\"text-align: right;\">\n",
       "      <th></th>\n",
       "      <th>avg_monthly_hrs</th>\n",
       "      <th>department</th>\n",
       "      <th>filed_complaint</th>\n",
       "      <th>last_evaluation</th>\n",
       "      <th>n_projects</th>\n",
       "      <th>recently_promoted</th>\n",
       "      <th>salary</th>\n",
       "      <th>satisfaction</th>\n",
       "      <th>status</th>\n",
       "      <th>tenure</th>\n",
       "      <th>employee_id</th>\n",
       "    </tr>\n",
       "  </thead>\n",
       "  <tbody>\n",
       "    <tr>\n",
       "      <th>0</th>\n",
       "      <td>246.0</td>\n",
       "      <td>NaN</td>\n",
       "      <td>NaN</td>\n",
       "      <td>0.866838</td>\n",
       "      <td>6</td>\n",
       "      <td>NaN</td>\n",
       "      <td>medium</td>\n",
       "      <td>0.134415</td>\n",
       "      <td>Left</td>\n",
       "      <td>4.0</td>\n",
       "      <td>124467</td>\n",
       "    </tr>\n",
       "    <tr>\n",
       "      <th>1</th>\n",
       "      <td>134.0</td>\n",
       "      <td>NaN</td>\n",
       "      <td>NaN</td>\n",
       "      <td>0.555718</td>\n",
       "      <td>2</td>\n",
       "      <td>NaN</td>\n",
       "      <td>low</td>\n",
       "      <td>0.511041</td>\n",
       "      <td>Left</td>\n",
       "      <td>3.0</td>\n",
       "      <td>112210</td>\n",
       "    </tr>\n",
       "    <tr>\n",
       "      <th>2</th>\n",
       "      <td>156.0</td>\n",
       "      <td>D00-SS</td>\n",
       "      <td>1.0</td>\n",
       "      <td>0.474082</td>\n",
       "      <td>2</td>\n",
       "      <td>NaN</td>\n",
       "      <td>medium</td>\n",
       "      <td>0.405101</td>\n",
       "      <td>Left</td>\n",
       "      <td>3.0</td>\n",
       "      <td>126150</td>\n",
       "    </tr>\n",
       "    <tr>\n",
       "      <th>3</th>\n",
       "      <td>256.0</td>\n",
       "      <td>D00-SP</td>\n",
       "      <td>NaN</td>\n",
       "      <td>0.961360</td>\n",
       "      <td>6</td>\n",
       "      <td>NaN</td>\n",
       "      <td>low</td>\n",
       "      <td>0.152974</td>\n",
       "      <td>Left</td>\n",
       "      <td>4.0</td>\n",
       "      <td>125346</td>\n",
       "    </tr>\n",
       "    <tr>\n",
       "      <th>4</th>\n",
       "      <td>146.0</td>\n",
       "      <td>D00-SS</td>\n",
       "      <td>NaN</td>\n",
       "      <td>0.507349</td>\n",
       "      <td>2</td>\n",
       "      <td>NaN</td>\n",
       "      <td>medium</td>\n",
       "      <td>0.434845</td>\n",
       "      <td>Left</td>\n",
       "      <td>3.0</td>\n",
       "      <td>113707</td>\n",
       "    </tr>\n",
       "  </tbody>\n",
       "</table>\n",
       "</div>"
      ],
      "text/plain": [
       "   avg_monthly_hrs department  filed_complaint  last_evaluation  n_projects  \\\n",
       "0            246.0        NaN              NaN         0.866838           6   \n",
       "1            134.0        NaN              NaN         0.555718           2   \n",
       "2            156.0     D00-SS              1.0         0.474082           2   \n",
       "3            256.0     D00-SP              NaN         0.961360           6   \n",
       "4            146.0     D00-SS              NaN         0.507349           2   \n",
       "\n",
       "   recently_promoted  salary  satisfaction status  tenure  employee_id  \n",
       "0                NaN  medium      0.134415   Left     4.0       124467  \n",
       "1                NaN     low      0.511041   Left     3.0       112210  \n",
       "2                NaN  medium      0.405101   Left     3.0       126150  \n",
       "3                NaN     low      0.152974   Left     4.0       125346  \n",
       "4                NaN  medium      0.434845   Left     3.0       113707  "
      ]
     },
     "execution_count": 6,
     "metadata": {},
     "output_type": "execute_result"
    }
   ],
   "source": [
    "employee_data.head()"
   ]
  },
  {
   "cell_type": "markdown",
   "metadata": {},
   "source": [
    "- syntax for renaming.\n",
    "df.rename(columns={'actual_name':'new_name'})"
   ]
  },
  {
   "cell_type": "code",
   "execution_count": 9,
   "metadata": {},
   "outputs": [],
   "source": [
    "# employee_data = employee_data.merge(dept_data, left_on=['department'], right_on=['dept_id'], how='left')\n",
    "dept_data.rename(columns={'dept_id':'department'}, inplace=True)"
   ]
  },
  {
   "cell_type": "code",
   "execution_count": 10,
   "metadata": {},
   "outputs": [
    {
     "data": {
      "text/html": [
       "<div>\n",
       "<style scoped>\n",
       "    .dataframe tbody tr th:only-of-type {\n",
       "        vertical-align: middle;\n",
       "    }\n",
       "\n",
       "    .dataframe tbody tr th {\n",
       "        vertical-align: top;\n",
       "    }\n",
       "\n",
       "    .dataframe thead th {\n",
       "        text-align: right;\n",
       "    }\n",
       "</style>\n",
       "<table border=\"1\" class=\"dataframe\">\n",
       "  <thead>\n",
       "    <tr style=\"text-align: right;\">\n",
       "      <th></th>\n",
       "      <th>department</th>\n",
       "      <th>dept_name</th>\n",
       "      <th>dept_head</th>\n",
       "    </tr>\n",
       "  </thead>\n",
       "  <tbody>\n",
       "    <tr>\n",
       "      <th>0</th>\n",
       "      <td>D00-IT</td>\n",
       "      <td>IT</td>\n",
       "      <td>Henry Adey</td>\n",
       "    </tr>\n",
       "    <tr>\n",
       "      <th>1</th>\n",
       "      <td>D00-SS</td>\n",
       "      <td>Sales</td>\n",
       "      <td>Edward J Bayley</td>\n",
       "    </tr>\n",
       "    <tr>\n",
       "      <th>2</th>\n",
       "      <td>D00-TP</td>\n",
       "      <td>Temp</td>\n",
       "      <td>Micheal Zachrey</td>\n",
       "    </tr>\n",
       "    <tr>\n",
       "      <th>3</th>\n",
       "      <td>D00-ENG</td>\n",
       "      <td>Engineering</td>\n",
       "      <td>Sushant Raghunathan K</td>\n",
       "    </tr>\n",
       "    <tr>\n",
       "      <th>4</th>\n",
       "      <td>D00-SP</td>\n",
       "      <td>Support</td>\n",
       "      <td>Amelia Westray</td>\n",
       "    </tr>\n",
       "  </tbody>\n",
       "</table>\n",
       "</div>"
      ],
      "text/plain": [
       "  department    dept_name              dept_head\n",
       "0     D00-IT           IT             Henry Adey\n",
       "1     D00-SS        Sales        Edward J Bayley\n",
       "2     D00-TP         Temp        Micheal Zachrey\n",
       "3    D00-ENG  Engineering  Sushant Raghunathan K\n",
       "4     D00-SP      Support         Amelia Westray"
      ]
     },
     "execution_count": 10,
     "metadata": {},
     "output_type": "execute_result"
    }
   ],
   "source": [
    "dept_data.head()"
   ]
  },
  {
   "cell_type": "code",
   "execution_count": 11,
   "metadata": {},
   "outputs": [
    {
     "data": {
      "text/plain": [
       "Index(['department', 'dept_name', 'dept_head'], dtype='object')"
      ]
     },
     "execution_count": 11,
     "metadata": {},
     "output_type": "execute_result"
    }
   ],
   "source": [
    "dept_data.columns"
   ]
  },
  {
   "cell_type": "markdown",
   "metadata": {},
   "source": [
    "## A view on null records on each dataframe before consolidation"
   ]
  },
  {
   "cell_type": "code",
   "execution_count": 12,
   "metadata": {},
   "outputs": [
    {
     "data": {
      "text/plain": [
       "department    0\n",
       "dept_name     0\n",
       "dept_head     0\n",
       "dtype: int64"
      ]
     },
     "execution_count": 12,
     "metadata": {},
     "output_type": "execute_result"
    }
   ],
   "source": [
    "dept_data.isnull().sum()"
   ]
  },
  {
   "cell_type": "code",
   "execution_count": 14,
   "metadata": {},
   "outputs": [
    {
     "data": {
      "text/plain": [
       "avg_monthly_hrs          0\n",
       "department             707\n",
       "filed_complaint      12104\n",
       "last_evaluation       1487\n",
       "n_projects               0\n",
       "recently_promoted    13853\n",
       "salary                   0\n",
       "satisfaction           150\n",
       "status                   0\n",
       "tenure                 150\n",
       "employee_id              0\n",
       "dtype: int64"
      ]
     },
     "execution_count": 14,
     "metadata": {},
     "output_type": "execute_result"
    }
   ],
   "source": [
    "employee_data.isnull().sum()"
   ]
  },
  {
   "cell_type": "code",
   "execution_count": 13,
   "metadata": {},
   "outputs": [
    {
     "data": {
      "text/plain": [
       "employee_id       0\n",
       "age               0\n",
       "gender            0\n",
       "marital_status    0\n",
       "dtype: int64"
      ]
     },
     "execution_count": 13,
     "metadata": {},
     "output_type": "execute_result"
    }
   ],
   "source": [
    "employee_details.isnull().sum()"
   ]
  },
  {
   "cell_type": "markdown",
   "metadata": {},
   "source": [
    "## merge all dataframes to consolidate records"
   ]
  },
  {
   "cell_type": "markdown",
   "metadata": {},
   "source": [
    "- merging two dataframes usually has how [inner, left] and on [common_columsn]"
   ]
  },
  {
   "cell_type": "code",
   "execution_count": 15,
   "metadata": {},
   "outputs": [
    {
     "name": "stdout",
     "output_type": "stream",
     "text": [
      "(14150, 11)\n",
      "(14150, 13)\n"
     ]
    },
    {
     "data": {
      "text/html": [
       "<div>\n",
       "<style scoped>\n",
       "    .dataframe tbody tr th:only-of-type {\n",
       "        vertical-align: middle;\n",
       "    }\n",
       "\n",
       "    .dataframe tbody tr th {\n",
       "        vertical-align: top;\n",
       "    }\n",
       "\n",
       "    .dataframe thead th {\n",
       "        text-align: right;\n",
       "    }\n",
       "</style>\n",
       "<table border=\"1\" class=\"dataframe\">\n",
       "  <thead>\n",
       "    <tr style=\"text-align: right;\">\n",
       "      <th></th>\n",
       "      <th>avg_monthly_hrs</th>\n",
       "      <th>department</th>\n",
       "      <th>filed_complaint</th>\n",
       "      <th>last_evaluation</th>\n",
       "      <th>n_projects</th>\n",
       "      <th>recently_promoted</th>\n",
       "      <th>salary</th>\n",
       "      <th>satisfaction</th>\n",
       "      <th>status</th>\n",
       "      <th>tenure</th>\n",
       "      <th>employee_id</th>\n",
       "      <th>dept_name</th>\n",
       "      <th>dept_head</th>\n",
       "    </tr>\n",
       "  </thead>\n",
       "  <tbody>\n",
       "    <tr>\n",
       "      <th>0</th>\n",
       "      <td>246.0</td>\n",
       "      <td>NaN</td>\n",
       "      <td>NaN</td>\n",
       "      <td>0.866838</td>\n",
       "      <td>6</td>\n",
       "      <td>NaN</td>\n",
       "      <td>medium</td>\n",
       "      <td>0.134415</td>\n",
       "      <td>Left</td>\n",
       "      <td>4.0</td>\n",
       "      <td>124467</td>\n",
       "      <td>NaN</td>\n",
       "      <td>NaN</td>\n",
       "    </tr>\n",
       "    <tr>\n",
       "      <th>1</th>\n",
       "      <td>134.0</td>\n",
       "      <td>NaN</td>\n",
       "      <td>NaN</td>\n",
       "      <td>0.555718</td>\n",
       "      <td>2</td>\n",
       "      <td>NaN</td>\n",
       "      <td>low</td>\n",
       "      <td>0.511041</td>\n",
       "      <td>Left</td>\n",
       "      <td>3.0</td>\n",
       "      <td>112210</td>\n",
       "      <td>NaN</td>\n",
       "      <td>NaN</td>\n",
       "    </tr>\n",
       "    <tr>\n",
       "      <th>2</th>\n",
       "      <td>156.0</td>\n",
       "      <td>D00-SS</td>\n",
       "      <td>1.0</td>\n",
       "      <td>0.474082</td>\n",
       "      <td>2</td>\n",
       "      <td>NaN</td>\n",
       "      <td>medium</td>\n",
       "      <td>0.405101</td>\n",
       "      <td>Left</td>\n",
       "      <td>3.0</td>\n",
       "      <td>126150</td>\n",
       "      <td>Sales</td>\n",
       "      <td>Edward J Bayley</td>\n",
       "    </tr>\n",
       "    <tr>\n",
       "      <th>3</th>\n",
       "      <td>256.0</td>\n",
       "      <td>D00-SP</td>\n",
       "      <td>NaN</td>\n",
       "      <td>0.961360</td>\n",
       "      <td>6</td>\n",
       "      <td>NaN</td>\n",
       "      <td>low</td>\n",
       "      <td>0.152974</td>\n",
       "      <td>Left</td>\n",
       "      <td>4.0</td>\n",
       "      <td>125346</td>\n",
       "      <td>Support</td>\n",
       "      <td>Amelia Westray</td>\n",
       "    </tr>\n",
       "    <tr>\n",
       "      <th>4</th>\n",
       "      <td>146.0</td>\n",
       "      <td>D00-SS</td>\n",
       "      <td>NaN</td>\n",
       "      <td>0.507349</td>\n",
       "      <td>2</td>\n",
       "      <td>NaN</td>\n",
       "      <td>medium</td>\n",
       "      <td>0.434845</td>\n",
       "      <td>Left</td>\n",
       "      <td>3.0</td>\n",
       "      <td>113707</td>\n",
       "      <td>Sales</td>\n",
       "      <td>Edward J Bayley</td>\n",
       "    </tr>\n",
       "  </tbody>\n",
       "</table>\n",
       "</div>"
      ],
      "text/plain": [
       "   avg_monthly_hrs department  filed_complaint  last_evaluation  n_projects  \\\n",
       "0            246.0        NaN              NaN         0.866838           6   \n",
       "1            134.0        NaN              NaN         0.555718           2   \n",
       "2            156.0     D00-SS              1.0         0.474082           2   \n",
       "3            256.0     D00-SP              NaN         0.961360           6   \n",
       "4            146.0     D00-SS              NaN         0.507349           2   \n",
       "\n",
       "   recently_promoted  salary  satisfaction status  tenure  employee_id  \\\n",
       "0                NaN  medium      0.134415   Left     4.0       124467   \n",
       "1                NaN     low      0.511041   Left     3.0       112210   \n",
       "2                NaN  medium      0.405101   Left     3.0       126150   \n",
       "3                NaN     low      0.152974   Left     4.0       125346   \n",
       "4                NaN  medium      0.434845   Left     3.0       113707   \n",
       "\n",
       "  dept_name        dept_head  \n",
       "0       NaN              NaN  \n",
       "1       NaN              NaN  \n",
       "2     Sales  Edward J Bayley  \n",
       "3   Support   Amelia Westray  \n",
       "4     Sales  Edward J Bayley  "
      ]
     },
     "execution_count": 15,
     "metadata": {},
     "output_type": "execute_result"
    }
   ],
   "source": [
    "print(employee_data.shape)\n",
    "employee_data = employee_data.merge(dept_data, on=['department'], how='left')\n",
    "print(employee_data.shape)\n",
    "employee_data.head()"
   ]
  },
  {
   "cell_type": "code",
   "execution_count": 16,
   "metadata": {},
   "outputs": [],
   "source": [
    "employee_data = employee_data.merge(employee_details, on='employee_id', how='left')"
   ]
  },
  {
   "cell_type": "code",
   "execution_count": 17,
   "metadata": {},
   "outputs": [
    {
     "data": {
      "text/plain": [
       "(14150, 16)"
      ]
     },
     "execution_count": 17,
     "metadata": {},
     "output_type": "execute_result"
    }
   ],
   "source": [
    "employee_data.shape"
   ]
  },
  {
   "cell_type": "code",
   "execution_count": 18,
   "metadata": {},
   "outputs": [
    {
     "data": {
      "text/html": [
       "<div>\n",
       "<style scoped>\n",
       "    .dataframe tbody tr th:only-of-type {\n",
       "        vertical-align: middle;\n",
       "    }\n",
       "\n",
       "    .dataframe tbody tr th {\n",
       "        vertical-align: top;\n",
       "    }\n",
       "\n",
       "    .dataframe thead th {\n",
       "        text-align: right;\n",
       "    }\n",
       "</style>\n",
       "<table border=\"1\" class=\"dataframe\">\n",
       "  <thead>\n",
       "    <tr style=\"text-align: right;\">\n",
       "      <th></th>\n",
       "      <th>avg_monthly_hrs</th>\n",
       "      <th>department</th>\n",
       "      <th>filed_complaint</th>\n",
       "      <th>last_evaluation</th>\n",
       "      <th>n_projects</th>\n",
       "      <th>recently_promoted</th>\n",
       "      <th>salary</th>\n",
       "      <th>satisfaction</th>\n",
       "      <th>status</th>\n",
       "      <th>tenure</th>\n",
       "      <th>employee_id</th>\n",
       "      <th>dept_name</th>\n",
       "      <th>dept_head</th>\n",
       "      <th>age</th>\n",
       "      <th>gender</th>\n",
       "      <th>marital_status</th>\n",
       "    </tr>\n",
       "  </thead>\n",
       "  <tbody>\n",
       "    <tr>\n",
       "      <th>0</th>\n",
       "      <td>246.0</td>\n",
       "      <td>NaN</td>\n",
       "      <td>NaN</td>\n",
       "      <td>0.866838</td>\n",
       "      <td>6</td>\n",
       "      <td>NaN</td>\n",
       "      <td>medium</td>\n",
       "      <td>0.134415</td>\n",
       "      <td>Left</td>\n",
       "      <td>4.0</td>\n",
       "      <td>124467</td>\n",
       "      <td>NaN</td>\n",
       "      <td>NaN</td>\n",
       "      <td>42.0</td>\n",
       "      <td>Female</td>\n",
       "      <td>Married</td>\n",
       "    </tr>\n",
       "    <tr>\n",
       "      <th>1</th>\n",
       "      <td>134.0</td>\n",
       "      <td>NaN</td>\n",
       "      <td>NaN</td>\n",
       "      <td>0.555718</td>\n",
       "      <td>2</td>\n",
       "      <td>NaN</td>\n",
       "      <td>low</td>\n",
       "      <td>0.511041</td>\n",
       "      <td>Left</td>\n",
       "      <td>3.0</td>\n",
       "      <td>112210</td>\n",
       "      <td>NaN</td>\n",
       "      <td>NaN</td>\n",
       "      <td>23.0</td>\n",
       "      <td>Female</td>\n",
       "      <td>Unmarried</td>\n",
       "    </tr>\n",
       "    <tr>\n",
       "      <th>2</th>\n",
       "      <td>156.0</td>\n",
       "      <td>D00-SS</td>\n",
       "      <td>1.0</td>\n",
       "      <td>0.474082</td>\n",
       "      <td>2</td>\n",
       "      <td>NaN</td>\n",
       "      <td>medium</td>\n",
       "      <td>0.405101</td>\n",
       "      <td>Left</td>\n",
       "      <td>3.0</td>\n",
       "      <td>126150</td>\n",
       "      <td>Sales</td>\n",
       "      <td>Edward J Bayley</td>\n",
       "      <td>24.0</td>\n",
       "      <td>Female</td>\n",
       "      <td>Unmarried</td>\n",
       "    </tr>\n",
       "    <tr>\n",
       "      <th>3</th>\n",
       "      <td>256.0</td>\n",
       "      <td>D00-SP</td>\n",
       "      <td>NaN</td>\n",
       "      <td>0.961360</td>\n",
       "      <td>6</td>\n",
       "      <td>NaN</td>\n",
       "      <td>low</td>\n",
       "      <td>0.152974</td>\n",
       "      <td>Left</td>\n",
       "      <td>4.0</td>\n",
       "      <td>125346</td>\n",
       "      <td>Support</td>\n",
       "      <td>Amelia Westray</td>\n",
       "      <td>51.0</td>\n",
       "      <td>Female</td>\n",
       "      <td>Married</td>\n",
       "    </tr>\n",
       "    <tr>\n",
       "      <th>4</th>\n",
       "      <td>146.0</td>\n",
       "      <td>D00-SS</td>\n",
       "      <td>NaN</td>\n",
       "      <td>0.507349</td>\n",
       "      <td>2</td>\n",
       "      <td>NaN</td>\n",
       "      <td>medium</td>\n",
       "      <td>0.434845</td>\n",
       "      <td>Left</td>\n",
       "      <td>3.0</td>\n",
       "      <td>113707</td>\n",
       "      <td>Sales</td>\n",
       "      <td>Edward J Bayley</td>\n",
       "      <td>23.0</td>\n",
       "      <td>Female</td>\n",
       "      <td>Unmarried</td>\n",
       "    </tr>\n",
       "  </tbody>\n",
       "</table>\n",
       "</div>"
      ],
      "text/plain": [
       "   avg_monthly_hrs department  filed_complaint  last_evaluation  n_projects  \\\n",
       "0            246.0        NaN              NaN         0.866838           6   \n",
       "1            134.0        NaN              NaN         0.555718           2   \n",
       "2            156.0     D00-SS              1.0         0.474082           2   \n",
       "3            256.0     D00-SP              NaN         0.961360           6   \n",
       "4            146.0     D00-SS              NaN         0.507349           2   \n",
       "\n",
       "   recently_promoted  salary  satisfaction status  tenure  employee_id  \\\n",
       "0                NaN  medium      0.134415   Left     4.0       124467   \n",
       "1                NaN     low      0.511041   Left     3.0       112210   \n",
       "2                NaN  medium      0.405101   Left     3.0       126150   \n",
       "3                NaN     low      0.152974   Left     4.0       125346   \n",
       "4                NaN  medium      0.434845   Left     3.0       113707   \n",
       "\n",
       "  dept_name        dept_head   age  gender marital_status  \n",
       "0       NaN              NaN  42.0  Female        Married  \n",
       "1       NaN              NaN  23.0  Female      Unmarried  \n",
       "2     Sales  Edward J Bayley  24.0  Female      Unmarried  \n",
       "3   Support   Amelia Westray  51.0  Female        Married  \n",
       "4     Sales  Edward J Bayley  23.0  Female      Unmarried  "
      ]
     },
     "execution_count": 18,
     "metadata": {},
     "output_type": "execute_result"
    }
   ],
   "source": [
    "# consolidated data looks like this\n",
    "employee_data.head()"
   ]
  },
  {
   "cell_type": "code",
   "execution_count": 19,
   "metadata": {},
   "outputs": [
    {
     "data": {
      "text/plain": [
       "avg_monthly_hrs          0\n",
       "department             707\n",
       "filed_complaint      12104\n",
       "last_evaluation       1487\n",
       "n_projects               0\n",
       "recently_promoted    13853\n",
       "salary                   0\n",
       "satisfaction           150\n",
       "status                   0\n",
       "tenure                 150\n",
       "employee_id              0\n",
       "dept_name              914\n",
       "dept_head              914\n",
       "age                      5\n",
       "gender                   5\n",
       "marital_status           5\n",
       "dtype: int64"
      ]
     },
     "execution_count": 19,
     "metadata": {},
     "output_type": "execute_result"
    }
   ],
   "source": [
    "employee_data.isnull().sum()"
   ]
  },
  {
   "cell_type": "code",
   "execution_count": 20,
   "metadata": {},
   "outputs": [
    {
     "data": {
      "text/plain": [
       "array([nan, 'D00-SS', 'D00-SP', 'D00-MT', 'D00-PD', 'D00-IT', 'D00-AD',\n",
       "       'D00-MN', 'D00-ENG', 'D00-PR', 'D00-TP', 'D00-FN', '-IT'],\n",
       "      dtype=object)"
      ]
     },
     "execution_count": 20,
     "metadata": {},
     "output_type": "execute_result"
    }
   ],
   "source": [
    "employee_data['department'].unique()"
   ]
  },
  {
   "cell_type": "markdown",
   "metadata": {},
   "source": [
    "## handling null values"
   ]
  },
  {
   "cell_type": "markdown",
   "metadata": {},
   "source": [
    "### treating null values for department, dept_name, dept_head"
   ]
  },
  {
   "cell_type": "code",
   "execution_count": 21,
   "metadata": {},
   "outputs": [
    {
     "data": {
      "text/plain": [
       "D00-SS     3905\n",
       "D00-ENG    2575\n",
       "D00-SP     2113\n",
       "D00-IT     1157\n",
       "D00-PD      855\n",
       "D00-MT      815\n",
       "D00-FN      725\n",
       "NaN         707\n",
       "D00-MN      593\n",
       "-IT         207\n",
       "D00-AD      175\n",
       "D00-PR      173\n",
       "D00-TP      150\n",
       "Name: department, dtype: int64"
      ]
     },
     "execution_count": 21,
     "metadata": {},
     "output_type": "execute_result"
    }
   ],
   "source": [
    "employee_data['department'].value_counts(dropna=False)"
   ]
  },
  {
   "cell_type": "code",
   "execution_count": 22,
   "metadata": {},
   "outputs": [
    {
     "data": {
      "text/plain": [
       "212      -IT\n",
       "278      -IT\n",
       "367      -IT\n",
       "410      -IT\n",
       "562      -IT\n",
       "        ... \n",
       "13611    -IT\n",
       "13637    -IT\n",
       "13655    -IT\n",
       "13862    -IT\n",
       "13942    -IT\n",
       "Name: department, Length: 207, dtype: object"
      ]
     },
     "execution_count": 22,
     "metadata": {},
     "output_type": "execute_result"
    }
   ],
   "source": [
    "employee_data.loc[employee_data['department']=='-IT', 'department']"
   ]
  },
  {
   "cell_type": "code",
   "execution_count": 23,
   "metadata": {},
   "outputs": [],
   "source": [
    "# errored out as we have -IT pattern for correct records as well\n",
    "# employee_data['department'] = employee_data['department'].str.replace('-IT', 'D00-IT')\n",
    "employee_data.loc[employee_data['department']=='-IT', 'department'] = 'D00-IT'"
   ]
  },
  {
   "cell_type": "code",
   "execution_count": 24,
   "metadata": {},
   "outputs": [
    {
     "data": {
      "text/plain": [
       "D00-SS     3905\n",
       "D00-ENG    2575\n",
       "D00-SP     2113\n",
       "D00-IT     1364\n",
       "D00-PD      855\n",
       "D00-MT      815\n",
       "D00-FN      725\n",
       "NaN         707\n",
       "D00-MN      593\n",
       "D00-AD      175\n",
       "D00-PR      173\n",
       "D00-TP      150\n",
       "Name: department, dtype: int64"
      ]
     },
     "execution_count": 24,
     "metadata": {},
     "output_type": "execute_result"
    }
   ],
   "source": [
    "employee_data['department'].value_counts(dropna=False)"
   ]
  },
  {
   "cell_type": "code",
   "execution_count": 20,
   "metadata": {},
   "outputs": [],
   "source": [
    "employee_data.loc[employee_data['department']=='D00-IT', 'dept_name'] = 'IT'\n",
    "employee_data.loc[employee_data['department']=='D00-IT', 'dept_head'] = 'Henry Adey'"
   ]
  },
  {
   "cell_type": "code",
   "execution_count": 25,
   "metadata": {},
   "outputs": [
    {
     "data": {
      "text/html": [
       "<div>\n",
       "<style scoped>\n",
       "    .dataframe tbody tr th:only-of-type {\n",
       "        vertical-align: middle;\n",
       "    }\n",
       "\n",
       "    .dataframe tbody tr th {\n",
       "        vertical-align: top;\n",
       "    }\n",
       "\n",
       "    .dataframe thead tr th {\n",
       "        text-align: left;\n",
       "    }\n",
       "\n",
       "    .dataframe thead tr:last-of-type th {\n",
       "        text-align: right;\n",
       "    }\n",
       "</style>\n",
       "<table border=\"1\" class=\"dataframe\">\n",
       "  <thead>\n",
       "    <tr>\n",
       "      <th></th>\n",
       "      <th colspan=\"5\" halign=\"left\">avg_monthly_hrs</th>\n",
       "    </tr>\n",
       "    <tr>\n",
       "      <th></th>\n",
       "      <th>mean</th>\n",
       "      <th>count</th>\n",
       "      <th>nunique</th>\n",
       "      <th>max</th>\n",
       "      <th>min</th>\n",
       "    </tr>\n",
       "    <tr>\n",
       "      <th>department</th>\n",
       "      <th></th>\n",
       "      <th></th>\n",
       "      <th></th>\n",
       "      <th></th>\n",
       "      <th></th>\n",
       "    </tr>\n",
       "  </thead>\n",
       "  <tbody>\n",
       "    <tr>\n",
       "      <th>D00-AD</th>\n",
       "      <td>200.994286</td>\n",
       "      <td>175</td>\n",
       "      <td>106</td>\n",
       "      <td>300.0</td>\n",
       "      <td>105.0</td>\n",
       "    </tr>\n",
       "    <tr>\n",
       "      <th>D00-ENG</th>\n",
       "      <td>202.507184</td>\n",
       "      <td>2575</td>\n",
       "      <td>209</td>\n",
       "      <td>310.0</td>\n",
       "      <td>97.0</td>\n",
       "    </tr>\n",
       "    <tr>\n",
       "      <th>D00-FN</th>\n",
       "      <td>201.382069</td>\n",
       "      <td>725</td>\n",
       "      <td>176</td>\n",
       "      <td>310.0</td>\n",
       "      <td>97.0</td>\n",
       "    </tr>\n",
       "    <tr>\n",
       "      <th>D00-IT</th>\n",
       "      <td>202.253666</td>\n",
       "      <td>1364</td>\n",
       "      <td>194</td>\n",
       "      <td>308.0</td>\n",
       "      <td>96.0</td>\n",
       "    </tr>\n",
       "    <tr>\n",
       "      <th>D00-MN</th>\n",
       "      <td>200.655987</td>\n",
       "      <td>593</td>\n",
       "      <td>161</td>\n",
       "      <td>307.0</td>\n",
       "      <td>97.0</td>\n",
       "    </tr>\n",
       "    <tr>\n",
       "      <th>D00-MT</th>\n",
       "      <td>199.839264</td>\n",
       "      <td>815</td>\n",
       "      <td>181</td>\n",
       "      <td>310.0</td>\n",
       "      <td>96.0</td>\n",
       "    </tr>\n",
       "    <tr>\n",
       "      <th>D00-PD</th>\n",
       "      <td>199.783626</td>\n",
       "      <td>855</td>\n",
       "      <td>182</td>\n",
       "      <td>310.0</td>\n",
       "      <td>98.0</td>\n",
       "    </tr>\n",
       "    <tr>\n",
       "      <th>D00-PR</th>\n",
       "      <td>199.867052</td>\n",
       "      <td>173</td>\n",
       "      <td>111</td>\n",
       "      <td>308.0</td>\n",
       "      <td>111.0</td>\n",
       "    </tr>\n",
       "    <tr>\n",
       "      <th>D00-SP</th>\n",
       "      <td>200.731661</td>\n",
       "      <td>2113</td>\n",
       "      <td>204</td>\n",
       "      <td>310.0</td>\n",
       "      <td>96.0</td>\n",
       "    </tr>\n",
       "    <tr>\n",
       "      <th>D00-SS</th>\n",
       "      <td>200.878361</td>\n",
       "      <td>3905</td>\n",
       "      <td>214</td>\n",
       "      <td>310.0</td>\n",
       "      <td>96.0</td>\n",
       "    </tr>\n",
       "    <tr>\n",
       "      <th>D00-TP</th>\n",
       "      <td>99.533333</td>\n",
       "      <td>150</td>\n",
       "      <td>73</td>\n",
       "      <td>143.0</td>\n",
       "      <td>49.0</td>\n",
       "    </tr>\n",
       "    <tr>\n",
       "      <th>NaN</th>\n",
       "      <td>198.950495</td>\n",
       "      <td>707</td>\n",
       "      <td>175</td>\n",
       "      <td>310.0</td>\n",
       "      <td>98.0</td>\n",
       "    </tr>\n",
       "  </tbody>\n",
       "</table>\n",
       "</div>"
      ],
      "text/plain": [
       "           avg_monthly_hrs                            \n",
       "                      mean count nunique    max    min\n",
       "department                                            \n",
       "D00-AD          200.994286   175     106  300.0  105.0\n",
       "D00-ENG         202.507184  2575     209  310.0   97.0\n",
       "D00-FN          201.382069   725     176  310.0   97.0\n",
       "D00-IT          202.253666  1364     194  308.0   96.0\n",
       "D00-MN          200.655987   593     161  307.0   97.0\n",
       "D00-MT          199.839264   815     181  310.0   96.0\n",
       "D00-PD          199.783626   855     182  310.0   98.0\n",
       "D00-PR          199.867052   173     111  308.0  111.0\n",
       "D00-SP          200.731661  2113     204  310.0   96.0\n",
       "D00-SS          200.878361  3905     214  310.0   96.0\n",
       "D00-TP           99.533333   150      73  143.0   49.0\n",
       "NaN             198.950495   707     175  310.0   98.0"
      ]
     },
     "execution_count": 25,
     "metadata": {},
     "output_type": "execute_result"
    }
   ],
   "source": [
    "# looking at the below data, we can replace the nulls with\n",
    "# either D00-ENG or D00-PD. for now, we shall replace with D00-PD\n",
    "# we can try with D00-ENG as a second model.\n",
    "employee_data.groupby('department', dropna=False).agg(\n",
    "    {'avg_monthly_hrs':['mean', 'count', 'nunique', 'max', 'min']}\n",
    ")"
   ]
  },
  {
   "cell_type": "code",
   "execution_count": null,
   "metadata": {},
   "outputs": [],
   "source": []
  },
  {
   "cell_type": "code",
   "execution_count": 26,
   "metadata": {},
   "outputs": [],
   "source": [
    "employee_data.loc[employee_data['department'].isnull(), 'department'] = 'D00-PD'"
   ]
  },
  {
   "cell_type": "code",
   "execution_count": 30,
   "metadata": {},
   "outputs": [
    {
     "data": {
      "text/html": [
       "<div>\n",
       "<style scoped>\n",
       "    .dataframe tbody tr th:only-of-type {\n",
       "        vertical-align: middle;\n",
       "    }\n",
       "\n",
       "    .dataframe tbody tr th {\n",
       "        vertical-align: top;\n",
       "    }\n",
       "\n",
       "    .dataframe thead th {\n",
       "        text-align: right;\n",
       "    }\n",
       "</style>\n",
       "<table border=\"1\" class=\"dataframe\">\n",
       "  <thead>\n",
       "    <tr style=\"text-align: right;\">\n",
       "      <th></th>\n",
       "      <th>department</th>\n",
       "      <th>dept_name</th>\n",
       "      <th>dept_head</th>\n",
       "    </tr>\n",
       "  </thead>\n",
       "  <tbody>\n",
       "    <tr>\n",
       "      <th>0</th>\n",
       "      <td>D00-IT</td>\n",
       "      <td>IT</td>\n",
       "      <td>Henry Adey</td>\n",
       "    </tr>\n",
       "    <tr>\n",
       "      <th>1</th>\n",
       "      <td>D00-SS</td>\n",
       "      <td>Sales</td>\n",
       "      <td>Edward J Bayley</td>\n",
       "    </tr>\n",
       "    <tr>\n",
       "      <th>2</th>\n",
       "      <td>D00-TP</td>\n",
       "      <td>Temp</td>\n",
       "      <td>Micheal Zachrey</td>\n",
       "    </tr>\n",
       "    <tr>\n",
       "      <th>3</th>\n",
       "      <td>D00-ENG</td>\n",
       "      <td>Engineering</td>\n",
       "      <td>Sushant Raghunathan K</td>\n",
       "    </tr>\n",
       "    <tr>\n",
       "      <th>4</th>\n",
       "      <td>D00-SP</td>\n",
       "      <td>Support</td>\n",
       "      <td>Amelia Westray</td>\n",
       "    </tr>\n",
       "    <tr>\n",
       "      <th>5</th>\n",
       "      <td>D00-FN</td>\n",
       "      <td>Finance</td>\n",
       "      <td>Aanchal J</td>\n",
       "    </tr>\n",
       "    <tr>\n",
       "      <th>6</th>\n",
       "      <td>D00-PR</td>\n",
       "      <td>Procurement</td>\n",
       "      <td>Louie Viles</td>\n",
       "    </tr>\n",
       "    <tr>\n",
       "      <th>7</th>\n",
       "      <td>D00-AD</td>\n",
       "      <td>Admin</td>\n",
       "      <td>Evelyn Tolson</td>\n",
       "    </tr>\n",
       "    <tr>\n",
       "      <th>8</th>\n",
       "      <td>D00-MN</td>\n",
       "      <td>Management</td>\n",
       "      <td>Ellie Trafton</td>\n",
       "    </tr>\n",
       "    <tr>\n",
       "      <th>9</th>\n",
       "      <td>D00-MT</td>\n",
       "      <td>Marketing</td>\n",
       "      <td>Reuben Swann</td>\n",
       "    </tr>\n",
       "    <tr>\n",
       "      <th>10</th>\n",
       "      <td>D00-PD</td>\n",
       "      <td>Product</td>\n",
       "      <td>Darcy Staines</td>\n",
       "    </tr>\n",
       "  </tbody>\n",
       "</table>\n",
       "</div>"
      ],
      "text/plain": [
       "   department    dept_name              dept_head\n",
       "0      D00-IT           IT             Henry Adey\n",
       "1      D00-SS        Sales        Edward J Bayley\n",
       "2      D00-TP         Temp        Micheal Zachrey\n",
       "3     D00-ENG  Engineering  Sushant Raghunathan K\n",
       "4      D00-SP      Support         Amelia Westray\n",
       "5      D00-FN      Finance              Aanchal J\n",
       "6      D00-PR  Procurement            Louie Viles\n",
       "7      D00-AD        Admin          Evelyn Tolson\n",
       "8      D00-MN   Management          Ellie Trafton\n",
       "9      D00-MT    Marketing           Reuben Swann\n",
       "10     D00-PD      Product          Darcy Staines"
      ]
     },
     "execution_count": 30,
     "metadata": {},
     "output_type": "execute_result"
    }
   ],
   "source": [
    "dept_data.head(15)"
   ]
  },
  {
   "cell_type": "code",
   "execution_count": 31,
   "metadata": {},
   "outputs": [],
   "source": [
    "# Engineering\tSushant Raghunathan K\n",
    "employee_data.loc[employee_data['department']=='D00-PD', 'dept_name'] = 'Product'\n",
    "employee_data.loc[employee_data['department']=='D00-PD', 'dept_head'] = 'Darcy Staines'"
   ]
  },
  {
   "cell_type": "code",
   "execution_count": 33,
   "metadata": {},
   "outputs": [
    {
     "data": {
      "text/html": [
       "<div>\n",
       "<style scoped>\n",
       "    .dataframe tbody tr th:only-of-type {\n",
       "        vertical-align: middle;\n",
       "    }\n",
       "\n",
       "    .dataframe tbody tr th {\n",
       "        vertical-align: top;\n",
       "    }\n",
       "\n",
       "    .dataframe thead th {\n",
       "        text-align: right;\n",
       "    }\n",
       "</style>\n",
       "<table border=\"1\" class=\"dataframe\">\n",
       "  <thead>\n",
       "    <tr style=\"text-align: right;\">\n",
       "      <th></th>\n",
       "      <th>avg_monthly_hrs</th>\n",
       "      <th>department</th>\n",
       "      <th>filed_complaint</th>\n",
       "      <th>last_evaluation</th>\n",
       "      <th>n_projects</th>\n",
       "      <th>recently_promoted</th>\n",
       "      <th>salary</th>\n",
       "      <th>satisfaction</th>\n",
       "      <th>status</th>\n",
       "      <th>tenure</th>\n",
       "      <th>employee_id</th>\n",
       "      <th>dept_name</th>\n",
       "      <th>dept_head</th>\n",
       "      <th>age</th>\n",
       "      <th>gender</th>\n",
       "      <th>marital_status</th>\n",
       "    </tr>\n",
       "  </thead>\n",
       "  <tbody>\n",
       "    <tr>\n",
       "      <th>212</th>\n",
       "      <td>137.0</td>\n",
       "      <td>D00-IT</td>\n",
       "      <td>NaN</td>\n",
       "      <td>0.543217</td>\n",
       "      <td>2</td>\n",
       "      <td>NaN</td>\n",
       "      <td>medium</td>\n",
       "      <td>0.442070</td>\n",
       "      <td>Left</td>\n",
       "      <td>3.0</td>\n",
       "      <td>126341</td>\n",
       "      <td>NaN</td>\n",
       "      <td>NaN</td>\n",
       "      <td>24.0</td>\n",
       "      <td>Female</td>\n",
       "      <td>Unmarried</td>\n",
       "    </tr>\n",
       "    <tr>\n",
       "      <th>278</th>\n",
       "      <td>262.0</td>\n",
       "      <td>D00-IT</td>\n",
       "      <td>NaN</td>\n",
       "      <td>0.901248</td>\n",
       "      <td>5</td>\n",
       "      <td>NaN</td>\n",
       "      <td>low</td>\n",
       "      <td>0.717886</td>\n",
       "      <td>Left</td>\n",
       "      <td>5.0</td>\n",
       "      <td>117187</td>\n",
       "      <td>NaN</td>\n",
       "      <td>NaN</td>\n",
       "      <td>24.0</td>\n",
       "      <td>Female</td>\n",
       "      <td>Unmarried</td>\n",
       "    </tr>\n",
       "    <tr>\n",
       "      <th>367</th>\n",
       "      <td>134.0</td>\n",
       "      <td>D00-IT</td>\n",
       "      <td>NaN</td>\n",
       "      <td>0.508337</td>\n",
       "      <td>2</td>\n",
       "      <td>NaN</td>\n",
       "      <td>medium</td>\n",
       "      <td>0.456376</td>\n",
       "      <td>Left</td>\n",
       "      <td>3.0</td>\n",
       "      <td>124194</td>\n",
       "      <td>NaN</td>\n",
       "      <td>NaN</td>\n",
       "      <td>22.0</td>\n",
       "      <td>Female</td>\n",
       "      <td>Unmarried</td>\n",
       "    </tr>\n",
       "    <tr>\n",
       "      <th>410</th>\n",
       "      <td>267.0</td>\n",
       "      <td>D00-IT</td>\n",
       "      <td>NaN</td>\n",
       "      <td>0.785357</td>\n",
       "      <td>5</td>\n",
       "      <td>NaN</td>\n",
       "      <td>low</td>\n",
       "      <td>0.927001</td>\n",
       "      <td>Left</td>\n",
       "      <td>5.0</td>\n",
       "      <td>119515</td>\n",
       "      <td>NaN</td>\n",
       "      <td>NaN</td>\n",
       "      <td>22.0</td>\n",
       "      <td>Female</td>\n",
       "      <td>Unmarried</td>\n",
       "    </tr>\n",
       "    <tr>\n",
       "      <th>562</th>\n",
       "      <td>127.0</td>\n",
       "      <td>D00-IT</td>\n",
       "      <td>NaN</td>\n",
       "      <td>0.559907</td>\n",
       "      <td>2</td>\n",
       "      <td>NaN</td>\n",
       "      <td>medium</td>\n",
       "      <td>0.440033</td>\n",
       "      <td>Left</td>\n",
       "      <td>3.0</td>\n",
       "      <td>119346</td>\n",
       "      <td>NaN</td>\n",
       "      <td>NaN</td>\n",
       "      <td>25.0</td>\n",
       "      <td>Female</td>\n",
       "      <td>Unmarried</td>\n",
       "    </tr>\n",
       "    <tr>\n",
       "      <th>...</th>\n",
       "      <td>...</td>\n",
       "      <td>...</td>\n",
       "      <td>...</td>\n",
       "      <td>...</td>\n",
       "      <td>...</td>\n",
       "      <td>...</td>\n",
       "      <td>...</td>\n",
       "      <td>...</td>\n",
       "      <td>...</td>\n",
       "      <td>...</td>\n",
       "      <td>...</td>\n",
       "      <td>...</td>\n",
       "      <td>...</td>\n",
       "      <td>...</td>\n",
       "      <td>...</td>\n",
       "      <td>...</td>\n",
       "    </tr>\n",
       "    <tr>\n",
       "      <th>13611</th>\n",
       "      <td>223.0</td>\n",
       "      <td>D00-IT</td>\n",
       "      <td>NaN</td>\n",
       "      <td>0.897100</td>\n",
       "      <td>5</td>\n",
       "      <td>NaN</td>\n",
       "      <td>medium</td>\n",
       "      <td>0.895458</td>\n",
       "      <td>Left</td>\n",
       "      <td>5.0</td>\n",
       "      <td>133677</td>\n",
       "      <td>NaN</td>\n",
       "      <td>NaN</td>\n",
       "      <td>40.0</td>\n",
       "      <td>Female</td>\n",
       "      <td>Married</td>\n",
       "    </tr>\n",
       "    <tr>\n",
       "      <th>13637</th>\n",
       "      <td>123.0</td>\n",
       "      <td>D00-IT</td>\n",
       "      <td>NaN</td>\n",
       "      <td>0.774735</td>\n",
       "      <td>2</td>\n",
       "      <td>NaN</td>\n",
       "      <td>medium</td>\n",
       "      <td>0.508124</td>\n",
       "      <td>Employed</td>\n",
       "      <td>4.0</td>\n",
       "      <td>107214</td>\n",
       "      <td>NaN</td>\n",
       "      <td>NaN</td>\n",
       "      <td>24.0</td>\n",
       "      <td>Female</td>\n",
       "      <td>Unmarried</td>\n",
       "    </tr>\n",
       "    <tr>\n",
       "      <th>13655</th>\n",
       "      <td>216.0</td>\n",
       "      <td>D00-IT</td>\n",
       "      <td>NaN</td>\n",
       "      <td>0.736369</td>\n",
       "      <td>4</td>\n",
       "      <td>NaN</td>\n",
       "      <td>medium</td>\n",
       "      <td>0.856901</td>\n",
       "      <td>Employed</td>\n",
       "      <td>4.0</td>\n",
       "      <td>116349</td>\n",
       "      <td>NaN</td>\n",
       "      <td>NaN</td>\n",
       "      <td>54.0</td>\n",
       "      <td>Male</td>\n",
       "      <td>Married</td>\n",
       "    </tr>\n",
       "    <tr>\n",
       "      <th>13862</th>\n",
       "      <td>128.0</td>\n",
       "      <td>D00-IT</td>\n",
       "      <td>1.0</td>\n",
       "      <td>0.458317</td>\n",
       "      <td>3</td>\n",
       "      <td>NaN</td>\n",
       "      <td>low</td>\n",
       "      <td>0.447364</td>\n",
       "      <td>Employed</td>\n",
       "      <td>2.0</td>\n",
       "      <td>106545</td>\n",
       "      <td>NaN</td>\n",
       "      <td>NaN</td>\n",
       "      <td>23.0</td>\n",
       "      <td>Male</td>\n",
       "      <td>Unmarried</td>\n",
       "    </tr>\n",
       "    <tr>\n",
       "      <th>13942</th>\n",
       "      <td>242.0</td>\n",
       "      <td>D00-IT</td>\n",
       "      <td>NaN</td>\n",
       "      <td>0.931467</td>\n",
       "      <td>4</td>\n",
       "      <td>NaN</td>\n",
       "      <td>medium</td>\n",
       "      <td>0.635758</td>\n",
       "      <td>Employed</td>\n",
       "      <td>2.0</td>\n",
       "      <td>101735</td>\n",
       "      <td>NaN</td>\n",
       "      <td>NaN</td>\n",
       "      <td>28.0</td>\n",
       "      <td>Male</td>\n",
       "      <td>Unmarried</td>\n",
       "    </tr>\n",
       "  </tbody>\n",
       "</table>\n",
       "<p>207 rows × 16 columns</p>\n",
       "</div>"
      ],
      "text/plain": [
       "       avg_monthly_hrs department  filed_complaint  last_evaluation  \\\n",
       "212              137.0     D00-IT              NaN         0.543217   \n",
       "278              262.0     D00-IT              NaN         0.901248   \n",
       "367              134.0     D00-IT              NaN         0.508337   \n",
       "410              267.0     D00-IT              NaN         0.785357   \n",
       "562              127.0     D00-IT              NaN         0.559907   \n",
       "...                ...        ...              ...              ...   \n",
       "13611            223.0     D00-IT              NaN         0.897100   \n",
       "13637            123.0     D00-IT              NaN         0.774735   \n",
       "13655            216.0     D00-IT              NaN         0.736369   \n",
       "13862            128.0     D00-IT              1.0         0.458317   \n",
       "13942            242.0     D00-IT              NaN         0.931467   \n",
       "\n",
       "       n_projects  recently_promoted  salary  satisfaction    status  tenure  \\\n",
       "212             2                NaN  medium      0.442070      Left     3.0   \n",
       "278             5                NaN     low      0.717886      Left     5.0   \n",
       "367             2                NaN  medium      0.456376      Left     3.0   \n",
       "410             5                NaN     low      0.927001      Left     5.0   \n",
       "562             2                NaN  medium      0.440033      Left     3.0   \n",
       "...           ...                ...     ...           ...       ...     ...   \n",
       "13611           5                NaN  medium      0.895458      Left     5.0   \n",
       "13637           2                NaN  medium      0.508124  Employed     4.0   \n",
       "13655           4                NaN  medium      0.856901  Employed     4.0   \n",
       "13862           3                NaN     low      0.447364  Employed     2.0   \n",
       "13942           4                NaN  medium      0.635758  Employed     2.0   \n",
       "\n",
       "       employee_id dept_name dept_head   age  gender marital_status  \n",
       "212         126341       NaN       NaN  24.0  Female      Unmarried  \n",
       "278         117187       NaN       NaN  24.0  Female      Unmarried  \n",
       "367         124194       NaN       NaN  22.0  Female      Unmarried  \n",
       "410         119515       NaN       NaN  22.0  Female      Unmarried  \n",
       "562         119346       NaN       NaN  25.0  Female      Unmarried  \n",
       "...            ...       ...       ...   ...     ...            ...  \n",
       "13611       133677       NaN       NaN  40.0  Female        Married  \n",
       "13637       107214       NaN       NaN  24.0  Female      Unmarried  \n",
       "13655       116349       NaN       NaN  54.0    Male        Married  \n",
       "13862       106545       NaN       NaN  23.0    Male      Unmarried  \n",
       "13942       101735       NaN       NaN  28.0    Male      Unmarried  \n",
       "\n",
       "[207 rows x 16 columns]"
      ]
     },
     "execution_count": 33,
     "metadata": {},
     "output_type": "execute_result"
    }
   ],
   "source": [
    "employee_data.loc[employee_data['dept_name'].isnull()]"
   ]
  },
  {
   "cell_type": "code",
   "execution_count": 34,
   "metadata": {},
   "outputs": [],
   "source": [
    "employee_data.loc[employee_data['department']=='D00-IT', 'dept_name'] = 'IT'\n",
    "employee_data.loc[employee_data['department']=='D00-IT', 'dept_head'] = 'Henry Adey'"
   ]
  },
  {
   "cell_type": "markdown",
   "metadata": {},
   "source": [
    "### treating null values for filed_complaint"
   ]
  },
  {
   "cell_type": "code",
   "execution_count": 36,
   "metadata": {},
   "outputs": [
    {
     "data": {
      "text/plain": [
       "NaN    12104\n",
       "1.0     2046\n",
       "Name: filed_complaint, dtype: int64"
      ]
     },
     "execution_count": 36,
     "metadata": {},
     "output_type": "execute_result"
    }
   ],
   "source": [
    "employee_data['filed_complaint'].value_counts(dropna=False)"
   ]
  },
  {
   "cell_type": "code",
   "execution_count": 37,
   "metadata": {},
   "outputs": [],
   "source": [
    "employee_data['filed_complaint'] = employee_data['filed_complaint'].fillna(0)"
   ]
  },
  {
   "cell_type": "markdown",
   "metadata": {},
   "source": [
    "### treating null values for recently_promoted"
   ]
  },
  {
   "cell_type": "code",
   "execution_count": 39,
   "metadata": {},
   "outputs": [
    {
     "data": {
      "text/plain": [
       "NaN    13853\n",
       "1.0      297\n",
       "Name: recently_promoted, dtype: int64"
      ]
     },
     "execution_count": 39,
     "metadata": {},
     "output_type": "execute_result"
    }
   ],
   "source": [
    "employee_data['recently_promoted'].value_counts(dropna=False)"
   ]
  },
  {
   "cell_type": "code",
   "execution_count": 40,
   "metadata": {},
   "outputs": [],
   "source": [
    "employee_data['recently_promoted'] = employee_data['recently_promoted'].fillna(0)"
   ]
  },
  {
   "cell_type": "markdown",
   "metadata": {},
   "source": [
    "### treating null values for age, gender, marital_status"
   ]
  },
  {
   "cell_type": "code",
   "execution_count": 28,
   "metadata": {},
   "outputs": [
    {
     "data": {
      "text/plain": [
       "24.0    1314\n",
       "25.0    1249\n",
       "23.0    1197\n",
       "22.0    1170\n",
       "27.0     662\n",
       "29.0     661\n",
       "28.0     647\n",
       "26.0     626\n",
       "42.0     303\n",
       "37.0     284\n",
       "33.0     279\n",
       "47.0     278\n",
       "32.0     277\n",
       "30.0     276\n",
       "48.0     274\n",
       "40.0     272\n",
       "41.0     271\n",
       "46.0     271\n",
       "39.0     270\n",
       "36.0     269\n",
       "38.0     269\n",
       "45.0     266\n",
       "43.0     265\n",
       "35.0     262\n",
       "52.0     252\n",
       "44.0     250\n",
       "34.0     243\n",
       "49.0     243\n",
       "53.0     235\n",
       "50.0     235\n",
       "54.0     228\n",
       "51.0     228\n",
       "31.0     225\n",
       "55.0      38\n",
       "57.0      34\n",
       "56.0      22\n",
       "NaN        5\n",
       "Name: age, dtype: int64"
      ]
     },
     "execution_count": 28,
     "metadata": {},
     "output_type": "execute_result"
    }
   ],
   "source": [
    "employee_data['age'].value_counts(dropna=False)"
   ]
  },
  {
   "cell_type": "code",
   "execution_count": 41,
   "metadata": {},
   "outputs": [
    {
     "data": {
      "text/plain": [
       "Male      9304\n",
       "Female    4841\n",
       "NaN          5\n",
       "Name: gender, dtype: int64"
      ]
     },
     "execution_count": 41,
     "metadata": {},
     "output_type": "execute_result"
    }
   ],
   "source": [
    "employee_data['gender'].value_counts(dropna=False)"
   ]
  },
  {
   "cell_type": "code",
   "execution_count": 30,
   "metadata": {},
   "outputs": [
    {
     "data": {
      "text/plain": [
       "Unmarried    7226\n",
       "Married      6919\n",
       "NaN             5\n",
       "Name: marital_status, dtype: int64"
      ]
     },
     "execution_count": 30,
     "metadata": {},
     "output_type": "execute_result"
    }
   ],
   "source": [
    "employee_data['marital_status'].value_counts(dropna=False)"
   ]
  },
  {
   "cell_type": "code",
   "execution_count": 42,
   "metadata": {},
   "outputs": [
    {
     "data": {
      "text/html": [
       "<div>\n",
       "<style scoped>\n",
       "    .dataframe tbody tr th:only-of-type {\n",
       "        vertical-align: middle;\n",
       "    }\n",
       "\n",
       "    .dataframe tbody tr th {\n",
       "        vertical-align: top;\n",
       "    }\n",
       "\n",
       "    .dataframe thead th {\n",
       "        text-align: right;\n",
       "    }\n",
       "</style>\n",
       "<table border=\"1\" class=\"dataframe\">\n",
       "  <thead>\n",
       "    <tr style=\"text-align: right;\">\n",
       "      <th></th>\n",
       "      <th>avg_monthly_hrs</th>\n",
       "      <th>filed_complaint</th>\n",
       "      <th>last_evaluation</th>\n",
       "      <th>n_projects</th>\n",
       "      <th>recently_promoted</th>\n",
       "      <th>satisfaction</th>\n",
       "      <th>tenure</th>\n",
       "      <th>employee_id</th>\n",
       "      <th>age</th>\n",
       "    </tr>\n",
       "  </thead>\n",
       "  <tbody>\n",
       "    <tr>\n",
       "      <th>count</th>\n",
       "      <td>14150.000000</td>\n",
       "      <td>14150.000000</td>\n",
       "      <td>12663.000000</td>\n",
       "      <td>14150.000000</td>\n",
       "      <td>14150.000000</td>\n",
       "      <td>14000.000000</td>\n",
       "      <td>14000.000000</td>\n",
       "      <td>14150.000000</td>\n",
       "      <td>14145.000000</td>\n",
       "    </tr>\n",
       "    <tr>\n",
       "      <th>mean</th>\n",
       "      <td>199.994346</td>\n",
       "      <td>0.144594</td>\n",
       "      <td>0.718399</td>\n",
       "      <td>3.778304</td>\n",
       "      <td>0.020989</td>\n",
       "      <td>0.621212</td>\n",
       "      <td>3.499357</td>\n",
       "      <td>112080.750247</td>\n",
       "      <td>32.898621</td>\n",
       "    </tr>\n",
       "    <tr>\n",
       "      <th>std</th>\n",
       "      <td>50.833697</td>\n",
       "      <td>0.351703</td>\n",
       "      <td>0.173108</td>\n",
       "      <td>1.250162</td>\n",
       "      <td>0.143354</td>\n",
       "      <td>0.250482</td>\n",
       "      <td>1.462584</td>\n",
       "      <td>8748.202856</td>\n",
       "      <td>9.978939</td>\n",
       "    </tr>\n",
       "    <tr>\n",
       "      <th>min</th>\n",
       "      <td>49.000000</td>\n",
       "      <td>0.000000</td>\n",
       "      <td>0.316175</td>\n",
       "      <td>1.000000</td>\n",
       "      <td>0.000000</td>\n",
       "      <td>0.040058</td>\n",
       "      <td>2.000000</td>\n",
       "      <td>0.000000</td>\n",
       "      <td>22.000000</td>\n",
       "    </tr>\n",
       "    <tr>\n",
       "      <th>25%</th>\n",
       "      <td>155.000000</td>\n",
       "      <td>0.000000</td>\n",
       "      <td>0.563711</td>\n",
       "      <td>3.000000</td>\n",
       "      <td>0.000000</td>\n",
       "      <td>0.450356</td>\n",
       "      <td>3.000000</td>\n",
       "      <td>105772.500000</td>\n",
       "      <td>24.000000</td>\n",
       "    </tr>\n",
       "    <tr>\n",
       "      <th>50%</th>\n",
       "      <td>199.000000</td>\n",
       "      <td>0.000000</td>\n",
       "      <td>0.724731</td>\n",
       "      <td>4.000000</td>\n",
       "      <td>0.000000</td>\n",
       "      <td>0.652394</td>\n",
       "      <td>3.000000</td>\n",
       "      <td>111291.500000</td>\n",
       "      <td>29.000000</td>\n",
       "    </tr>\n",
       "    <tr>\n",
       "      <th>75%</th>\n",
       "      <td>245.000000</td>\n",
       "      <td>0.000000</td>\n",
       "      <td>0.871409</td>\n",
       "      <td>5.000000</td>\n",
       "      <td>0.000000</td>\n",
       "      <td>0.824925</td>\n",
       "      <td>4.000000</td>\n",
       "      <td>116650.750000</td>\n",
       "      <td>41.000000</td>\n",
       "    </tr>\n",
       "    <tr>\n",
       "      <th>max</th>\n",
       "      <td>310.000000</td>\n",
       "      <td>1.000000</td>\n",
       "      <td>1.000000</td>\n",
       "      <td>7.000000</td>\n",
       "      <td>1.000000</td>\n",
       "      <td>1.000000</td>\n",
       "      <td>10.000000</td>\n",
       "      <td>148988.000000</td>\n",
       "      <td>57.000000</td>\n",
       "    </tr>\n",
       "  </tbody>\n",
       "</table>\n",
       "</div>"
      ],
      "text/plain": [
       "       avg_monthly_hrs  filed_complaint  last_evaluation    n_projects  \\\n",
       "count     14150.000000     14150.000000     12663.000000  14150.000000   \n",
       "mean        199.994346         0.144594         0.718399      3.778304   \n",
       "std          50.833697         0.351703         0.173108      1.250162   \n",
       "min          49.000000         0.000000         0.316175      1.000000   \n",
       "25%         155.000000         0.000000         0.563711      3.000000   \n",
       "50%         199.000000         0.000000         0.724731      4.000000   \n",
       "75%         245.000000         0.000000         0.871409      5.000000   \n",
       "max         310.000000         1.000000         1.000000      7.000000   \n",
       "\n",
       "       recently_promoted  satisfaction        tenure    employee_id  \\\n",
       "count       14150.000000  14000.000000  14000.000000   14150.000000   \n",
       "mean            0.020989      0.621212      3.499357  112080.750247   \n",
       "std             0.143354      0.250482      1.462584    8748.202856   \n",
       "min             0.000000      0.040058      2.000000       0.000000   \n",
       "25%             0.000000      0.450356      3.000000  105772.500000   \n",
       "50%             0.000000      0.652394      3.000000  111291.500000   \n",
       "75%             0.000000      0.824925      4.000000  116650.750000   \n",
       "max             1.000000      1.000000     10.000000  148988.000000   \n",
       "\n",
       "                age  \n",
       "count  14145.000000  \n",
       "mean      32.898621  \n",
       "std        9.978939  \n",
       "min       22.000000  \n",
       "25%       24.000000  \n",
       "50%       29.000000  \n",
       "75%       41.000000  \n",
       "max       57.000000  "
      ]
     },
     "execution_count": 42,
     "metadata": {},
     "output_type": "execute_result"
    }
   ],
   "source": [
    "employee_data.describe()"
   ]
  },
  {
   "cell_type": "code",
   "execution_count": 43,
   "metadata": {},
   "outputs": [],
   "source": [
    "employee_data['age'] = employee_data['age'].fillna(29.0)\n",
    "employee_data['marital_status'] = employee_data['marital_status'].fillna('Unmarried')\n",
    "employee_data['gender'] = employee_data['gender'].fillna('Male')"
   ]
  },
  {
   "cell_type": "code",
   "execution_count": 44,
   "metadata": {},
   "outputs": [
    {
     "data": {
      "text/plain": [
       "avg_monthly_hrs         0\n",
       "department              0\n",
       "filed_complaint         0\n",
       "last_evaluation      1487\n",
       "n_projects              0\n",
       "recently_promoted       0\n",
       "salary                  0\n",
       "satisfaction          150\n",
       "status                  0\n",
       "tenure                150\n",
       "employee_id             0\n",
       "dept_name               0\n",
       "dept_head               0\n",
       "age                     0\n",
       "gender                  0\n",
       "marital_status          0\n",
       "dtype: int64"
      ]
     },
     "execution_count": 44,
     "metadata": {},
     "output_type": "execute_result"
    }
   ],
   "source": [
    "employee_data.isnull().sum()"
   ]
  },
  {
   "cell_type": "code",
   "execution_count": 46,
   "metadata": {},
   "outputs": [
    {
     "data": {
      "text/plain": [
       "3.0     6018\n",
       "2.0     3023\n",
       "4.0     2394\n",
       "5.0     1369\n",
       "6.0      660\n",
       "10.0     201\n",
       "7.0      180\n",
       "8.0      155\n",
       "NaN      150\n",
       "Name: tenure, dtype: int64"
      ]
     },
     "execution_count": 46,
     "metadata": {},
     "output_type": "execute_result"
    }
   ],
   "source": [
    "employee_data['tenure'].value_counts(dropna=False)"
   ]
  },
  {
   "cell_type": "markdown",
   "metadata": {},
   "source": [
    "### treating null values for last_evaluation"
   ]
  },
  {
   "cell_type": "code",
   "execution_count": 47,
   "metadata": {},
   "outputs": [
    {
     "data": {
      "text/plain": [
       "count    12663.000000\n",
       "mean         0.718399\n",
       "std          0.173108\n",
       "min          0.316175\n",
       "25%          0.563711\n",
       "50%          0.724731\n",
       "75%          0.871409\n",
       "max          1.000000\n",
       "Name: last_evaluation, dtype: float64"
      ]
     },
     "execution_count": 47,
     "metadata": {},
     "output_type": "execute_result"
    }
   ],
   "source": [
    "employee_data['last_evaluation'].describe()"
   ]
  },
  {
   "cell_type": "code",
   "execution_count": 48,
   "metadata": {},
   "outputs": [],
   "source": [
    "employee_data['le_median'] = employee_data.groupby(['department'])['last_evaluation'].transform('median')"
   ]
  },
  {
   "cell_type": "code",
   "execution_count": 49,
   "metadata": {},
   "outputs": [
    {
     "data": {
      "text/html": [
       "<div>\n",
       "<style scoped>\n",
       "    .dataframe tbody tr th:only-of-type {\n",
       "        vertical-align: middle;\n",
       "    }\n",
       "\n",
       "    .dataframe tbody tr th {\n",
       "        vertical-align: top;\n",
       "    }\n",
       "\n",
       "    .dataframe thead th {\n",
       "        text-align: right;\n",
       "    }\n",
       "</style>\n",
       "<table border=\"1\" class=\"dataframe\">\n",
       "  <thead>\n",
       "    <tr style=\"text-align: right;\">\n",
       "      <th></th>\n",
       "      <th>avg_monthly_hrs</th>\n",
       "      <th>department</th>\n",
       "      <th>filed_complaint</th>\n",
       "      <th>last_evaluation</th>\n",
       "      <th>n_projects</th>\n",
       "      <th>recently_promoted</th>\n",
       "      <th>salary</th>\n",
       "      <th>satisfaction</th>\n",
       "      <th>status</th>\n",
       "      <th>tenure</th>\n",
       "      <th>employee_id</th>\n",
       "      <th>dept_name</th>\n",
       "      <th>dept_head</th>\n",
       "      <th>age</th>\n",
       "      <th>gender</th>\n",
       "      <th>marital_status</th>\n",
       "      <th>le_median</th>\n",
       "    </tr>\n",
       "  </thead>\n",
       "  <tbody>\n",
       "    <tr>\n",
       "      <th>0</th>\n",
       "      <td>246.0</td>\n",
       "      <td>D00-PD</td>\n",
       "      <td>0.0</td>\n",
       "      <td>0.866838</td>\n",
       "      <td>6</td>\n",
       "      <td>0.0</td>\n",
       "      <td>medium</td>\n",
       "      <td>0.134415</td>\n",
       "      <td>Left</td>\n",
       "      <td>4.0</td>\n",
       "      <td>124467</td>\n",
       "      <td>Product</td>\n",
       "      <td>Darcy Staines</td>\n",
       "      <td>42.0</td>\n",
       "      <td>Female</td>\n",
       "      <td>Married</td>\n",
       "      <td>0.732204</td>\n",
       "    </tr>\n",
       "    <tr>\n",
       "      <th>1</th>\n",
       "      <td>134.0</td>\n",
       "      <td>D00-PD</td>\n",
       "      <td>0.0</td>\n",
       "      <td>0.555718</td>\n",
       "      <td>2</td>\n",
       "      <td>0.0</td>\n",
       "      <td>low</td>\n",
       "      <td>0.511041</td>\n",
       "      <td>Left</td>\n",
       "      <td>3.0</td>\n",
       "      <td>112210</td>\n",
       "      <td>Product</td>\n",
       "      <td>Darcy Staines</td>\n",
       "      <td>23.0</td>\n",
       "      <td>Female</td>\n",
       "      <td>Unmarried</td>\n",
       "      <td>0.732204</td>\n",
       "    </tr>\n",
       "    <tr>\n",
       "      <th>2</th>\n",
       "      <td>156.0</td>\n",
       "      <td>D00-SS</td>\n",
       "      <td>1.0</td>\n",
       "      <td>0.474082</td>\n",
       "      <td>2</td>\n",
       "      <td>0.0</td>\n",
       "      <td>medium</td>\n",
       "      <td>0.405101</td>\n",
       "      <td>Left</td>\n",
       "      <td>3.0</td>\n",
       "      <td>126150</td>\n",
       "      <td>Sales</td>\n",
       "      <td>Edward J Bayley</td>\n",
       "      <td>24.0</td>\n",
       "      <td>Female</td>\n",
       "      <td>Unmarried</td>\n",
       "      <td>0.706105</td>\n",
       "    </tr>\n",
       "    <tr>\n",
       "      <th>3</th>\n",
       "      <td>256.0</td>\n",
       "      <td>D00-SP</td>\n",
       "      <td>0.0</td>\n",
       "      <td>0.961360</td>\n",
       "      <td>6</td>\n",
       "      <td>0.0</td>\n",
       "      <td>low</td>\n",
       "      <td>0.152974</td>\n",
       "      <td>Left</td>\n",
       "      <td>4.0</td>\n",
       "      <td>125346</td>\n",
       "      <td>Support</td>\n",
       "      <td>Amelia Westray</td>\n",
       "      <td>51.0</td>\n",
       "      <td>Female</td>\n",
       "      <td>Married</td>\n",
       "      <td>0.734583</td>\n",
       "    </tr>\n",
       "    <tr>\n",
       "      <th>4</th>\n",
       "      <td>146.0</td>\n",
       "      <td>D00-SS</td>\n",
       "      <td>0.0</td>\n",
       "      <td>0.507349</td>\n",
       "      <td>2</td>\n",
       "      <td>0.0</td>\n",
       "      <td>medium</td>\n",
       "      <td>0.434845</td>\n",
       "      <td>Left</td>\n",
       "      <td>3.0</td>\n",
       "      <td>113707</td>\n",
       "      <td>Sales</td>\n",
       "      <td>Edward J Bayley</td>\n",
       "      <td>23.0</td>\n",
       "      <td>Female</td>\n",
       "      <td>Unmarried</td>\n",
       "      <td>0.706105</td>\n",
       "    </tr>\n",
       "  </tbody>\n",
       "</table>\n",
       "</div>"
      ],
      "text/plain": [
       "   avg_monthly_hrs department  filed_complaint  last_evaluation  n_projects  \\\n",
       "0            246.0     D00-PD              0.0         0.866838           6   \n",
       "1            134.0     D00-PD              0.0         0.555718           2   \n",
       "2            156.0     D00-SS              1.0         0.474082           2   \n",
       "3            256.0     D00-SP              0.0         0.961360           6   \n",
       "4            146.0     D00-SS              0.0         0.507349           2   \n",
       "\n",
       "   recently_promoted  salary  satisfaction status  tenure  employee_id  \\\n",
       "0                0.0  medium      0.134415   Left     4.0       124467   \n",
       "1                0.0     low      0.511041   Left     3.0       112210   \n",
       "2                0.0  medium      0.405101   Left     3.0       126150   \n",
       "3                0.0     low      0.152974   Left     4.0       125346   \n",
       "4                0.0  medium      0.434845   Left     3.0       113707   \n",
       "\n",
       "  dept_name        dept_head   age  gender marital_status  le_median  \n",
       "0   Product    Darcy Staines  42.0  Female        Married   0.732204  \n",
       "1   Product    Darcy Staines  23.0  Female      Unmarried   0.732204  \n",
       "2     Sales  Edward J Bayley  24.0  Female      Unmarried   0.706105  \n",
       "3   Support   Amelia Westray  51.0  Female        Married   0.734583  \n",
       "4     Sales  Edward J Bayley  23.0  Female      Unmarried   0.706105  "
      ]
     },
     "execution_count": 49,
     "metadata": {},
     "output_type": "execute_result"
    }
   ],
   "source": [
    "employee_data.head()"
   ]
  },
  {
   "cell_type": "code",
   "execution_count": 50,
   "metadata": {},
   "outputs": [
    {
     "data": {
      "text/plain": [
       "(14150,)"
      ]
     },
     "execution_count": 50,
     "metadata": {},
     "output_type": "execute_result"
    }
   ],
   "source": [
    "employee_data['le_median'].shape"
   ]
  },
  {
   "cell_type": "code",
   "execution_count": 51,
   "metadata": {},
   "outputs": [],
   "source": [
    "employee_data.loc[employee_data['last_evaluation'].isnull(), 'last_evaluation'] = employee_data.loc[employee_data['last_evaluation'].isnull(), 'le_median'] "
   ]
  },
  {
   "cell_type": "code",
   "execution_count": 52,
   "metadata": {},
   "outputs": [],
   "source": [
    "employee_data.drop(['le_median'], axis=1, inplace=True)"
   ]
  },
  {
   "cell_type": "code",
   "execution_count": 53,
   "metadata": {},
   "outputs": [
    {
     "data": {
      "text/plain": [
       "avg_monthly_hrs        0\n",
       "department             0\n",
       "filed_complaint        0\n",
       "last_evaluation      150\n",
       "n_projects             0\n",
       "recently_promoted      0\n",
       "salary                 0\n",
       "satisfaction         150\n",
       "status                 0\n",
       "tenure               150\n",
       "employee_id            0\n",
       "dept_name              0\n",
       "dept_head              0\n",
       "age                    0\n",
       "gender                 0\n",
       "marital_status         0\n",
       "dtype: int64"
      ]
     },
     "execution_count": 53,
     "metadata": {},
     "output_type": "execute_result"
    }
   ],
   "source": [
    "employee_data.isnull().sum()"
   ]
  },
  {
   "cell_type": "code",
   "execution_count": 37,
   "metadata": {},
   "outputs": [
    {
     "data": {
      "text/plain": [
       "0.7288275"
      ]
     },
     "execution_count": 37,
     "metadata": {},
     "output_type": "execute_result"
    }
   ],
   "source": [
    "np.nanquantile(employee_data['last_evaluation'], 0.50)"
   ]
  },
  {
   "cell_type": "code",
   "execution_count": 54,
   "metadata": {},
   "outputs": [
    {
     "data": {
      "text/plain": [
       "count    14000.000000\n",
       "mean         0.718966\n",
       "std          0.164692\n",
       "min          0.316175\n",
       "25%          0.577334\n",
       "50%          0.728827\n",
       "75%          0.858351\n",
       "max          1.000000\n",
       "Name: last_evaluation, dtype: float64"
      ]
     },
     "execution_count": 54,
     "metadata": {},
     "output_type": "execute_result"
    }
   ],
   "source": [
    "employee_data['last_evaluation'].describe()"
   ]
  },
  {
   "cell_type": "code",
   "execution_count": 55,
   "metadata": {},
   "outputs": [],
   "source": [
    "employee_data.loc[employee_data['last_evaluation'].isnull(), \n",
    "                  'last_evaluation'] = np.nanquantile(employee_data['last_evaluation'], 0.50)"
   ]
  },
  {
   "cell_type": "code",
   "execution_count": 56,
   "metadata": {},
   "outputs": [
    {
     "data": {
      "text/plain": [
       "avg_monthly_hrs        0\n",
       "department             0\n",
       "filed_complaint        0\n",
       "last_evaluation        0\n",
       "n_projects             0\n",
       "recently_promoted      0\n",
       "salary                 0\n",
       "satisfaction         150\n",
       "status                 0\n",
       "tenure               150\n",
       "employee_id            0\n",
       "dept_name              0\n",
       "dept_head              0\n",
       "age                    0\n",
       "gender                 0\n",
       "marital_status         0\n",
       "dtype: int64"
      ]
     },
     "execution_count": 56,
     "metadata": {},
     "output_type": "execute_result"
    }
   ],
   "source": [
    "employee_data.isnull().sum()"
   ]
  },
  {
   "cell_type": "code",
   "execution_count": null,
   "metadata": {},
   "outputs": [
    {
     "data": {
      "text/plain": [
       "avg_monthly_hrs        0\n",
       "department             0\n",
       "filed_complaint        0\n",
       "last_evaluation        0\n",
       "n_projects             0\n",
       "recently_promoted      0\n",
       "salary                 0\n",
       "satisfaction         150\n",
       "status                 0\n",
       "tenure               150\n",
       "employee_id            0\n",
       "dept_name              0\n",
       "dept_head              0\n",
       "age                    0\n",
       "gender                 0\n",
       "marital_status         0\n",
       "dtype: int64"
      ]
     },
     "metadata": {},
     "output_type": "display_data"
    }
   ],
   "source": [
    "employee_data.isnull().sum()"
   ]
  },
  {
   "cell_type": "markdown",
   "metadata": {},
   "source": [
    "### treating null values for satisfaction and tenure"
   ]
  },
  {
   "cell_type": "code",
   "execution_count": 39,
   "metadata": {},
   "outputs": [
    {
     "data": {
      "text/plain": [
       "count    14000.000000\n",
       "mean         0.621212\n",
       "std          0.250482\n",
       "min          0.040058\n",
       "25%          0.450356\n",
       "50%          0.652394\n",
       "75%          0.824925\n",
       "max          1.000000\n",
       "Name: satisfaction, dtype: float64"
      ]
     },
     "execution_count": 39,
     "metadata": {},
     "output_type": "execute_result"
    }
   ],
   "source": [
    "employee_data['satisfaction'].describe()"
   ]
  },
  {
   "cell_type": "code",
   "execution_count": 57,
   "metadata": {},
   "outputs": [],
   "source": [
    "employee_data.loc[employee_data['satisfaction'].isnull(), \n",
    "                  'satisfaction'] = np.nanquantile(employee_data['satisfaction'], 0.50)"
   ]
  },
  {
   "cell_type": "code",
   "execution_count": 58,
   "metadata": {},
   "outputs": [
    {
     "data": {
      "text/plain": [
       "count    14000.000000\n",
       "mean         3.499357\n",
       "std          1.462584\n",
       "min          2.000000\n",
       "25%          3.000000\n",
       "50%          3.000000\n",
       "75%          4.000000\n",
       "max         10.000000\n",
       "Name: tenure, dtype: float64"
      ]
     },
     "execution_count": 58,
     "metadata": {},
     "output_type": "execute_result"
    }
   ],
   "source": [
    "employee_data['tenure'].describe()"
   ]
  },
  {
   "cell_type": "code",
   "execution_count": 42,
   "metadata": {},
   "outputs": [
    {
     "data": {
      "text/plain": [
       "3.0     6018\n",
       "2.0     3023\n",
       "4.0     2394\n",
       "5.0     1369\n",
       "6.0      660\n",
       "10.0     201\n",
       "7.0      180\n",
       "8.0      155\n",
       "NaN      150\n",
       "Name: tenure, dtype: int64"
      ]
     },
     "execution_count": 42,
     "metadata": {},
     "output_type": "execute_result"
    }
   ],
   "source": [
    "employee_data['tenure'].value_counts(dropna=False)"
   ]
  },
  {
   "cell_type": "code",
   "execution_count": 59,
   "metadata": {},
   "outputs": [],
   "source": [
    "employee_data['tenure'] = employee_data['tenure'].fillna(3.0)"
   ]
  },
  {
   "cell_type": "code",
   "execution_count": 60,
   "metadata": {},
   "outputs": [
    {
     "data": {
      "text/plain": [
       "avg_monthly_hrs      0\n",
       "department           0\n",
       "filed_complaint      0\n",
       "last_evaluation      0\n",
       "n_projects           0\n",
       "recently_promoted    0\n",
       "salary               0\n",
       "satisfaction         0\n",
       "status               0\n",
       "tenure               0\n",
       "employee_id          0\n",
       "dept_name            0\n",
       "dept_head            0\n",
       "age                  0\n",
       "gender               0\n",
       "marital_status       0\n",
       "dtype: int64"
      ]
     },
     "execution_count": 60,
     "metadata": {},
     "output_type": "execute_result"
    }
   ],
   "source": [
    "employee_data.isnull().sum()"
   ]
  },
  {
   "cell_type": "code",
   "execution_count": 61,
   "metadata": {},
   "outputs": [
    {
     "data": {
      "text/plain": [
       "0.01060070671378092"
      ]
     },
     "execution_count": 61,
     "metadata": {},
     "output_type": "execute_result"
    }
   ],
   "source": [
    "150/14150"
   ]
  }
 ],
 "metadata": {
  "kernelspec": {
   "display_name": "Python 3",
   "language": "python",
   "name": "python3"
  },
  "language_info": {
   "codemirror_mode": {
    "name": "ipython",
    "version": 3
   },
   "file_extension": ".py",
   "mimetype": "text/x-python",
   "name": "python",
   "nbconvert_exporter": "python",
   "pygments_lexer": "ipython3",
   "version": "3.10.5"
  }
 },
 "nbformat": 4,
 "nbformat_minor": 2
}
