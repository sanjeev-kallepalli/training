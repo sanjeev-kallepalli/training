{
 "cells": [
  {
   "cell_type": "markdown",
   "metadata": {},
   "source": [
    "# Loops"
   ]
  },
  {
   "cell_type": "markdown",
   "metadata": {},
   "source": [
    "### For Loop"
   ]
  },
  {
   "cell_type": "markdown",
   "metadata": {},
   "source": [
    "- for loop over iterators"
   ]
  },
  {
   "cell_type": "code",
   "execution_count": 50,
   "metadata": {},
   "outputs": [
    {
     "data": {
      "text/plain": [
       "False"
      ]
     },
     "execution_count": 50,
     "metadata": {},
     "output_type": "execute_result"
    }
   ],
   "source": [
    "isinstance(5.5, int)"
   ]
  },
  {
   "cell_type": "code",
   "execution_count": 5,
   "metadata": {},
   "outputs": [
    {
     "name": "stdout",
     "output_type": "stream",
     "text": [
      "ab | bc | cd | de |  \n",
      "end of loop continuing other code\n"
     ]
    }
   ],
   "source": [
    "\n",
    "lst = ['ab', 'bc', 'cd', 'de']\n",
    "\n",
    "for elmnt in lst:\n",
    "    print(elmnt, end=' | ')\n",
    "print(\" \")\n",
    "print(\"end of loop continuing other code\")"
   ]
  },
  {
   "cell_type": "code",
   "execution_count": 14,
   "metadata": {},
   "outputs": [
    {
     "name": "stdout",
     "output_type": "stream",
     "text": [
      "ab | this is string.\n",
      "bc | this is string.\n",
      "cd | this is string.\n",
      "de | this is string.\n",
      "5 |  \n",
      "ef | this is string.\n",
      " \n",
      "end of loop continuing other code\n"
     ]
    }
   ],
   "source": [
    "# x = 'ab'\n",
    "# x = 'bc'\n",
    "lst = ['ab', 'bc', 'cd', 'de', 5, 'ef']\n",
    "\n",
    "for x in lst:\n",
    "    print(x, end=' | ')\n",
    "    if isinstance(x, str):\n",
    "        print(\"this is string.\")\n",
    "    else:\n",
    "        print(\" \")\n",
    "print(\" \")\n",
    "print(\"end of loop continuing other code\")"
   ]
  },
  {
   "cell_type": "code",
   "execution_count": 15,
   "metadata": {},
   "outputs": [
    {
     "data": {
      "text/plain": [
       "6"
      ]
     },
     "execution_count": 15,
     "metadata": {},
     "output_type": "execute_result"
    }
   ],
   "source": [
    "len(lst)"
   ]
  },
  {
   "cell_type": "code",
   "execution_count": 17,
   "metadata": {},
   "outputs": [
    {
     "data": {
      "text/plain": [
       "range(0, 6)"
      ]
     },
     "execution_count": 17,
     "metadata": {},
     "output_type": "execute_result"
    }
   ],
   "source": [
    "range(0, len(lst), 1)"
   ]
  },
  {
   "cell_type": "code",
   "execution_count": 19,
   "metadata": {},
   "outputs": [
    {
     "name": "stdout",
     "output_type": "stream",
     "text": [
      "0\n",
      "1\n",
      "2\n",
      "3\n",
      "4\n",
      "5\n"
     ]
    }
   ],
   "source": [
    "for x in range(0, len(lst), 1):\n",
    "    print(x)"
   ]
  },
  {
   "cell_type": "code",
   "execution_count": 18,
   "metadata": {},
   "outputs": [
    {
     "data": {
      "text/plain": [
       "[0, 1, 2, 3, 4, 5]"
      ]
     },
     "execution_count": 18,
     "metadata": {},
     "output_type": "execute_result"
    }
   ],
   "source": [
    "[x for x in range(0, len(lst), 1)]"
   ]
  },
  {
   "cell_type": "code",
   "execution_count": 2,
   "metadata": {},
   "outputs": [
    {
     "name": "stdout",
     "output_type": "stream",
     "text": [
      "index is 0 and elemnt at it is ab\n",
      "index is 1 and elemnt at it is bc\n",
      "index is 2 and elemnt at it is cd\n",
      "index is 3 and elemnt at it is de\n"
     ]
    }
   ],
   "source": [
    "for i in range(len(lst)):\n",
    "    print(f\"index is {i} and elemnt at it is {lst[i]}\")"
   ]
  },
  {
   "cell_type": "code",
   "execution_count": 21,
   "metadata": {},
   "outputs": [
    {
     "name": "stdout",
     "output_type": "stream",
     "text": [
      "value ab at index 0\n",
      "value bc at index 1\n",
      "value cd at index 2\n",
      "value de at index 3\n",
      "value 5 at index 4\n",
      "value ef at index 5\n"
     ]
    }
   ],
   "source": [
    "# the first variable here will always be an index\n",
    "# second will always be value. Here i carries index, v carries value.\n",
    "for i, v in enumerate(lst):\n",
    "    print(f\"value {v} at index {i}\")"
   ]
  },
  {
   "cell_type": "code",
   "execution_count": 23,
   "metadata": {},
   "outputs": [
    {
     "name": "stdout",
     "output_type": "stream",
     "text": [
      "key: 0, value:learning\n",
      "key: 1, value:is\n",
      "key: 2, value:fun\n"
     ]
    }
   ],
   "source": [
    "dct_obj = {0:'learning', 1: 'is', 2: 'fun'}\n",
    "for key, value in dct_obj.items():\n",
    "    print(f\"key: {key}, value:{value}\")"
   ]
  },
  {
   "cell_type": "code",
   "execution_count": 7,
   "metadata": {},
   "outputs": [
    {
     "name": "stdout",
     "output_type": "stream",
     "text": [
      "ef | fg | gh | hi | "
     ]
    }
   ],
   "source": [
    "tpl = ('ef', 'fg', 'gh', 'hi')\n",
    "for elmnt in tpl:\n",
    "    print(elmnt, end=' | ')"
   ]
  },
  {
   "cell_type": "code",
   "execution_count": 8,
   "metadata": {},
   "outputs": [
    {
     "name": "stdout",
     "output_type": "stream",
     "text": [
      "index is 0 and elemnt at it is ef\n",
      "index is 1 and elemnt at it is fg\n",
      "index is 2 and elemnt at it is gh\n",
      "index is 3 and elemnt at it is hi\n"
     ]
    }
   ],
   "source": [
    "for i in range(len(tpl)):\n",
    "    print(f\"index is {i} and elemnt at it is {tpl[i]}\")"
   ]
  },
  {
   "cell_type": "code",
   "execution_count": 26,
   "metadata": {},
   "outputs": [
    {
     "name": "stdout",
     "output_type": "stream",
     "text": [
      "h | e | l | l | o |   | w | o | r | l | d | ! | "
     ]
    }
   ],
   "source": [
    "# iterate over string\n",
    "var = 'hello world!'\n",
    "for chr in var:\n",
    "    print(chr, end=' | ')"
   ]
  },
  {
   "cell_type": "code",
   "execution_count": 27,
   "metadata": {},
   "outputs": [
    {
     "data": {
      "text/plain": [
       "['hello', 'world!']"
      ]
     },
     "execution_count": 27,
     "metadata": {},
     "output_type": "execute_result"
    }
   ],
   "source": [
    "# by default it splits on space\n",
    "# the result of split is always a list.\n",
    "var.split()"
   ]
  },
  {
   "cell_type": "code",
   "execution_count": 28,
   "metadata": {},
   "outputs": [
    {
     "data": {
      "text/plain": [
       "['a', 'b', 'c', 'd']"
      ]
     },
     "execution_count": 28,
     "metadata": {},
     "output_type": "execute_result"
    }
   ],
   "source": [
    "'a,b,c,d'.split(',')"
   ]
  },
  {
   "cell_type": "code",
   "execution_count": 29,
   "metadata": {},
   "outputs": [
    {
     "data": {
      "text/plain": [
       "['a', 'b', 'c', 'd', '']"
      ]
     },
     "execution_count": 29,
     "metadata": {},
     "output_type": "execute_result"
    }
   ],
   "source": [
    "'a,b,c,d,'.split(',')"
   ]
  },
  {
   "cell_type": "code",
   "execution_count": 11,
   "metadata": {},
   "outputs": [
    {
     "name": "stdout",
     "output_type": "stream",
     "text": [
      "hello\n",
      "world!\n"
     ]
    }
   ],
   "source": [
    "for wrd in var.split():\n",
    "    print(wrd)"
   ]
  },
  {
   "cell_type": "code",
   "execution_count": 30,
   "metadata": {},
   "outputs": [
    {
     "name": "stdout",
     "output_type": "stream",
     "text": [
      "1\n",
      "2\n",
      "3\n",
      "4\n",
      "5\n"
     ]
    }
   ],
   "source": [
    "st = {1, 2, 3, 4, 5}\n",
    "for val in st:\n",
    "    print(val)"
   ]
  },
  {
   "cell_type": "code",
   "execution_count": 31,
   "metadata": {},
   "outputs": [
    {
     "name": "stdout",
     "output_type": "stream",
     "text": [
      "0\n",
      "1\n",
      "2\n"
     ]
    }
   ],
   "source": [
    "dct_obj = {0:'learning', 1: 'is', 2: 'fun'}\n",
    "for key in dct_obj.keys():\n",
    "    print(key)"
   ]
  },
  {
   "cell_type": "code",
   "execution_count": 32,
   "metadata": {},
   "outputs": [
    {
     "name": "stdout",
     "output_type": "stream",
     "text": [
      "learning\n",
      "is\n",
      "fun\n"
     ]
    }
   ],
   "source": [
    "for val in dct_obj.values():\n",
    "    print(val)"
   ]
  },
  {
   "cell_type": "code",
   "execution_count": 33,
   "metadata": {},
   "outputs": [
    {
     "name": "stdout",
     "output_type": "stream",
     "text": [
      "value of key 0 is learning\n",
      "value of key 1 is is\n",
      "value of key 2 is fun\n"
     ]
    }
   ],
   "source": [
    "for key, value in dct_obj.items():\n",
    "    print(f\"value of key {key} is {value}\")"
   ]
  },
  {
   "cell_type": "code",
   "execution_count": 36,
   "metadata": {},
   "outputs": [],
   "source": [
    "for x in []:\n",
    "    print(x)"
   ]
  },
  {
   "cell_type": "markdown",
   "metadata": {},
   "source": [
    "### While loop"
   ]
  },
  {
   "cell_type": "markdown",
   "metadata": {},
   "source": [
    "- always have logic to come out of while loop\n",
    "- if not properly used, it might continue in loops for ever"
   ]
  },
  {
   "cell_type": "code",
   "execution_count": null,
   "metadata": {},
   "outputs": [],
   "source": [
    "# note that this condition is always true.\n",
    "# and program continues to run for infinite loops.\n",
    "while 1<5:\n",
    "    print(\"hey\")"
   ]
  },
  {
   "cell_type": "code",
   "execution_count": 35,
   "metadata": {},
   "outputs": [
    {
     "name": "stdout",
     "output_type": "stream",
     "text": [
      "hey 0\n",
      "hey 1\n",
      "hey 2\n",
      "hey 3\n",
      "hey 4\n",
      "after while loop\n"
     ]
    }
   ],
   "source": [
    "# just as a precautionary measure, we add constraint.\n",
    "# have a counter which monitors how many loops got completed.\n",
    "loop_count = 0\n",
    "while 1<5 and loop_count<5:\n",
    "    print(\"hey\", loop_count)\n",
    "    # increment the counter by 1 at the end of loop\n",
    "    loop_count += 1\n",
    "print(\"after while loop\")"
   ]
  },
  {
   "cell_type": "code",
   "execution_count": 37,
   "metadata": {},
   "outputs": [],
   "source": [
    "x = int(input(\"Enter defined number: \"))"
   ]
  },
  {
   "cell_type": "code",
   "execution_count": 38,
   "metadata": {},
   "outputs": [
    {
     "data": {
      "text/plain": [
       "10"
      ]
     },
     "execution_count": 38,
     "metadata": {},
     "output_type": "execute_result"
    }
   ],
   "source": [
    "x"
   ]
  },
  {
   "cell_type": "code",
   "execution_count": 39,
   "metadata": {},
   "outputs": [
    {
     "data": {
      "text/plain": [
       "int"
      ]
     },
     "execution_count": 39,
     "metadata": {},
     "output_type": "execute_result"
    }
   ],
   "source": [
    "type(x)"
   ]
  },
  {
   "cell_type": "code",
   "execution_count": null,
   "metadata": {},
   "outputs": [],
   "source": [
    "z = 5"
   ]
  },
  {
   "cell_type": "code",
   "execution_count": null,
   "metadata": {},
   "outputs": [],
   "source": []
  },
  {
   "cell_type": "code",
   "execution_count": 40,
   "metadata": {},
   "outputs": [
    {
     "name": "stdout",
     "output_type": "stream",
     "text": [
      "sum is 55\n",
      "the last value of counter is 11\n"
     ]
    }
   ],
   "source": [
    "counter = 1\n",
    "total = 0\n",
    "while counter<=x:\n",
    "    total += counter\n",
    "    # sum = sum + counter\n",
    "    counter += 1\n",
    "    # counter = counter + 1\n",
    "print(f\"sum is {total}\\nthe last value of counter is {counter}\")"
   ]
  },
  {
   "cell_type": "code",
   "execution_count": 41,
   "metadata": {},
   "outputs": [
    {
     "data": {
      "text/plain": [
       "55"
      ]
     },
     "execution_count": 41,
     "metadata": {},
     "output_type": "execute_result"
    }
   ],
   "source": [
    "sum([1, 2, 3, 4, 5, 6, 7, 8, 9, 10])"
   ]
  },
  {
   "cell_type": "code",
   "execution_count": 51,
   "metadata": {},
   "outputs": [
    {
     "data": {
      "text/plain": [
       "15.9"
      ]
     },
     "execution_count": 51,
     "metadata": {},
     "output_type": "execute_result"
    }
   ],
   "source": [
    "sum([5, 10.9])"
   ]
  },
  {
   "cell_type": "code",
   "execution_count": 54,
   "metadata": {},
   "outputs": [
    {
     "name": "stdout",
     "output_type": "stream",
     "text": [
      "15.9\n"
     ]
    }
   ],
   "source": [
    "total = 0\n",
    "for elmnt in [5, 10.9]:\n",
    "    total = total + elmnt\n",
    "print(total)"
   ]
  },
  {
   "cell_type": "markdown",
   "metadata": {},
   "source": [
    "Typical break, continue and pass in loops\n",
    "- break stops the forloop and rest part of the body.\n",
    "- continue stops rest part of the body for that element and continues to next element\n",
    "- pass allows both rest part of the body and goes to next element."
   ]
  },
  {
   "cell_type": "code",
   "execution_count": 42,
   "metadata": {},
   "outputs": [
    {
     "name": "stdout",
     "output_type": "stream",
     "text": [
      "p\n",
      "y\n",
      "t\n",
      "h\n",
      "for loop completed\n"
     ]
    }
   ],
   "source": [
    "# break\n",
    "\n",
    "for chr in 'python':\n",
    "    print(chr)\n",
    "    if chr == 'h':\n",
    "        break\n",
    "print(\"for loop completed\")"
   ]
  },
  {
   "cell_type": "code",
   "execution_count": 1,
   "metadata": {},
   "outputs": [
    {
     "name": "stdout",
     "output_type": "stream",
     "text": [
      "0\n",
      "1\n",
      "2\n",
      "3\n",
      "4\n"
     ]
    }
   ],
   "source": [
    "for i in range(5):\n",
    "    print(i)"
   ]
  },
  {
   "cell_type": "code",
   "execution_count": 55,
   "metadata": {},
   "outputs": [
    {
     "name": "stdout",
     "output_type": "stream",
     "text": [
      "0\n",
      "1\n",
      "2\n"
     ]
    }
   ],
   "source": [
    "for i in range(5):\n",
    "    if i == 3:\n",
    "        break\n",
    "    print(i)"
   ]
  },
  {
   "cell_type": "code",
   "execution_count": 2,
   "metadata": {},
   "outputs": [
    {
     "name": "stdout",
     "output_type": "stream",
     "text": [
      "0\n",
      "1\n",
      "2\n",
      "4\n",
      "5\n"
     ]
    }
   ],
   "source": [
    "for i in range(6):\n",
    "    if i == 3:\n",
    "        continue\n",
    "    print(i)"
   ]
  },
  {
   "cell_type": "code",
   "execution_count": 43,
   "metadata": {},
   "outputs": [
    {
     "name": "stdout",
     "output_type": "stream",
     "text": [
      "p\n",
      "y\n",
      "t\n",
      "for loop completed\n"
     ]
    }
   ],
   "source": [
    "for chr in 'python':\n",
    "    if chr == 'h':\n",
    "        break\n",
    "    print(chr)\n",
    "print(\"for loop completed\")"
   ]
  },
  {
   "cell_type": "code",
   "execution_count": 44,
   "metadata": {},
   "outputs": [
    {
     "name": "stdout",
     "output_type": "stream",
     "text": [
      "for loop completed\n"
     ]
    }
   ],
   "source": [
    "for chr in 'python':\n",
    "    if chr != 'h':\n",
    "        break\n",
    "    print(chr)\n",
    "print(\"for loop completed\")"
   ]
  },
  {
   "cell_type": "code",
   "execution_count": 47,
   "metadata": {},
   "outputs": [
    {
     "name": "stdout",
     "output_type": "stream",
     "text": [
      "p\n",
      "hey\n",
      "y\n",
      "hey\n",
      "t\n",
      "hey\n",
      "o\n",
      "hey\n",
      "n\n",
      "hey\n",
      "for loop completed\n"
     ]
    }
   ],
   "source": [
    "for chr in 'python':\n",
    "    if chr == 'h':\n",
    "        continue\n",
    "    print(chr)\n",
    "    print('hey')\n",
    "print(\"for loop completed\")"
   ]
  },
  {
   "cell_type": "code",
   "execution_count": 3,
   "metadata": {},
   "outputs": [
    {
     "name": "stdout",
     "output_type": "stream",
     "text": [
      "p\n",
      "y\n",
      "t\n",
      "h\n",
      "o\n",
      "n\n"
     ]
    }
   ],
   "source": [
    "for chr in 'python':\n",
    "    print(chr)"
   ]
  },
  {
   "cell_type": "code",
   "execution_count": 48,
   "metadata": {},
   "outputs": [
    {
     "name": "stdout",
     "output_type": "stream",
     "text": [
      "p\n",
      "y\n",
      "t\n",
      "h\n",
      "o\n",
      "n\n"
     ]
    }
   ],
   "source": [
    "for chr in 'python':\n",
    "    pass\n",
    "    print(chr)"
   ]
  },
  {
   "cell_type": "code",
   "execution_count": 57,
   "metadata": {},
   "outputs": [
    {
     "name": "stdout",
     "output_type": "stream",
     "text": [
      "g\n",
      "e\n",
      "Out of for loop\n",
      "\n"
     ]
    }
   ],
   "source": [
    "# Python program to \n",
    "# demonstrate break statement \n",
    "  \n",
    "s = 'geeksforgeeks'\n",
    "# Using for loop \n",
    "for letter in s: \n",
    "  \n",
    "    print(letter) \n",
    "    # break the loop as soon it sees 'e' \n",
    "    # or 's' \n",
    "    if letter == 'e' or letter == 's': \n",
    "        break\n",
    "  \n",
    "print(\"Out of for loop\"    ) \n",
    "print() \n",
    "\n",
    "  \n"
   ]
  },
  {
   "cell_type": "code",
   "execution_count": 58,
   "metadata": {},
   "outputs": [
    {
     "data": {
      "text/plain": [
       "'geeksforgeeks'"
      ]
     },
     "execution_count": 58,
     "metadata": {},
     "output_type": "execute_result"
    }
   ],
   "source": [
    "s"
   ]
  },
  {
   "cell_type": "code",
   "execution_count": 59,
   "metadata": {},
   "outputs": [
    {
     "data": {
      "text/plain": [
       "'g'"
      ]
     },
     "execution_count": 59,
     "metadata": {},
     "output_type": "execute_result"
    }
   ],
   "source": [
    "s[0]"
   ]
  },
  {
   "cell_type": "code",
   "execution_count": 60,
   "metadata": {},
   "outputs": [
    {
     "data": {
      "text/plain": [
       "'e'"
      ]
     },
     "execution_count": 60,
     "metadata": {},
     "output_type": "execute_result"
    }
   ],
   "source": [
    "s[1]"
   ]
  },
  {
   "cell_type": "code",
   "execution_count": 61,
   "metadata": {},
   "outputs": [
    {
     "data": {
      "text/plain": [
       "'e'"
      ]
     },
     "execution_count": 61,
     "metadata": {},
     "output_type": "execute_result"
    }
   ],
   "source": [
    "s[2]"
   ]
  },
  {
   "cell_type": "code",
   "execution_count": 62,
   "metadata": {},
   "outputs": [
    {
     "name": "stdout",
     "output_type": "stream",
     "text": [
      "g\n",
      "e\n",
      "Out of while loop \n"
     ]
    }
   ],
   "source": [
    "# Using while loop \n",
    "i = 0\n",
    "while True and i<10:\n",
    "    print(s[i]) \n",
    "  \n",
    "    # break the loop as soon it sees 'e' \n",
    "    # or 's' \n",
    "    if s[i] == 'e' or s[i] == 's': \n",
    "        break\n",
    "    i += 1\n",
    "  \n",
    "print(\"Out of while loop \") "
   ]
  },
  {
   "cell_type": "code",
   "execution_count": 63,
   "metadata": {},
   "outputs": [
    {
     "name": "stdout",
     "output_type": "stream",
     "text": [
      "Out of while loop \n"
     ]
    }
   ],
   "source": [
    "# Using while loop \n",
    "i = 0\n",
    "while False:\n",
    "    print(s[i]) \n",
    "  \n",
    "    # break the loop as soon it sees 'e' \n",
    "    # or 's' \n",
    "    if s[i] == 'e' or s[i] == 's': \n",
    "        break\n",
    "    i += 1\n",
    "  \n",
    "print(\"Out of while loop \") "
   ]
  },
  {
   "cell_type": "code",
   "execution_count": null,
   "metadata": {},
   "outputs": [],
   "source": []
  }
 ],
 "metadata": {
  "kernelspec": {
   "display_name": "Python 3",
   "language": "python",
   "name": "python3"
  },
  "language_info": {
   "codemirror_mode": {
    "name": "ipython",
    "version": 3
   },
   "file_extension": ".py",
   "mimetype": "text/x-python",
   "name": "python",
   "nbconvert_exporter": "python",
   "pygments_lexer": "ipython3",
   "version": "3.10.5"
  }
 },
 "nbformat": 4,
 "nbformat_minor": 2
}
