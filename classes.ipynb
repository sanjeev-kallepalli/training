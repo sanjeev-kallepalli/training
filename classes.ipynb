{
 "cells": [
  {
   "cell_type": "markdown",
   "metadata": {},
   "source": [
    "# Python Classes"
   ]
  },
  {
   "cell_type": "code",
   "execution_count": 4,
   "metadata": {},
   "outputs": [
    {
     "name": "stdout",
     "output_type": "stream",
     "text": [
      "<class 'dict'>\n"
     ]
    },
    {
     "data": {
      "text/plain": [
       "{'name': 'Stacy', 'Age': 30}"
      ]
     },
     "execution_count": 4,
     "metadata": {},
     "output_type": "execute_result"
    }
   ],
   "source": [
    "z = {}\n",
    "print(type(z))\n",
    "z[\"name\"] = 'Stacy'\n",
    "z[\"Age\"] = 30\n",
    "z"
   ]
  },
  {
   "cell_type": "code",
   "execution_count": 5,
   "metadata": {},
   "outputs": [
    {
     "data": {
      "text/plain": [
       "'Stacy'"
      ]
     },
     "execution_count": 5,
     "metadata": {},
     "output_type": "execute_result"
    }
   ],
   "source": [
    "z[\"name\"]"
   ]
  },
  {
   "cell_type": "code",
   "execution_count": 6,
   "metadata": {},
   "outputs": [],
   "source": [
    "z['Age'] = 40"
   ]
  },
  {
   "cell_type": "code",
   "execution_count": 7,
   "metadata": {},
   "outputs": [
    {
     "data": {
      "text/plain": [
       "{'name': 'Stacy', 'Age': 40}"
      ]
     },
     "execution_count": 7,
     "metadata": {},
     "output_type": "execute_result"
    }
   ],
   "source": [
    "z"
   ]
  },
  {
   "cell_type": "markdown",
   "metadata": {},
   "source": [
    "## Initializing a class"
   ]
  },
  {
   "cell_type": "code",
   "execution_count": 8,
   "metadata": {},
   "outputs": [],
   "source": [
    "class MyClass:\n",
    "    name='Blah'\n",
    "    age='28'\n",
    "    location='Ind'"
   ]
  },
  {
   "cell_type": "code",
   "execution_count": 9,
   "metadata": {},
   "outputs": [],
   "source": [
    "myclass = MyClass()"
   ]
  },
  {
   "cell_type": "code",
   "execution_count": 10,
   "metadata": {},
   "outputs": [
    {
     "data": {
      "text/plain": [
       "'Blah'"
      ]
     },
     "execution_count": 10,
     "metadata": {},
     "output_type": "execute_result"
    }
   ],
   "source": [
    "myclass.name"
   ]
  },
  {
   "cell_type": "code",
   "execution_count": 11,
   "metadata": {},
   "outputs": [],
   "source": [
    "class Dog:\n",
    "    def __init__(self, height, age, breed):\n",
    "        self.height = height\n",
    "        self.age = age\n",
    "        self.breed = breed"
   ]
  },
  {
   "cell_type": "code",
   "execution_count": 12,
   "metadata": {},
   "outputs": [
    {
     "ename": "TypeError",
     "evalue": "Dog.__init__() missing 3 required positional arguments: 'height', 'age', and 'breed'",
     "output_type": "error",
     "traceback": [
      "\u001b[1;31m---------------------------------------------------------------------------\u001b[0m",
      "\u001b[1;31mTypeError\u001b[0m                                 Traceback (most recent call last)",
      "Input \u001b[1;32mIn [12]\u001b[0m, in \u001b[0;36m<cell line: 1>\u001b[1;34m()\u001b[0m\n\u001b[1;32m----> 1\u001b[0m german_shepperd \u001b[38;5;241m=\u001b[39m \u001b[43mDog\u001b[49m\u001b[43m(\u001b[49m\u001b[43m)\u001b[49m\n",
      "\u001b[1;31mTypeError\u001b[0m: Dog.__init__() missing 3 required positional arguments: 'height', 'age', and 'breed'"
     ]
    }
   ],
   "source": [
    "german_shepperd = Dog()"
   ]
  },
  {
   "cell_type": "code",
   "execution_count": 13,
   "metadata": {},
   "outputs": [],
   "source": [
    "german_shepperd = Dog(1.5, 5, 'German')"
   ]
  },
  {
   "cell_type": "code",
   "execution_count": 14,
   "metadata": {},
   "outputs": [
    {
     "name": "stdout",
     "output_type": "stream",
     "text": [
      "<__main__.Dog object at 0x000002042D4F95A0>\n"
     ]
    }
   ],
   "source": [
    "print(german_shepperd)"
   ]
  },
  {
   "cell_type": "code",
   "execution_count": 15,
   "metadata": {},
   "outputs": [
    {
     "data": {
      "text/plain": [
       "5"
      ]
     },
     "execution_count": 15,
     "metadata": {},
     "output_type": "execute_result"
    }
   ],
   "source": [
    "german_shepperd.age"
   ]
  },
  {
   "cell_type": "code",
   "execution_count": 16,
   "metadata": {},
   "outputs": [
    {
     "data": {
      "text/plain": [
       "1.5"
      ]
     },
     "execution_count": 16,
     "metadata": {},
     "output_type": "execute_result"
    }
   ],
   "source": [
    "german_shepperd.height"
   ]
  },
  {
   "cell_type": "code",
   "execution_count": 17,
   "metadata": {},
   "outputs": [
    {
     "data": {
      "text/plain": [
       "'German'"
      ]
     },
     "execution_count": 17,
     "metadata": {},
     "output_type": "execute_result"
    }
   ],
   "source": [
    "german_shepperd.breed"
   ]
  },
  {
   "cell_type": "code",
   "execution_count": 18,
   "metadata": {},
   "outputs": [],
   "source": [
    "class Dog:\n",
    "    def __init__(self, height, age, breed):\n",
    "        self.height = height\n",
    "        self.age = age\n",
    "        self.breed = breed\n",
    "\n",
    "    def about(self):\n",
    "        print(f\"My breed is {self.breed} and I age about {self.age} and my height is {self.height}\")"
   ]
  },
  {
   "cell_type": "code",
   "execution_count": 19,
   "metadata": {},
   "outputs": [
    {
     "name": "stdout",
     "output_type": "stream",
     "text": [
      "My breed is German and I age about 5 and my height is 1.5\n"
     ]
    }
   ],
   "source": [
    "german_shepperd = Dog(1.5, 5, 'German')\n",
    "german_shepperd.about()"
   ]
  },
  {
   "cell_type": "code",
   "execution_count": 20,
   "metadata": {},
   "outputs": [
    {
     "name": "stdout",
     "output_type": "stream",
     "text": [
      "My breed is Street and I age about 1 and my height is 0.5\n"
     ]
    }
   ],
   "source": [
    "street_dg = Dog(.5, 1, 'Street')\n",
    "street_dg.about()"
   ]
  },
  {
   "cell_type": "code",
   "execution_count": 21,
   "metadata": {},
   "outputs": [],
   "source": [
    "class Person:\n",
    "    def __init__(self, name, age):\n",
    "        self.name = name\n",
    "        self.age = age"
   ]
  },
  {
   "cell_type": "code",
   "execution_count": 22,
   "metadata": {},
   "outputs": [],
   "source": [
    "p1 = Person('John', 36)"
   ]
  },
  {
   "cell_type": "code",
   "execution_count": 23,
   "metadata": {},
   "outputs": [],
   "source": [
    "class Person:\n",
    "    def __init__(capture, name, age):\n",
    "        capture.name = name\n",
    "        capture.age = age"
   ]
  },
  {
   "cell_type": "code",
   "execution_count": 24,
   "metadata": {},
   "outputs": [],
   "source": [
    "p1 = Person('John', 36)"
   ]
  },
  {
   "cell_type": "code",
   "execution_count": 25,
   "metadata": {},
   "outputs": [
    {
     "name": "stdout",
     "output_type": "stream",
     "text": [
      "36 John\n"
     ]
    }
   ],
   "source": [
    "print(p1.age, p1.name)"
   ]
  },
  {
   "cell_type": "code",
   "execution_count": 26,
   "metadata": {},
   "outputs": [
    {
     "name": "stdout",
     "output_type": "stream",
     "text": [
      "John 36\n"
     ]
    }
   ],
   "source": [
    "print(p1.name, p1.age)"
   ]
  },
  {
   "cell_type": "code",
   "execution_count": 27,
   "metadata": {},
   "outputs": [
    {
     "name": "stdout",
     "output_type": "stream",
     "text": [
      "John is having age about 36\n"
     ]
    }
   ],
   "source": [
    "print(f\"{p1.name} is having age about {p1.age}\")"
   ]
  },
  {
   "cell_type": "code",
   "execution_count": 28,
   "metadata": {},
   "outputs": [
    {
     "name": "stdout",
     "output_type": "stream",
     "text": [
      "John is having age about 36\n"
     ]
    }
   ],
   "source": [
    "print(\"{0} is having age about {1}\".format(p1.name, p1.age))"
   ]
  },
  {
   "cell_type": "code",
   "execution_count": 29,
   "metadata": {},
   "outputs": [
    {
     "name": "stdout",
     "output_type": "stream",
     "text": [
      "<__main__.Person object at 0x000002042D4E9B40>\n"
     ]
    }
   ],
   "source": [
    "print(p1)"
   ]
  },
  {
   "cell_type": "code",
   "execution_count": 30,
   "metadata": {},
   "outputs": [
    {
     "data": {
      "text/plain": [
       "('Mary', 25)"
      ]
     },
     "execution_count": 30,
     "metadata": {},
     "output_type": "execute_result"
    }
   ],
   "source": [
    "p2 = Person('Mary', 25)\n",
    "p2.name, p2.age"
   ]
  },
  {
   "cell_type": "code",
   "execution_count": 31,
   "metadata": {},
   "outputs": [],
   "source": [
    "p2.age=35"
   ]
  },
  {
   "cell_type": "code",
   "execution_count": 32,
   "metadata": {},
   "outputs": [
    {
     "data": {
      "text/plain": [
       "('Mary', 35)"
      ]
     },
     "execution_count": 32,
     "metadata": {},
     "output_type": "execute_result"
    }
   ],
   "source": [
    "p2.name, p2.age"
   ]
  },
  {
   "cell_type": "code",
   "execution_count": 33,
   "metadata": {},
   "outputs": [],
   "source": [
    "def fn_name():\n",
    "    \"\"\" this is doc string from fn_name \"\"\"\n",
    "    print(\"Hello world!\")"
   ]
  },
  {
   "cell_type": "code",
   "execution_count": 34,
   "metadata": {},
   "outputs": [
    {
     "data": {
      "text/plain": [
       "' this is doc string from fn_name '"
      ]
     },
     "execution_count": 34,
     "metadata": {},
     "output_type": "execute_result"
    }
   ],
   "source": [
    "fn_name.__doc__"
   ]
  },
  {
   "cell_type": "code",
   "execution_count": 35,
   "metadata": {},
   "outputs": [],
   "source": [
    "# string representation of an object with __str__ function\n",
    "class Person:\n",
    "    def __init__(self, name, age):\n",
    "        self.name = name\n",
    "        self.age = age\n",
    "    def __str__(self):\n",
    "        return f\"Person is {self.name} with age {self.age}\""
   ]
  },
  {
   "cell_type": "code",
   "execution_count": 36,
   "metadata": {},
   "outputs": [],
   "source": [
    "p1 = Person(\"John\", 35)"
   ]
  },
  {
   "cell_type": "code",
   "execution_count": 37,
   "metadata": {},
   "outputs": [
    {
     "name": "stdout",
     "output_type": "stream",
     "text": [
      "Person is John with age 35\n"
     ]
    }
   ],
   "source": [
    "print(p1)"
   ]
  },
  {
   "cell_type": "code",
   "execution_count": 38,
   "metadata": {},
   "outputs": [],
   "source": [
    "# we can have a function within class that can be called.\n",
    "# This is called a method within an object.\n",
    "# Methods in objects are functions that belong to object.\n",
    "class Person:\n",
    "    def __init__(self, name, age):\n",
    "        self.name = name\n",
    "        self.age = age\n",
    "\n",
    "    def myfunc(self):\n",
    "        print(f\"Hello my name is {self.name}\")\n",
    "        print(f\"My age is {self.age}\")"
   ]
  },
  {
   "cell_type": "code",
   "execution_count": 39,
   "metadata": {},
   "outputs": [],
   "source": [
    "p1 = Person(\"John\", 36)"
   ]
  },
  {
   "cell_type": "code",
   "execution_count": 40,
   "metadata": {},
   "outputs": [
    {
     "data": {
      "text/plain": [
       "36"
      ]
     },
     "execution_count": 40,
     "metadata": {},
     "output_type": "execute_result"
    }
   ],
   "source": [
    "p1.age"
   ]
  },
  {
   "cell_type": "code",
   "execution_count": 41,
   "metadata": {},
   "outputs": [
    {
     "data": {
      "text/plain": [
       "'John'"
      ]
     },
     "execution_count": 41,
     "metadata": {},
     "output_type": "execute_result"
    }
   ],
   "source": [
    "p1.name"
   ]
  },
  {
   "cell_type": "code",
   "execution_count": 42,
   "metadata": {},
   "outputs": [
    {
     "name": "stdout",
     "output_type": "stream",
     "text": [
      "Hello my name is John\n",
      "My age is 36\n"
     ]
    }
   ],
   "source": [
    "p1.myfunc()"
   ]
  },
  {
   "cell_type": "code",
   "execution_count": 43,
   "metadata": {},
   "outputs": [],
   "source": [
    "class Person:\n",
    "    def __init__(self, name, age):\n",
    "        self.name = name\n",
    "        self.age = age\n",
    "\n",
    "    def myfunc(self, foreign_variable='a'):\n",
    "        print(f\"Hello my name is {self.name}\")\n",
    "        print(f\"My age is {self.age}\")\n",
    "        print(f\"foreign value is {foreign_variable}\")"
   ]
  },
  {
   "cell_type": "code",
   "execution_count": 44,
   "metadata": {},
   "outputs": [],
   "source": [
    "p1 = Person(\"John\", 36)"
   ]
  },
  {
   "cell_type": "code",
   "execution_count": 45,
   "metadata": {},
   "outputs": [
    {
     "name": "stdout",
     "output_type": "stream",
     "text": [
      "Hello my name is John\n",
      "My age is 36\n",
      "foreign value is a\n"
     ]
    }
   ],
   "source": [
    "p1.myfunc()"
   ]
  },
  {
   "cell_type": "code",
   "execution_count": 46,
   "metadata": {},
   "outputs": [
    {
     "name": "stdout",
     "output_type": "stream",
     "text": [
      "Hello my name is John\n",
      "My age is 36\n",
      "foreign value is foo\n"
     ]
    }
   ],
   "source": [
    "p1.myfunc('foo')"
   ]
  },
  {
   "cell_type": "code",
   "execution_count": 47,
   "metadata": {},
   "outputs": [
    {
     "name": "stdout",
     "output_type": "stream",
     "text": [
      "Hello my name is John\n",
      "My age is 40\n",
      "foreign value is a\n"
     ]
    }
   ],
   "source": [
    "# to update the object\n",
    "p1.age = 40\n",
    "p1.myfunc()"
   ]
  },
  {
   "cell_type": "code",
   "execution_count": 48,
   "metadata": {},
   "outputs": [],
   "source": [
    "# to delete the object\n",
    "del p1"
   ]
  },
  {
   "cell_type": "code",
   "execution_count": 49,
   "metadata": {},
   "outputs": [
    {
     "ename": "NameError",
     "evalue": "name 'p1' is not defined",
     "output_type": "error",
     "traceback": [
      "\u001b[1;31m---------------------------------------------------------------------------\u001b[0m",
      "\u001b[1;31mNameError\u001b[0m                                 Traceback (most recent call last)",
      "Input \u001b[1;32mIn [49]\u001b[0m, in \u001b[0;36m<cell line: 1>\u001b[1;34m()\u001b[0m\n\u001b[1;32m----> 1\u001b[0m \u001b[43mp1\u001b[49m\n",
      "\u001b[1;31mNameError\u001b[0m: name 'p1' is not defined"
     ]
    }
   ],
   "source": [
    "p1"
   ]
  },
  {
   "cell_type": "markdown",
   "metadata": {},
   "source": [
    "# Python class inheritance"
   ]
  },
  {
   "cell_type": "markdown",
   "metadata": {},
   "source": [
    "- lets discuss how a child class inherits properties from its parent"
   ]
  },
  {
   "cell_type": "code",
   "execution_count": 50,
   "metadata": {},
   "outputs": [],
   "source": [
    "# parent class\n",
    "class SchoolDetails:\n",
    "    def __init__(self, schoolname, yearofadmission):\n",
    "        self.schoolname = schoolname\n",
    "        self.yearofadmission = yearofadmission\n",
    "    def display_school_details(self):\n",
    "        print(f\"The admission year for {self.schoolname} is {self.yearofadmission}\")"
   ]
  },
  {
   "cell_type": "code",
   "execution_count": 51,
   "metadata": {},
   "outputs": [],
   "source": [
    "# child class\n",
    "# note how we use parent class properties within it\n",
    "# for now lets define a simple child class which does not have anything.\n",
    "class StudentDetails(SchoolDetails):\n",
    "    pass"
   ]
  },
  {
   "cell_type": "code",
   "execution_count": 52,
   "metadata": {},
   "outputs": [],
   "source": [
    "sd1 = StudentDetails('PythonClasses', '2024')"
   ]
  },
  {
   "cell_type": "code",
   "execution_count": 53,
   "metadata": {},
   "outputs": [
    {
     "data": {
      "text/plain": [
       "'PythonClasses'"
      ]
     },
     "execution_count": 53,
     "metadata": {},
     "output_type": "execute_result"
    }
   ],
   "source": [
    "sd1.schoolname"
   ]
  },
  {
   "cell_type": "code",
   "execution_count": 54,
   "metadata": {},
   "outputs": [
    {
     "data": {
      "text/plain": [
       "'2024'"
      ]
     },
     "execution_count": 54,
     "metadata": {},
     "output_type": "execute_result"
    }
   ],
   "source": [
    "sd1.yearofadmission"
   ]
  },
  {
   "cell_type": "code",
   "execution_count": 57,
   "metadata": {},
   "outputs": [
    {
     "name": "stdout",
     "output_type": "stream",
     "text": [
      "The admission year for PythonClasses is 2024\n"
     ]
    }
   ],
   "source": [
    "sd1.display_school_details()"
   ]
  },
  {
   "cell_type": "code",
   "execution_count": 55,
   "metadata": {},
   "outputs": [],
   "source": [
    "sd = SchoolDetails('Blah', '2023')"
   ]
  },
  {
   "cell_type": "code",
   "execution_count": 56,
   "metadata": {},
   "outputs": [
    {
     "name": "stdout",
     "output_type": "stream",
     "text": [
      "The admission year for Blah is 2023\n"
     ]
    }
   ],
   "source": [
    "sd.display_school_details()"
   ]
  },
  {
   "cell_type": "code",
   "execution_count": 58,
   "metadata": {},
   "outputs": [],
   "source": [
    "# child class with init\n",
    "class StudentDetails(SchoolDetails):\n",
    "    def __init__(self, schoolname, yearofadmission, fname, lname, batch):\n",
    "        super().__init__(schoolname, yearofadmission)\n",
    "        # we can also write above line as below\n",
    "        # SchoolDetails.__init__(self, schoolname, yearofadmission)\n",
    "        self.fname = fname\n",
    "        self.lname = lname\n",
    "        self.batch = batch\n",
    "    def displaystd(self):\n",
    "        print(f\"{self.fname} {self.lname} joined {self.schoolname} in {self.batch}, {self.yearofadmission} \")\n",
    "        print(self.display_school_details())"
   ]
  },
  {
   "cell_type": "code",
   "execution_count": 59,
   "metadata": {},
   "outputs": [
    {
     "name": "stdout",
     "output_type": "stream",
     "text": [
      "John Miller joined MySchool in 2, 2024 \n",
      "The admission year for MySchool is 2024\n",
      "None\n"
     ]
    }
   ],
   "source": [
    "p1 = StudentDetails(\"MySchool\", \"2024\", \"John\", \"Miller\", \"2\")\n",
    "p1.displaystd()"
   ]
  },
  {
   "cell_type": "code",
   "execution_count": 60,
   "metadata": {},
   "outputs": [
    {
     "ename": "NameError",
     "evalue": "name 'displaystd' is not defined",
     "output_type": "error",
     "traceback": [
      "\u001b[1;31m---------------------------------------------------------------------------\u001b[0m",
      "\u001b[1;31mNameError\u001b[0m                                 Traceback (most recent call last)",
      "Input \u001b[1;32mIn [60]\u001b[0m, in \u001b[0;36m<cell line: 1>\u001b[1;34m()\u001b[0m\n\u001b[1;32m----> 1\u001b[0m \u001b[43mdisplaystd\u001b[49m()\n",
      "\u001b[1;31mNameError\u001b[0m: name 'displaystd' is not defined"
     ]
    }
   ],
   "source": [
    "displaystd()"
   ]
  },
  {
   "cell_type": "code",
   "execution_count": 61,
   "metadata": {},
   "outputs": [
    {
     "data": {
      "text/plain": [
       "'MySchool'"
      ]
     },
     "execution_count": 61,
     "metadata": {},
     "output_type": "execute_result"
    }
   ],
   "source": [
    "p1.schoolname"
   ]
  },
  {
   "cell_type": "code",
   "execution_count": 62,
   "metadata": {},
   "outputs": [
    {
     "data": {
      "text/plain": [
       "'2024'"
      ]
     },
     "execution_count": 62,
     "metadata": {},
     "output_type": "execute_result"
    }
   ],
   "source": [
    "p1.yearofadmission"
   ]
  },
  {
   "cell_type": "code",
   "execution_count": 63,
   "metadata": {},
   "outputs": [
    {
     "data": {
      "text/plain": [
       "'John'"
      ]
     },
     "execution_count": 63,
     "metadata": {},
     "output_type": "execute_result"
    }
   ],
   "source": [
    "p1.fname"
   ]
  },
  {
   "cell_type": "code",
   "execution_count": 64,
   "metadata": {},
   "outputs": [
    {
     "data": {
      "text/plain": [
       "'Miller'"
      ]
     },
     "execution_count": 64,
     "metadata": {},
     "output_type": "execute_result"
    }
   ],
   "source": [
    "p1.lname"
   ]
  },
  {
   "cell_type": "code",
   "execution_count": 65,
   "metadata": {},
   "outputs": [
    {
     "name": "stdout",
     "output_type": "stream",
     "text": [
      "The admission year for MySchool is 2024\n"
     ]
    }
   ],
   "source": [
    "p1.display_school_details()"
   ]
  },
  {
   "cell_type": "code",
   "execution_count": 66,
   "metadata": {},
   "outputs": [],
   "source": [
    "sd = SchoolDetails('Blah', '2024')"
   ]
  },
  {
   "cell_type": "code",
   "execution_count": 67,
   "metadata": {},
   "outputs": [
    {
     "ename": "AttributeError",
     "evalue": "'SchoolDetails' object has no attribute 'displaystd'",
     "output_type": "error",
     "traceback": [
      "\u001b[1;31m---------------------------------------------------------------------------\u001b[0m",
      "\u001b[1;31mAttributeError\u001b[0m                            Traceback (most recent call last)",
      "Input \u001b[1;32mIn [67]\u001b[0m, in \u001b[0;36m<cell line: 1>\u001b[1;34m()\u001b[0m\n\u001b[1;32m----> 1\u001b[0m \u001b[43msd\u001b[49m\u001b[38;5;241;43m.\u001b[39;49m\u001b[43mdisplaystd\u001b[49m()\n",
      "\u001b[1;31mAttributeError\u001b[0m: 'SchoolDetails' object has no attribute 'displaystd'"
     ]
    }
   ],
   "source": [
    "sd.displaystd()"
   ]
  },
  {
   "cell_type": "markdown",
   "metadata": {},
   "source": [
    "# Python Encapsulation"
   ]
  },
  {
   "cell_type": "code",
   "execution_count": 1,
   "metadata": {},
   "outputs": [],
   "source": [
    "class Base:\n",
    "    def __init__(self):\n",
    "        # protected member. Declare and do not update here.\n",
    "        self.val = 2"
   ]
  },
  {
   "cell_type": "code",
   "execution_count": 2,
   "metadata": {},
   "outputs": [
    {
     "data": {
      "text/plain": [
       "2"
      ]
     },
     "execution_count": 2,
     "metadata": {},
     "output_type": "execute_result"
    }
   ],
   "source": [
    "obj1 = Base()\n",
    "obj1.val"
   ]
  },
  {
   "cell_type": "code",
   "execution_count": 3,
   "metadata": {},
   "outputs": [],
   "source": [
    "class Derived(Base):\n",
    "    def __init__(self):\n",
    "        Base.__init__(self)\n",
    "        print(f\"Values from inheritance of protected member {self.val}\")\n",
    "\n",
    "        # modify the value of val here.\n",
    "        self.val=3"
   ]
  },
  {
   "cell_type": "code",
   "execution_count": 4,
   "metadata": {},
   "outputs": [
    {
     "name": "stdout",
     "output_type": "stream",
     "text": [
      "Values from inheritance of protected member 2\n"
     ]
    },
    {
     "data": {
      "text/plain": [
       "3"
      ]
     },
     "execution_count": 4,
     "metadata": {},
     "output_type": "execute_result"
    }
   ],
   "source": [
    "obj2 = Derived()\n",
    "obj2.val"
   ]
  },
  {
   "cell_type": "code",
   "execution_count": 72,
   "metadata": {},
   "outputs": [
    {
     "data": {
      "text/plain": [
       "3"
      ]
     },
     "execution_count": 72,
     "metadata": {},
     "output_type": "execute_result"
    }
   ],
   "source": [
    "\n",
    "obj2.val"
   ]
  },
  {
   "cell_type": "code",
   "execution_count": 73,
   "metadata": {},
   "outputs": [],
   "source": [
    "obj1.val=3"
   ]
  },
  {
   "cell_type": "code",
   "execution_count": 74,
   "metadata": {},
   "outputs": [
    {
     "name": "stdout",
     "output_type": "stream",
     "text": [
      "Values from inheritance of protected member 2\n"
     ]
    }
   ],
   "source": [
    "obj2 = Derived()"
   ]
  },
  {
   "cell_type": "markdown",
   "metadata": {},
   "source": [
    "# Polymorphism (many forms) in classes"
   ]
  },
  {
   "cell_type": "code",
   "execution_count": 75,
   "metadata": {},
   "outputs": [],
   "source": [
    "# let us take 3 classes which have similar structure.\n",
    "\n",
    "class School():\n",
    "    def strength(self):\n",
    "        print(\"School Strength is 9000\")\n",
    "    def location(self):\n",
    "        print(\"School is located in point A\")\n",
    "    def subjects(self):\n",
    "        print(\"School teaches most subjects\")"
   ]
  },
  {
   "cell_type": "code",
   "execution_count": 76,
   "metadata": {},
   "outputs": [],
   "source": [
    "class College():\n",
    "    def strength(self):\n",
    "        print(\"College Strength is 1000\")\n",
    "    def location(self):\n",
    "        print(\"College is located in point B\")\n",
    "    def subjects(self):\n",
    "        print(\"College has lectures on specialized subjects\")"
   ]
  },
  {
   "cell_type": "code",
   "execution_count": 77,
   "metadata": {},
   "outputs": [],
   "source": [
    "class University():\n",
    "    def strength(self):\n",
    "        print(\"University Strength is 15000\")\n",
    "    def location(self):\n",
    "        print(\"University is located in point C\")\n",
    "    def subjects(self):\n",
    "        print(\"University teaches doctorates and post graduates\")"
   ]
  },
  {
   "cell_type": "code",
   "execution_count": 78,
   "metadata": {},
   "outputs": [],
   "source": [
    "obj_sch = School()\n",
    "obj_col = College()\n",
    "obj_uni = University()"
   ]
  },
  {
   "cell_type": "code",
   "execution_count": 79,
   "metadata": {},
   "outputs": [
    {
     "name": "stdout",
     "output_type": "stream",
     "text": [
      "School Strength is 9000\n",
      "School is located in point A\n",
      "School teaches most subjects\n",
      "College Strength is 1000\n",
      "College is located in point B\n",
      "College has lectures on specialized subjects\n",
      "University Strength is 15000\n",
      "University is located in point C\n",
      "University teaches doctorates and post graduates\n"
     ]
    }
   ],
   "source": [
    "for object in (obj_sch, obj_col, obj_uni):\n",
    "    object.strength()\n",
    "    object.location()\n",
    "    object.subjects()"
   ]
  },
  {
   "cell_type": "code",
   "execution_count": 80,
   "metadata": {},
   "outputs": [],
   "source": [
    "import pandas as pd\n",
    "\n",
    "df = pd.read_csv('D:\\\\Knowledge\\\\Training\\\\employee_data.csv')"
   ]
  },
  {
   "cell_type": "code",
   "execution_count": 81,
   "metadata": {},
   "outputs": [
    {
     "data": {
      "text/html": [
       "<div>\n",
       "<style scoped>\n",
       "    .dataframe tbody tr th:only-of-type {\n",
       "        vertical-align: middle;\n",
       "    }\n",
       "\n",
       "    .dataframe tbody tr th {\n",
       "        vertical-align: top;\n",
       "    }\n",
       "\n",
       "    .dataframe thead th {\n",
       "        text-align: right;\n",
       "    }\n",
       "</style>\n",
       "<table border=\"1\" class=\"dataframe\">\n",
       "  <thead>\n",
       "    <tr style=\"text-align: right;\">\n",
       "      <th></th>\n",
       "      <th>AVG_MONTHLY_HRS</th>\n",
       "      <th>DEPT_ID</th>\n",
       "      <th>FILED_COMPLAINT</th>\n",
       "      <th>LAST_EVALUATION</th>\n",
       "      <th>N_PROJECTS</th>\n",
       "      <th>RECENTLY_PROMOTED</th>\n",
       "      <th>SALARY</th>\n",
       "      <th>SATISFACTION</th>\n",
       "      <th>STATUS</th>\n",
       "      <th>TENURE</th>\n",
       "      <th>EMPLOYEE_ID</th>\n",
       "      <th>DEPT_NAME</th>\n",
       "      <th>DEPT_HEAD</th>\n",
       "    </tr>\n",
       "  </thead>\n",
       "  <tbody>\n",
       "    <tr>\n",
       "      <th>0</th>\n",
       "      <td>246</td>\n",
       "      <td>D00-PD</td>\n",
       "      <td>0</td>\n",
       "      <td>0.866838</td>\n",
       "      <td>6</td>\n",
       "      <td>0</td>\n",
       "      <td>medium</td>\n",
       "      <td>0.134415</td>\n",
       "      <td>Left</td>\n",
       "      <td>4</td>\n",
       "      <td>124467</td>\n",
       "      <td>Product</td>\n",
       "      <td>Darcy Staines</td>\n",
       "    </tr>\n",
       "    <tr>\n",
       "      <th>1</th>\n",
       "      <td>134</td>\n",
       "      <td>D00-PD</td>\n",
       "      <td>0</td>\n",
       "      <td>0.555718</td>\n",
       "      <td>2</td>\n",
       "      <td>0</td>\n",
       "      <td>low</td>\n",
       "      <td>0.511041</td>\n",
       "      <td>Left</td>\n",
       "      <td>3</td>\n",
       "      <td>112210</td>\n",
       "      <td>Product</td>\n",
       "      <td>Darcy Staines</td>\n",
       "    </tr>\n",
       "    <tr>\n",
       "      <th>2</th>\n",
       "      <td>156</td>\n",
       "      <td>D00-SS</td>\n",
       "      <td>1</td>\n",
       "      <td>0.474082</td>\n",
       "      <td>2</td>\n",
       "      <td>0</td>\n",
       "      <td>medium</td>\n",
       "      <td>0.405101</td>\n",
       "      <td>Left</td>\n",
       "      <td>3</td>\n",
       "      <td>126150</td>\n",
       "      <td>Sales</td>\n",
       "      <td>Edward J Bayley</td>\n",
       "    </tr>\n",
       "    <tr>\n",
       "      <th>3</th>\n",
       "      <td>256</td>\n",
       "      <td>D00-SP</td>\n",
       "      <td>0</td>\n",
       "      <td>0.961360</td>\n",
       "      <td>6</td>\n",
       "      <td>0</td>\n",
       "      <td>low</td>\n",
       "      <td>0.152974</td>\n",
       "      <td>Left</td>\n",
       "      <td>4</td>\n",
       "      <td>125346</td>\n",
       "      <td>Support</td>\n",
       "      <td>Amelia Westray</td>\n",
       "    </tr>\n",
       "    <tr>\n",
       "      <th>4</th>\n",
       "      <td>146</td>\n",
       "      <td>D00-SS</td>\n",
       "      <td>0</td>\n",
       "      <td>0.507349</td>\n",
       "      <td>2</td>\n",
       "      <td>0</td>\n",
       "      <td>medium</td>\n",
       "      <td>0.434845</td>\n",
       "      <td>Left</td>\n",
       "      <td>3</td>\n",
       "      <td>113707</td>\n",
       "      <td>Sales</td>\n",
       "      <td>Edward J Bayley</td>\n",
       "    </tr>\n",
       "  </tbody>\n",
       "</table>\n",
       "</div>"
      ],
      "text/plain": [
       "   AVG_MONTHLY_HRS DEPT_ID  FILED_COMPLAINT  LAST_EVALUATION  N_PROJECTS  \\\n",
       "0              246  D00-PD                0         0.866838           6   \n",
       "1              134  D00-PD                0         0.555718           2   \n",
       "2              156  D00-SS                1         0.474082           2   \n",
       "3              256  D00-SP                0         0.961360           6   \n",
       "4              146  D00-SS                0         0.507349           2   \n",
       "\n",
       "   RECENTLY_PROMOTED  SALARY  SATISFACTION STATUS  TENURE  EMPLOYEE_ID  \\\n",
       "0                  0  medium      0.134415   Left       4       124467   \n",
       "1                  0     low      0.511041   Left       3       112210   \n",
       "2                  0  medium      0.405101   Left       3       126150   \n",
       "3                  0     low      0.152974   Left       4       125346   \n",
       "4                  0  medium      0.434845   Left       3       113707   \n",
       "\n",
       "  DEPT_NAME        DEPT_HEAD  \n",
       "0   Product    Darcy Staines  \n",
       "1   Product    Darcy Staines  \n",
       "2     Sales  Edward J Bayley  \n",
       "3   Support   Amelia Westray  \n",
       "4     Sales  Edward J Bayley  "
      ]
     },
     "execution_count": 81,
     "metadata": {},
     "output_type": "execute_result"
    }
   ],
   "source": [
    "df.head()"
   ]
  },
  {
   "cell_type": "code",
   "execution_count": 82,
   "metadata": {},
   "outputs": [
    {
     "data": {
      "text/html": [
       "<div>\n",
       "<style scoped>\n",
       "    .dataframe tbody tr th:only-of-type {\n",
       "        vertical-align: middle;\n",
       "    }\n",
       "\n",
       "    .dataframe tbody tr th {\n",
       "        vertical-align: top;\n",
       "    }\n",
       "\n",
       "    .dataframe thead th {\n",
       "        text-align: right;\n",
       "    }\n",
       "</style>\n",
       "<table border=\"1\" class=\"dataframe\">\n",
       "  <thead>\n",
       "    <tr style=\"text-align: right;\">\n",
       "      <th></th>\n",
       "      <th>AVG_MONTHLY_HRS</th>\n",
       "      <th>DEPT_ID</th>\n",
       "      <th>FILED_COMPLAINT</th>\n",
       "      <th>LAST_EVALUATION</th>\n",
       "      <th>N_PROJECTS</th>\n",
       "      <th>RECENTLY_PROMOTED</th>\n",
       "      <th>SALARY</th>\n",
       "      <th>SATISFACTION</th>\n",
       "      <th>STATUS</th>\n",
       "      <th>TENURE</th>\n",
       "      <th>EMPLOYEE_ID</th>\n",
       "      <th>DEPT_NAME</th>\n",
       "      <th>DEPT_HEAD</th>\n",
       "    </tr>\n",
       "  </thead>\n",
       "  <tbody>\n",
       "    <tr>\n",
       "      <th>14145</th>\n",
       "      <td>245</td>\n",
       "      <td>D00-SS</td>\n",
       "      <td>0</td>\n",
       "      <td>0.850785</td>\n",
       "      <td>6</td>\n",
       "      <td>0</td>\n",
       "      <td>medium</td>\n",
       "      <td>0.225084</td>\n",
       "      <td>Employed</td>\n",
       "      <td>5</td>\n",
       "      <td>101809</td>\n",
       "      <td>Sales</td>\n",
       "      <td>Edward J Bayley</td>\n",
       "    </tr>\n",
       "    <tr>\n",
       "      <th>14146</th>\n",
       "      <td>192</td>\n",
       "      <td>D00-SS</td>\n",
       "      <td>0</td>\n",
       "      <td>0.951901</td>\n",
       "      <td>3</td>\n",
       "      <td>0</td>\n",
       "      <td>medium</td>\n",
       "      <td>0.539834</td>\n",
       "      <td>Employed</td>\n",
       "      <td>3</td>\n",
       "      <td>116153</td>\n",
       "      <td>Sales</td>\n",
       "      <td>Edward J Bayley</td>\n",
       "    </tr>\n",
       "    <tr>\n",
       "      <th>14147</th>\n",
       "      <td>175</td>\n",
       "      <td>D00-MN</td>\n",
       "      <td>0</td>\n",
       "      <td>0.854538</td>\n",
       "      <td>4</td>\n",
       "      <td>0</td>\n",
       "      <td>medium</td>\n",
       "      <td>0.934465</td>\n",
       "      <td>Employed</td>\n",
       "      <td>3</td>\n",
       "      <td>119780</td>\n",
       "      <td>Management</td>\n",
       "      <td>Ellie Trafton</td>\n",
       "    </tr>\n",
       "    <tr>\n",
       "      <th>14148</th>\n",
       "      <td>268</td>\n",
       "      <td>D00-MT</td>\n",
       "      <td>0</td>\n",
       "      <td>0.900887</td>\n",
       "      <td>5</td>\n",
       "      <td>0</td>\n",
       "      <td>medium</td>\n",
       "      <td>0.906613</td>\n",
       "      <td>Left</td>\n",
       "      <td>5</td>\n",
       "      <td>115325</td>\n",
       "      <td>Marketing</td>\n",
       "      <td>Reuben Swann</td>\n",
       "    </tr>\n",
       "    <tr>\n",
       "      <th>14149</th>\n",
       "      <td>268</td>\n",
       "      <td>D00-IT</td>\n",
       "      <td>1</td>\n",
       "      <td>0.897098</td>\n",
       "      <td>2</td>\n",
       "      <td>0</td>\n",
       "      <td>low</td>\n",
       "      <td>0.459371</td>\n",
       "      <td>Employed</td>\n",
       "      <td>4</td>\n",
       "      <td>112312</td>\n",
       "      <td>IT</td>\n",
       "      <td>Henry Adey</td>\n",
       "    </tr>\n",
       "  </tbody>\n",
       "</table>\n",
       "</div>"
      ],
      "text/plain": [
       "       AVG_MONTHLY_HRS DEPT_ID  FILED_COMPLAINT  LAST_EVALUATION  N_PROJECTS  \\\n",
       "14145              245  D00-SS                0         0.850785           6   \n",
       "14146              192  D00-SS                0         0.951901           3   \n",
       "14147              175  D00-MN                0         0.854538           4   \n",
       "14148              268  D00-MT                0         0.900887           5   \n",
       "14149              268  D00-IT                1         0.897098           2   \n",
       "\n",
       "       RECENTLY_PROMOTED  SALARY  SATISFACTION    STATUS  TENURE  EMPLOYEE_ID  \\\n",
       "14145                  0  medium      0.225084  Employed       5       101809   \n",
       "14146                  0  medium      0.539834  Employed       3       116153   \n",
       "14147                  0  medium      0.934465  Employed       3       119780   \n",
       "14148                  0  medium      0.906613      Left       5       115325   \n",
       "14149                  0     low      0.459371  Employed       4       112312   \n",
       "\n",
       "        DEPT_NAME        DEPT_HEAD  \n",
       "14145       Sales  Edward J Bayley  \n",
       "14146       Sales  Edward J Bayley  \n",
       "14147  Management    Ellie Trafton  \n",
       "14148   Marketing     Reuben Swann  \n",
       "14149          IT       Henry Adey  "
      ]
     },
     "execution_count": 82,
     "metadata": {},
     "output_type": "execute_result"
    }
   ],
   "source": [
    "df.tail()"
   ]
  },
  {
   "cell_type": "code",
   "execution_count": 83,
   "metadata": {},
   "outputs": [
    {
     "data": {
      "text/html": [
       "<div>\n",
       "<style scoped>\n",
       "    .dataframe tbody tr th:only-of-type {\n",
       "        vertical-align: middle;\n",
       "    }\n",
       "\n",
       "    .dataframe tbody tr th {\n",
       "        vertical-align: top;\n",
       "    }\n",
       "\n",
       "    .dataframe thead th {\n",
       "        text-align: right;\n",
       "    }\n",
       "</style>\n",
       "<table border=\"1\" class=\"dataframe\">\n",
       "  <thead>\n",
       "    <tr style=\"text-align: right;\">\n",
       "      <th></th>\n",
       "      <th>AVG_MONTHLY_HRS</th>\n",
       "      <th>FILED_COMPLAINT</th>\n",
       "      <th>LAST_EVALUATION</th>\n",
       "      <th>N_PROJECTS</th>\n",
       "      <th>RECENTLY_PROMOTED</th>\n",
       "      <th>SATISFACTION</th>\n",
       "      <th>TENURE</th>\n",
       "      <th>EMPLOYEE_ID</th>\n",
       "    </tr>\n",
       "  </thead>\n",
       "  <tbody>\n",
       "    <tr>\n",
       "      <th>count</th>\n",
       "      <td>14150.000000</td>\n",
       "      <td>14150.000000</td>\n",
       "      <td>14150.000000</td>\n",
       "      <td>14150.000000</td>\n",
       "      <td>14150.000000</td>\n",
       "      <td>14150.000000</td>\n",
       "      <td>14150.000000</td>\n",
       "      <td>14150.000000</td>\n",
       "    </tr>\n",
       "    <tr>\n",
       "      <th>mean</th>\n",
       "      <td>199.994346</td>\n",
       "      <td>0.144594</td>\n",
       "      <td>0.719070</td>\n",
       "      <td>3.778304</td>\n",
       "      <td>0.020989</td>\n",
       "      <td>0.621542</td>\n",
       "      <td>3.494064</td>\n",
       "      <td>112080.750247</td>\n",
       "    </tr>\n",
       "    <tr>\n",
       "      <th>std</th>\n",
       "      <td>50.833697</td>\n",
       "      <td>0.351703</td>\n",
       "      <td>0.163820</td>\n",
       "      <td>1.250162</td>\n",
       "      <td>0.143354</td>\n",
       "      <td>0.249172</td>\n",
       "      <td>1.455709</td>\n",
       "      <td>8748.202856</td>\n",
       "    </tr>\n",
       "    <tr>\n",
       "      <th>min</th>\n",
       "      <td>49.000000</td>\n",
       "      <td>0.000000</td>\n",
       "      <td>0.316175</td>\n",
       "      <td>1.000000</td>\n",
       "      <td>0.000000</td>\n",
       "      <td>0.040058</td>\n",
       "      <td>2.000000</td>\n",
       "      <td>0.000000</td>\n",
       "    </tr>\n",
       "    <tr>\n",
       "      <th>25%</th>\n",
       "      <td>155.000000</td>\n",
       "      <td>0.000000</td>\n",
       "      <td>0.579512</td>\n",
       "      <td>3.000000</td>\n",
       "      <td>0.000000</td>\n",
       "      <td>0.452824</td>\n",
       "      <td>3.000000</td>\n",
       "      <td>105772.500000</td>\n",
       "    </tr>\n",
       "    <tr>\n",
       "      <th>50%</th>\n",
       "      <td>199.000000</td>\n",
       "      <td>0.000000</td>\n",
       "      <td>0.728827</td>\n",
       "      <td>4.000000</td>\n",
       "      <td>0.000000</td>\n",
       "      <td>0.652394</td>\n",
       "      <td>3.000000</td>\n",
       "      <td>111291.500000</td>\n",
       "    </tr>\n",
       "    <tr>\n",
       "      <th>75%</th>\n",
       "      <td>245.000000</td>\n",
       "      <td>0.000000</td>\n",
       "      <td>0.857037</td>\n",
       "      <td>5.000000</td>\n",
       "      <td>0.000000</td>\n",
       "      <td>0.822965</td>\n",
       "      <td>4.000000</td>\n",
       "      <td>116650.750000</td>\n",
       "    </tr>\n",
       "    <tr>\n",
       "      <th>max</th>\n",
       "      <td>310.000000</td>\n",
       "      <td>1.000000</td>\n",
       "      <td>1.000000</td>\n",
       "      <td>7.000000</td>\n",
       "      <td>1.000000</td>\n",
       "      <td>1.000000</td>\n",
       "      <td>10.000000</td>\n",
       "      <td>148988.000000</td>\n",
       "    </tr>\n",
       "  </tbody>\n",
       "</table>\n",
       "</div>"
      ],
      "text/plain": [
       "       AVG_MONTHLY_HRS  FILED_COMPLAINT  LAST_EVALUATION    N_PROJECTS  \\\n",
       "count     14150.000000     14150.000000     14150.000000  14150.000000   \n",
       "mean        199.994346         0.144594         0.719070      3.778304   \n",
       "std          50.833697         0.351703         0.163820      1.250162   \n",
       "min          49.000000         0.000000         0.316175      1.000000   \n",
       "25%         155.000000         0.000000         0.579512      3.000000   \n",
       "50%         199.000000         0.000000         0.728827      4.000000   \n",
       "75%         245.000000         0.000000         0.857037      5.000000   \n",
       "max         310.000000         1.000000         1.000000      7.000000   \n",
       "\n",
       "       RECENTLY_PROMOTED  SATISFACTION        TENURE    EMPLOYEE_ID  \n",
       "count       14150.000000  14150.000000  14150.000000   14150.000000  \n",
       "mean            0.020989      0.621542      3.494064  112080.750247  \n",
       "std             0.143354      0.249172      1.455709    8748.202856  \n",
       "min             0.000000      0.040058      2.000000       0.000000  \n",
       "25%             0.000000      0.452824      3.000000  105772.500000  \n",
       "50%             0.000000      0.652394      3.000000  111291.500000  \n",
       "75%             0.000000      0.822965      4.000000  116650.750000  \n",
       "max             1.000000      1.000000     10.000000  148988.000000  "
      ]
     },
     "execution_count": 83,
     "metadata": {},
     "output_type": "execute_result"
    }
   ],
   "source": [
    "df.describe()"
   ]
  },
  {
   "cell_type": "code",
   "execution_count": 87,
   "metadata": {},
   "outputs": [],
   "source": [
    "import pandas as pd\n",
    "class Preprocess:\n",
    "    def __str__(self):\n",
    "        return \"this is preprocessing step\"\n",
    "\n",
    "    def __init__(self, path):\n",
    "        self.path = path\n",
    "\n",
    "    def read_from_path(self):\n",
    "        self.data = pd.read_csv(self.path)\n",
    "        \n",
    "    def display_df(self):\n",
    "        print(self.data.head())\n",
    "        print(self.data.tail())\n",
    "        print(self.data.describe())"
   ]
  },
  {
   "cell_type": "code",
   "execution_count": 88,
   "metadata": {},
   "outputs": [],
   "source": [
    "data_cls = Preprocess('D:\\\\Knowledge\\\\Training\\\\employee_data.csv')"
   ]
  },
  {
   "cell_type": "code",
   "execution_count": 89,
   "metadata": {},
   "outputs": [
    {
     "name": "stdout",
     "output_type": "stream",
     "text": [
      "this is preprocessing step\n"
     ]
    }
   ],
   "source": [
    "print(data_cls)"
   ]
  },
  {
   "cell_type": "code",
   "execution_count": 90,
   "metadata": {},
   "outputs": [],
   "source": [
    "data_cls.read_from_path()"
   ]
  },
  {
   "cell_type": "code",
   "execution_count": 91,
   "metadata": {},
   "outputs": [
    {
     "name": "stdout",
     "output_type": "stream",
     "text": [
      "   AVG_MONTHLY_HRS DEPT_ID  FILED_COMPLAINT  LAST_EVALUATION  N_PROJECTS  \\\n",
      "0              246  D00-PD                0         0.866838           6   \n",
      "1              134  D00-PD                0         0.555718           2   \n",
      "2              156  D00-SS                1         0.474082           2   \n",
      "3              256  D00-SP                0         0.961360           6   \n",
      "4              146  D00-SS                0         0.507349           2   \n",
      "\n",
      "   RECENTLY_PROMOTED  SALARY  SATISFACTION STATUS  TENURE  EMPLOYEE_ID  \\\n",
      "0                  0  medium      0.134415   Left       4       124467   \n",
      "1                  0     low      0.511041   Left       3       112210   \n",
      "2                  0  medium      0.405101   Left       3       126150   \n",
      "3                  0     low      0.152974   Left       4       125346   \n",
      "4                  0  medium      0.434845   Left       3       113707   \n",
      "\n",
      "  DEPT_NAME        DEPT_HEAD  \n",
      "0   Product    Darcy Staines  \n",
      "1   Product    Darcy Staines  \n",
      "2     Sales  Edward J Bayley  \n",
      "3   Support   Amelia Westray  \n",
      "4     Sales  Edward J Bayley  \n",
      "       AVG_MONTHLY_HRS DEPT_ID  FILED_COMPLAINT  LAST_EVALUATION  N_PROJECTS  \\\n",
      "14145              245  D00-SS                0         0.850785           6   \n",
      "14146              192  D00-SS                0         0.951901           3   \n",
      "14147              175  D00-MN                0         0.854538           4   \n",
      "14148              268  D00-MT                0         0.900887           5   \n",
      "14149              268  D00-IT                1         0.897098           2   \n",
      "\n",
      "       RECENTLY_PROMOTED  SALARY  SATISFACTION    STATUS  TENURE  EMPLOYEE_ID  \\\n",
      "14145                  0  medium      0.225084  Employed       5       101809   \n",
      "14146                  0  medium      0.539834  Employed       3       116153   \n",
      "14147                  0  medium      0.934465  Employed       3       119780   \n",
      "14148                  0  medium      0.906613      Left       5       115325   \n",
      "14149                  0     low      0.459371  Employed       4       112312   \n",
      "\n",
      "        DEPT_NAME        DEPT_HEAD  \n",
      "14145       Sales  Edward J Bayley  \n",
      "14146       Sales  Edward J Bayley  \n",
      "14147  Management    Ellie Trafton  \n",
      "14148   Marketing     Reuben Swann  \n",
      "14149          IT       Henry Adey  \n",
      "       AVG_MONTHLY_HRS  FILED_COMPLAINT  LAST_EVALUATION    N_PROJECTS  \\\n",
      "count     14150.000000     14150.000000     14150.000000  14150.000000   \n",
      "mean        199.994346         0.144594         0.719070      3.778304   \n",
      "std          50.833697         0.351703         0.163820      1.250162   \n",
      "min          49.000000         0.000000         0.316175      1.000000   \n",
      "25%         155.000000         0.000000         0.579512      3.000000   \n",
      "50%         199.000000         0.000000         0.728827      4.000000   \n",
      "75%         245.000000         0.000000         0.857037      5.000000   \n",
      "max         310.000000         1.000000         1.000000      7.000000   \n",
      "\n",
      "       RECENTLY_PROMOTED  SATISFACTION        TENURE    EMPLOYEE_ID  \n",
      "count       14150.000000  14150.000000  14150.000000   14150.000000  \n",
      "mean            0.020989      0.621542      3.494064  112080.750247  \n",
      "std             0.143354      0.249172      1.455709    8748.202856  \n",
      "min             0.000000      0.040058      2.000000       0.000000  \n",
      "25%             0.000000      0.452824      3.000000  105772.500000  \n",
      "50%             0.000000      0.652394      3.000000  111291.500000  \n",
      "75%             0.000000      0.822965      4.000000  116650.750000  \n",
      "max             1.000000      1.000000     10.000000  148988.000000  \n"
     ]
    }
   ],
   "source": [
    "data_cls.display_df()"
   ]
  },
  {
   "cell_type": "code",
   "execution_count": 92,
   "metadata": {},
   "outputs": [],
   "source": [
    "class Preprocess:\n",
    "    def __init__(self, path):\n",
    "        self.path = path\n",
    "\n",
    "    def read_from_path(self):\n",
    "        self.data = pd.read_csv(self.path)\n",
    "    def display_df(self):\n",
    "        print(self.data.head())\n",
    "        print(self.data.tail())\n",
    "        print(self.data.describe())\n",
    "    def __call__(self):\n",
    "        self.read_from_path()\n",
    "        self.display_df()"
   ]
  },
  {
   "cell_type": "code",
   "execution_count": 93,
   "metadata": {},
   "outputs": [],
   "source": [
    "data_cls2 = Preprocess('D:\\\\Knowledge\\\\Training\\\\employee_data.csv')"
   ]
  },
  {
   "cell_type": "code",
   "execution_count": 94,
   "metadata": {},
   "outputs": [
    {
     "name": "stdout",
     "output_type": "stream",
     "text": [
      "<__main__.Preprocess object at 0x000002043CF11BD0>\n"
     ]
    }
   ],
   "source": [
    "print(data_cls2)"
   ]
  },
  {
   "cell_type": "code",
   "execution_count": 95,
   "metadata": {},
   "outputs": [
    {
     "name": "stdout",
     "output_type": "stream",
     "text": [
      "   AVG_MONTHLY_HRS DEPT_ID  FILED_COMPLAINT  LAST_EVALUATION  N_PROJECTS  \\\n",
      "0              246  D00-PD                0         0.866838           6   \n",
      "1              134  D00-PD                0         0.555718           2   \n",
      "2              156  D00-SS                1         0.474082           2   \n",
      "3              256  D00-SP                0         0.961360           6   \n",
      "4              146  D00-SS                0         0.507349           2   \n",
      "\n",
      "   RECENTLY_PROMOTED  SALARY  SATISFACTION STATUS  TENURE  EMPLOYEE_ID  \\\n",
      "0                  0  medium      0.134415   Left       4       124467   \n",
      "1                  0     low      0.511041   Left       3       112210   \n",
      "2                  0  medium      0.405101   Left       3       126150   \n",
      "3                  0     low      0.152974   Left       4       125346   \n",
      "4                  0  medium      0.434845   Left       3       113707   \n",
      "\n",
      "  DEPT_NAME        DEPT_HEAD  \n",
      "0   Product    Darcy Staines  \n",
      "1   Product    Darcy Staines  \n",
      "2     Sales  Edward J Bayley  \n",
      "3   Support   Amelia Westray  \n",
      "4     Sales  Edward J Bayley  \n",
      "       AVG_MONTHLY_HRS DEPT_ID  FILED_COMPLAINT  LAST_EVALUATION  N_PROJECTS  \\\n",
      "14145              245  D00-SS                0         0.850785           6   \n",
      "14146              192  D00-SS                0         0.951901           3   \n",
      "14147              175  D00-MN                0         0.854538           4   \n",
      "14148              268  D00-MT                0         0.900887           5   \n",
      "14149              268  D00-IT                1         0.897098           2   \n",
      "\n",
      "       RECENTLY_PROMOTED  SALARY  SATISFACTION    STATUS  TENURE  EMPLOYEE_ID  \\\n",
      "14145                  0  medium      0.225084  Employed       5       101809   \n",
      "14146                  0  medium      0.539834  Employed       3       116153   \n",
      "14147                  0  medium      0.934465  Employed       3       119780   \n",
      "14148                  0  medium      0.906613      Left       5       115325   \n",
      "14149                  0     low      0.459371  Employed       4       112312   \n",
      "\n",
      "        DEPT_NAME        DEPT_HEAD  \n",
      "14145       Sales  Edward J Bayley  \n",
      "14146       Sales  Edward J Bayley  \n",
      "14147  Management    Ellie Trafton  \n",
      "14148   Marketing     Reuben Swann  \n",
      "14149          IT       Henry Adey  \n",
      "       AVG_MONTHLY_HRS  FILED_COMPLAINT  LAST_EVALUATION    N_PROJECTS  \\\n",
      "count     14150.000000     14150.000000     14150.000000  14150.000000   \n",
      "mean        199.994346         0.144594         0.719070      3.778304   \n",
      "std          50.833697         0.351703         0.163820      1.250162   \n",
      "min          49.000000         0.000000         0.316175      1.000000   \n",
      "25%         155.000000         0.000000         0.579512      3.000000   \n",
      "50%         199.000000         0.000000         0.728827      4.000000   \n",
      "75%         245.000000         0.000000         0.857037      5.000000   \n",
      "max         310.000000         1.000000         1.000000      7.000000   \n",
      "\n",
      "       RECENTLY_PROMOTED  SATISFACTION        TENURE    EMPLOYEE_ID  \n",
      "count       14150.000000  14150.000000  14150.000000   14150.000000  \n",
      "mean            0.020989      0.621542      3.494064  112080.750247  \n",
      "std             0.143354      0.249172      1.455709    8748.202856  \n",
      "min             0.000000      0.040058      2.000000       0.000000  \n",
      "25%             0.000000      0.452824      3.000000  105772.500000  \n",
      "50%             0.000000      0.652394      3.000000  111291.500000  \n",
      "75%             0.000000      0.822965      4.000000  116650.750000  \n",
      "max             1.000000      1.000000     10.000000  148988.000000  \n"
     ]
    }
   ],
   "source": [
    "data_cls2()"
   ]
  },
  {
   "cell_type": "code",
   "execution_count": null,
   "metadata": {},
   "outputs": [],
   "source": []
  }
 ],
 "metadata": {
  "kernelspec": {
   "display_name": "Python 3",
   "language": "python",
   "name": "python3"
  },
  "language_info": {
   "codemirror_mode": {
    "name": "ipython",
    "version": 3
   },
   "file_extension": ".py",
   "mimetype": "text/x-python",
   "name": "python",
   "nbconvert_exporter": "python",
   "pygments_lexer": "ipython3",
   "version": "3.10.5"
  }
 },
 "nbformat": 4,
 "nbformat_minor": 2
}
