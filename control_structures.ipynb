{
 "cells": [
  {
   "cell_type": "markdown",
   "metadata": {},
   "source": [
    "# Control Structures"
   ]
  },
  {
   "cell_type": "markdown",
   "metadata": {},
   "source": [
    "- for writing any program it is good to have a flow chart of steps to follow.\n",
    "- here lets do simple if, if else, nested statements.\n",
    "- to begin with, identify if a given number is +ve or -ve\n",
    "- fetch input from user and store it in a variable.\n",
    "- also convert the variable to float/int while storing"
   ]
  },
  {
   "cell_type": "markdown",
   "metadata": {},
   "source": [
    "- format string"
   ]
  },
  {
   "cell_type": "code",
   "execution_count": null,
   "metadata": {},
   "outputs": [],
   "source": [
    "# logger"
   ]
  },
  {
   "cell_type": "code",
   "execution_count": 1,
   "metadata": {},
   "outputs": [
    {
     "name": "stdout",
     "output_type": "stream",
     "text": [
      "my name is Sanjeev\n"
     ]
    }
   ],
   "source": [
    "name = 'Sanjeev'\n",
    "print(\"my name is Sanjeev\")"
   ]
  },
  {
   "cell_type": "code",
   "execution_count": 2,
   "metadata": {},
   "outputs": [
    {
     "name": "stdout",
     "output_type": "stream",
     "text": [
      "my name is Sanjeev\n"
     ]
    }
   ],
   "source": [
    "name = 'Jackson'\n",
    "print(\"my name is Sanjeev\")"
   ]
  },
  {
   "cell_type": "code",
   "execution_count": 3,
   "metadata": {},
   "outputs": [
    {
     "name": "stdout",
     "output_type": "stream",
     "text": [
      "my name is name\n"
     ]
    }
   ],
   "source": [
    "print(\"my name is name\")"
   ]
  },
  {
   "cell_type": "code",
   "execution_count": 4,
   "metadata": {},
   "outputs": [
    {
     "name": "stdout",
     "output_type": "stream",
     "text": [
      "my name is  Jackson\n"
     ]
    }
   ],
   "source": [
    "print(\"my name is \", name)"
   ]
  },
  {
   "cell_type": "code",
   "execution_count": 6,
   "metadata": {},
   "outputs": [
    {
     "name": "stdout",
     "output_type": "stream",
     "text": [
      "my name is Rocky\n"
     ]
    }
   ],
   "source": [
    "name = 'Rocky'\n",
    "print(\"my name is\", name)"
   ]
  },
  {
   "cell_type": "code",
   "execution_count": 7,
   "metadata": {},
   "outputs": [
    {
     "name": "stdout",
     "output_type": "stream",
     "text": [
      "First name is Jackson Last Name is VII\n"
     ]
    }
   ],
   "source": [
    "first_name = 'Jackson'\n",
    "last_name = 'VII'\n",
    "print(\"First name is\", first_name, \"Last Name is\", last_name)"
   ]
  },
  {
   "cell_type": "code",
   "execution_count": 9,
   "metadata": {},
   "outputs": [
    {
     "data": {
      "text/plain": [
       "'my name is Rocky'"
      ]
     },
     "execution_count": 9,
     "metadata": {},
     "output_type": "execute_result"
    }
   ],
   "source": [
    "f\"my name is {name}\""
   ]
  },
  {
   "cell_type": "code",
   "execution_count": 10,
   "metadata": {},
   "outputs": [
    {
     "data": {
      "text/plain": [
       "'First name is Jackson and last name is VII'"
      ]
     },
     "execution_count": 10,
     "metadata": {},
     "output_type": "execute_result"
    }
   ],
   "source": [
    "f\"First name is {first_name} and last name is {last_name}\""
   ]
  },
  {
   "cell_type": "code",
   "execution_count": 11,
   "metadata": {},
   "outputs": [
    {
     "data": {
      "text/plain": [
       "'number one is 5, number two is 10'"
      ]
     },
     "execution_count": 11,
     "metadata": {},
     "output_type": "execute_result"
    }
   ],
   "source": [
    "num1 = 5\n",
    "num2 = 10\n",
    "f\"number one is {num1}, number two is {num2}\""
   ]
  },
  {
   "cell_type": "code",
   "execution_count": 12,
   "metadata": {},
   "outputs": [
    {
     "data": {
      "text/plain": [
       "'first name is Jackson'"
      ]
     },
     "execution_count": 12,
     "metadata": {},
     "output_type": "execute_result"
    }
   ],
   "source": [
    "\"first name is {}\".format(first_name)"
   ]
  },
  {
   "cell_type": "code",
   "execution_count": 13,
   "metadata": {},
   "outputs": [
    {
     "data": {
      "text/plain": [
       "'number one is 5, number two is 10'"
      ]
     },
     "execution_count": 13,
     "metadata": {},
     "output_type": "execute_result"
    }
   ],
   "source": [
    "\"number one is {0}, number two is {1}\".format(num1, num2)"
   ]
  },
  {
   "cell_type": "code",
   "execution_count": 14,
   "metadata": {},
   "outputs": [
    {
     "data": {
      "text/plain": [
       "'First name is Jackson and last name is VII'"
      ]
     },
     "execution_count": 14,
     "metadata": {},
     "output_type": "execute_result"
    }
   ],
   "source": [
    "\"First name is {0} and last name is {1}\".format(first_name, last_name)"
   ]
  },
  {
   "cell_type": "code",
   "execution_count": 15,
   "metadata": {},
   "outputs": [],
   "source": [
    "num = input()"
   ]
  },
  {
   "cell_type": "code",
   "execution_count": 16,
   "metadata": {},
   "outputs": [
    {
     "data": {
      "text/plain": [
       "'10'"
      ]
     },
     "execution_count": 16,
     "metadata": {},
     "output_type": "execute_result"
    }
   ],
   "source": [
    "num"
   ]
  },
  {
   "cell_type": "code",
   "execution_count": 17,
   "metadata": {},
   "outputs": [
    {
     "data": {
      "text/plain": [
       "str"
      ]
     },
     "execution_count": 17,
     "metadata": {},
     "output_type": "execute_result"
    }
   ],
   "source": [
    "type(num)"
   ]
  },
  {
   "cell_type": "code",
   "execution_count": 19,
   "metadata": {},
   "outputs": [],
   "source": [
    "num = float(num)"
   ]
  },
  {
   "cell_type": "code",
   "execution_count": 20,
   "metadata": {},
   "outputs": [
    {
     "data": {
      "text/plain": [
       "10.0"
      ]
     },
     "execution_count": 20,
     "metadata": {},
     "output_type": "execute_result"
    }
   ],
   "source": [
    "num"
   ]
  },
  {
   "cell_type": "code",
   "execution_count": 21,
   "metadata": {},
   "outputs": [
    {
     "name": "stdout",
     "output_type": "stream",
     "text": [
      "10.0 is positive\n",
      "this is not part of if/elif/else\n"
     ]
    }
   ],
   "source": [
    "if num>0:\n",
    "    print(num, \"is positive\")\n",
    "print(\"this is not part of if/elif/else\")"
   ]
  },
  {
   "cell_type": "code",
   "execution_count": 22,
   "metadata": {},
   "outputs": [
    {
     "name": "stdout",
     "output_type": "stream",
     "text": [
      "this is not part of if/elif/else\n"
     ]
    }
   ],
   "source": [
    "num = -5\n",
    "if num>0:\n",
    "    print(num, \"is positive\")\n",
    "print(\"this is not part of if/elif/else\")"
   ]
  },
  {
   "cell_type": "code",
   "execution_count": 24,
   "metadata": {},
   "outputs": [
    {
     "name": "stdout",
     "output_type": "stream",
     "text": [
      "num is  -5\n",
      "-5 is not positive\n",
      "this is not part of if/elif/else\n"
     ]
    }
   ],
   "source": [
    "print('num is ', num)\n",
    "if num>0:\n",
    "    print(num, \"is positive\")\n",
    "else:\n",
    "    print(num, \"is not positive\")\n",
    "print(\"this is not part of if/elif/else\")"
   ]
  },
  {
   "cell_type": "code",
   "execution_count": null,
   "metadata": {},
   "outputs": [],
   "source": [
    "# if else if"
   ]
  },
  {
   "cell_type": "code",
   "execution_count": 25,
   "metadata": {},
   "outputs": [
    {
     "name": "stdout",
     "output_type": "stream",
     "text": [
      "this is positive\n",
      "this is positive\n"
     ]
    }
   ],
   "source": [
    "num1 = 10\n",
    "if num1>0:\n",
    "    print(\"this is positive\")\n",
    "if num1>5:\n",
    "    print(\"this is positive\")"
   ]
  },
  {
   "cell_type": "code",
   "execution_count": 26,
   "metadata": {},
   "outputs": [
    {
     "name": "stdout",
     "output_type": "stream",
     "text": [
      "this is positive\n"
     ]
    }
   ],
   "source": [
    "if num1>0:\n",
    "    print(\"this is positive\")\n",
    "elif num1>5:\n",
    "    print(\"this is positive\")"
   ]
  },
  {
   "cell_type": "code",
   "execution_count": 23,
   "metadata": {},
   "outputs": [
    {
     "name": "stdout",
     "output_type": "stream",
     "text": [
      "num is  -5\n",
      "-5 is negative\n",
      "second line in third condition\n",
      "the absolute value is 5\n",
      "this is not part of if/elif/else\n"
     ]
    }
   ],
   "source": [
    "print('num is ', num)\n",
    "if num>0:\n",
    "    print(num, \"is positive\")\n",
    "    print(\"second line in first condition\")\n",
    "elif num == 0:\n",
    "    print(num, \"num is zero\")\n",
    "    print(\"second line in second condition\")\n",
    "elif num<0:\n",
    "    print(num, \"is negative\")\n",
    "    print(\"second line in third condition\")\n",
    "    num = abs(num)\n",
    "    print(f\"the absolute value is {num}\")\n",
    "else:\n",
    "    print(num, \"did not satify any conditions\")\n",
    "print(\"this is not part of if/elif/else\")"
   ]
  },
  {
   "cell_type": "code",
   "execution_count": 27,
   "metadata": {},
   "outputs": [
    {
     "name": "stdout",
     "output_type": "stream",
     "text": [
      "num is  100\n",
      "100 is positive\n",
      "second line in first condition\n",
      "this is not part of if/elif/else\n"
     ]
    }
   ],
   "source": [
    "num = 100\n",
    "print('num is ', num)\n",
    "if num>0:\n",
    "    print(num, \"is positive\")\n",
    "    print(\"second line in first condition\")\n",
    "elif num == 0:\n",
    "    print(num, \"num is zero\")\n",
    "    print(\"second line in second condition\")\n",
    "elif num<0:\n",
    "    print(num, \"is negative\")\n",
    "    print(\"second line in third condition\")\n",
    "    num = abs(num)\n",
    "    print(f\"the absolute value is {num}\")\n",
    "elif num>50:\n",
    "    print(f\"num {num} is greater than 50\")\n",
    "else:\n",
    "    print(num, \"did not satify any conditions\")\n",
    "print(\"this is not part of if/elif/else\")"
   ]
  },
  {
   "cell_type": "code",
   "execution_count": 30,
   "metadata": {},
   "outputs": [],
   "source": [
    "num = input()\n",
    "# $ R"
   ]
  },
  {
   "cell_type": "code",
   "execution_count": 31,
   "metadata": {},
   "outputs": [
    {
     "data": {
      "text/plain": [
       "str"
      ]
     },
     "execution_count": 31,
     "metadata": {},
     "output_type": "execute_result"
    }
   ],
   "source": [
    "type(num)"
   ]
  },
  {
   "cell_type": "code",
   "execution_count": 35,
   "metadata": {},
   "outputs": [
    {
     "ename": "TypeError",
     "evalue": "'<' not supported between instances of 'str' and 'int'",
     "output_type": "error",
     "traceback": [
      "\u001b[1;31m---------------------------------------------------------------------------\u001b[0m",
      "\u001b[1;31mTypeError\u001b[0m                                 Traceback (most recent call last)",
      "Input \u001b[1;32mIn [35]\u001b[0m, in \u001b[0;36m<cell line: 1>\u001b[1;34m()\u001b[0m\n\u001b[1;32m----> 1\u001b[0m \u001b[43mnum\u001b[49m\u001b[38;5;241;43m<\u001b[39;49m\u001b[38;5;241;43m5\u001b[39;49m\n\u001b[0;32m      2\u001b[0m \u001b[38;5;28mprint\u001b[39m(\u001b[38;5;124m\"\u001b[39m\u001b[38;5;124mis this getting executed?\u001b[39m\u001b[38;5;124m\"\u001b[39m)\n",
      "\u001b[1;31mTypeError\u001b[0m: '<' not supported between instances of 'str' and 'int'"
     ]
    }
   ],
   "source": [
    "num<5\n",
    "print(\"is this getting executed?\")"
   ]
  },
  {
   "cell_type": "code",
   "execution_count": 29,
   "metadata": {},
   "outputs": [
    {
     "name": "stdout",
     "output_type": "stream",
     "text": [
      "num is  100\n",
      "100 is positive\n",
      "second line in first condition\n",
      "the number did not satisfy in nested if\n",
      "this is not part of if/elif/else\n"
     ]
    }
   ],
   "source": [
    "num = 100\n",
    "print('num is ', num)\n",
    "if num>0:\n",
    "    print(num, \"is positive\")\n",
    "    print(\"second line in first condition\")\n",
    "    if num>100:\n",
    "        print(\"the number is greater than 100\")\n",
    "    elif num<50:\n",
    "        print(\"the number is less than 50\")\n",
    "    else:\n",
    "        print(\"the number did not satisfy in nested if\")\n",
    "elif num == 0:\n",
    "    print(num, \"num is zero\")\n",
    "    print(\"second line in second condition\")\n",
    "elif num<0:\n",
    "    print(num, \"is negative\")\n",
    "    print(\"second line in third condition\")\n",
    "    num = abs(num)\n",
    "    print(f\"the absolute value is {num}\")\n",
    "elif num>50:\n",
    "    print(f\"num {num} is greater than 50\")\n",
    "else:\n",
    "    print(num, \"did not satify any conditions\")\n",
    "print(\"this is not part of if/elif/else\")"
   ]
  },
  {
   "cell_type": "code",
   "execution_count": 38,
   "metadata": {},
   "outputs": [
    {
     "name": "stdout",
     "output_type": "stream",
     "text": [
      "Error occured when comparing numbers\n",
      "Error is '>' not supported between instances of 'str' and 'int'\n",
      "hey! this is getting executed!\n"
     ]
    }
   ],
   "source": [
    "# how to handle errors\\\n",
    "num = input(\"input number\")\n",
    "try:\n",
    "    if num>0:\n",
    "        print(\"The number is positive\")\n",
    "except Exception as s:\n",
    "    print(\"Error occured when comparing numbers\")\n",
    "    print(f\"Error is {s}\")\n",
    "\n",
    "print(\"hey! this is getting executed!\")"
   ]
  },
  {
   "cell_type": "code",
   "execution_count": null,
   "metadata": {},
   "outputs": [],
   "source": [
    "\"\"\"\n",
    "1. requirement should be salaried employee\n",
    "2. loan that he/she is alredy having should not be more than 50% of income.\n",
    "3. private property.\n",
    " \"\"\""
   ]
  },
  {
   "cell_type": "code",
   "execution_count": 53,
   "metadata": {},
   "outputs": [],
   "source": [
    "salaried = True\n",
    "salary_of_person = 1000\n",
    "liability_per_month = 401\n",
    "assets = True"
   ]
  },
  {
   "cell_type": "code",
   "execution_count": 55,
   "metadata": {},
   "outputs": [
    {
     "name": "stdout",
     "output_type": "stream",
     "text": [
      "40.1\n"
     ]
    }
   ],
   "source": [
    "liability_value = liability_per_month*100/salary_of_person\n",
    "print(liability_value)"
   ]
  },
  {
   "cell_type": "code",
   "execution_count": 49,
   "metadata": {},
   "outputs": [
    {
     "name": "stdout",
     "output_type": "stream",
     "text": [
      "Person is salaried and satisfied norms\n"
     ]
    }
   ],
   "source": [
    "if salaried:\n",
    "    print(\"Person is salaried and satisfied norms\")\n",
    "elif liability_value<=50:\n",
    "    print(\"Liability value is satisfying\")\n",
    "else:\n",
    "    print(\"all norms not met\")\n"
   ]
  },
  {
   "cell_type": "code",
   "execution_count": 56,
   "metadata": {},
   "outputs": [
    {
     "name": "stdout",
     "output_type": "stream",
     "text": [
      "salaried\n",
      "laibility satisfied\n",
      "assets available and qualified all norms\n"
     ]
    }
   ],
   "source": [
    "if salaried:\n",
    "    print(\"salaried\")\n",
    "    if liability_value<=50:\n",
    "        print(\"laibility satisfied\")\n",
    "        if assets:\n",
    "            print(\"assets available and qualified all norms\") # final code which all conditions.\n",
    "        else:\n",
    "            print(\"condition failed at assets\")\n",
    "    else:\n",
    "        print(\"condition failed at liability\")    \n",
    "else:\n",
    "    print(\"condition failed\")"
   ]
  },
  {
   "cell_type": "code",
   "execution_count": 1,
   "metadata": {},
   "outputs": [],
   "source": [
    "# input function takes input from user and is by default a string.\n",
    "# we convert it to required datatype. In this case we convert it to float as below.\n",
    "nbr = float(input())"
   ]
  },
  {
   "cell_type": "code",
   "execution_count": 2,
   "metadata": {},
   "outputs": [
    {
     "name": "stdout",
     "output_type": "stream",
     "text": [
      "The input from user is : 5.0\n",
      "It's data type is :<class 'float'>\n"
     ]
    }
   ],
   "source": [
    "# print the datatype and actual value.\n",
    "# use format string to show print in legible way\n",
    "print(f\"The input from user is : {nbr}\\nIt's data type is :{type(nbr)}\")"
   ]
  },
  {
   "cell_type": "code",
   "execution_count": 3,
   "metadata": {},
   "outputs": [
    {
     "name": "stdout",
     "output_type": "stream",
     "text": [
      "The input from user is : 5.0\n",
      "It's data type is :<class 'float'>\n"
     ]
    }
   ],
   "source": [
    "# formats can also be used as below\n",
    "print(\"The input from user is : {0}\\nIt's data type is :{1}\".format(nbr, type(nbr)))"
   ]
  },
  {
   "cell_type": "code",
   "execution_count": 4,
   "metadata": {},
   "outputs": [
    {
     "name": "stdout",
     "output_type": "stream",
     "text": [
      "5.0 is positive\n",
      "end of code\n"
     ]
    }
   ],
   "source": [
    "# if statements\n",
    "if nbr > 0:\n",
    "    print(f\"{nbr} is positive\")\n",
    "print(\"end of code\")"
   ]
  },
  {
   "cell_type": "code",
   "execution_count": 5,
   "metadata": {},
   "outputs": [
    {
     "name": "stdout",
     "output_type": "stream",
     "text": [
      "end of code\n"
     ]
    }
   ],
   "source": [
    "x = -1\n",
    "if x > 0:\n",
    "    print(f\"{nbr} is positive\")\n",
    "print(\"end of code\")"
   ]
  },
  {
   "cell_type": "code",
   "execution_count": 6,
   "metadata": {},
   "outputs": [
    {
     "name": "stdout",
     "output_type": "stream",
     "text": [
      "-1 is negative\n",
      "end of code\n"
     ]
    }
   ],
   "source": [
    "x = -1\n",
    "if x > 0:\n",
    "    print(f\"{x} is positive\")\n",
    "else:\n",
    "    print(f\"{x} is negative\")\n",
    "print(\"end of code\")"
   ]
  },
  {
   "cell_type": "code",
   "execution_count": 7,
   "metadata": {},
   "outputs": [
    {
     "name": "stdout",
     "output_type": "stream",
     "text": [
      "5 is positive\n",
      "end of code\n"
     ]
    }
   ],
   "source": [
    "x = 5\n",
    "if x > 0:\n",
    "    print(f\"{x} is positive\")\n",
    "else:\n",
    "    print(f\"{x} is negative\")\n",
    "print(\"end of code\")"
   ]
  },
  {
   "cell_type": "code",
   "execution_count": 8,
   "metadata": {},
   "outputs": [
    {
     "name": "stdout",
     "output_type": "stream",
     "text": [
      "0 is negative\n",
      "end of code\n"
     ]
    }
   ],
   "source": [
    "# observe 0 is pushed to else and it shows as negative. We do not want this to happen.\n",
    "x = 0\n",
    "if x > 0:\n",
    "    print(f\"{x} is positive\")\n",
    "else:\n",
    "    print(f\"{x} is negative\")\n",
    "print(\"end of code\")"
   ]
  },
  {
   "cell_type": "code",
   "execution_count": 9,
   "metadata": {},
   "outputs": [
    {
     "name": "stdout",
     "output_type": "stream",
     "text": [
      "0 is zero\n",
      "end of code\n"
     ]
    }
   ],
   "source": [
    "# add elif logic to term 0 as 0 and not as positve or negative value\n",
    "x = 0\n",
    "if x > 0:\n",
    "    print(f\"{x} is positive\")\n",
    "elif x == 0:\n",
    "    print(f\"{x} is zero\")\n",
    "else:\n",
    "    print(f\"{x} is negative\")\n",
    "print(\"end of code\")"
   ]
  },
  {
   "cell_type": "code",
   "execution_count": 10,
   "metadata": {},
   "outputs": [
    {
     "name": "stdout",
     "output_type": "stream",
     "text": [
      "end of code\n"
     ]
    }
   ],
   "source": [
    "# what if the number was zero\n",
    "# let us try the same with new variable nbr2\n",
    "nbr2 = 0\n",
    "if nbr2 > 0:\n",
    "    print(f\"{nbr2} is positive\")\n",
    "print(\"end of code\")"
   ]
  },
  {
   "cell_type": "code",
   "execution_count": 11,
   "metadata": {},
   "outputs": [
    {
     "name": "stdout",
     "output_type": "stream",
     "text": [
      "5.0 is positive\n",
      "end of code\n"
     ]
    }
   ],
   "source": [
    "# as above, the lines of code within if statement executes only when the condition is satisfied.\n",
    "# the rest of the code block executes normal and hence we see \"end of code\" printed.\n",
    "# code logic should handle all scenarios. let us add more scenarios on our actual variable.\n",
    "\n",
    "if nbr > 0:\n",
    "    print(f\"{nbr} is positive\")\n",
    "elif nbr == 0:\n",
    "    print(f\"{nbr} is zero\")\n",
    "else:\n",
    "    print(f\"{nbr} is negative\")\n",
    "print(\"end of code\")"
   ]
  },
  {
   "cell_type": "code",
   "execution_count": 12,
   "metadata": {},
   "outputs": [
    {
     "name": "stdout",
     "output_type": "stream",
     "text": [
      "5.0 is positive\n",
      "end of code\n"
     ]
    }
   ],
   "source": [
    "# use the same logic to test multiple scenarios\n",
    "nbr = float(input())\n",
    "if nbr > 0:\n",
    "    print(f\"{nbr} is positive\")\n",
    "elif nbr == 0:\n",
    "    print(f\"{nbr} is zero\")\n",
    "else:\n",
    "    print(f\"{nbr} is negative\")\n",
    "print(\"end of code\")"
   ]
  },
  {
   "cell_type": "code",
   "execution_count": 13,
   "metadata": {},
   "outputs": [
    {
     "name": "stdout",
     "output_type": "stream",
     "text": [
      "5.0 is positive\n",
      "end of code\n"
     ]
    }
   ],
   "source": [
    "nbr = float(input())\n",
    "if nbr > 0:\n",
    "    print(f\"{nbr} is positive\")\n",
    "elif nbr == 0:\n",
    "    print(f\"{nbr} is zero\")\n",
    "elif nbr<0:\n",
    "    print(f\"{nbr} is negative\")\n",
    "else:\n",
    "    print(\"code did not satify any condition\")\n",
    "print(\"end of code\")"
   ]
  },
  {
   "cell_type": "markdown",
   "metadata": {},
   "source": [
    "#### Nested ifs"
   ]
  },
  {
   "cell_type": "code",
   "execution_count": 14,
   "metadata": {},
   "outputs": [],
   "source": [
    "x = input()"
   ]
  },
  {
   "cell_type": "code",
   "execution_count": 15,
   "metadata": {},
   "outputs": [
    {
     "data": {
      "text/plain": [
       "str"
      ]
     },
     "execution_count": 15,
     "metadata": {},
     "output_type": "execute_result"
    }
   ],
   "source": [
    "type(x)"
   ]
  },
  {
   "cell_type": "code",
   "execution_count": 16,
   "metadata": {},
   "outputs": [],
   "source": [
    "x = float(input())"
   ]
  },
  {
   "cell_type": "code",
   "execution_count": 17,
   "metadata": {},
   "outputs": [
    {
     "data": {
      "text/plain": [
       "float"
      ]
     },
     "execution_count": 17,
     "metadata": {},
     "output_type": "execute_result"
    }
   ],
   "source": [
    "type(x)"
   ]
  },
  {
   "cell_type": "code",
   "execution_count": 18,
   "metadata": {},
   "outputs": [
    {
     "name": "stdout",
     "output_type": "stream",
     "text": [
      "greater than zero\n",
      "value is positive\n"
     ]
    }
   ],
   "source": [
    "if x>=0:\n",
    "    print(\"greater than zero\")\n",
    "    if x==0:\n",
    "        print(\"value is zero\")\n",
    "    else:\n",
    "        print(\"value is positive\")\n",
    "else:\n",
    "    print(\"value is negative\")"
   ]
  },
  {
   "cell_type": "code",
   "execution_count": 19,
   "metadata": {},
   "outputs": [],
   "source": [
    "def get_sign(num):\n",
    "    if num>=0:\n",
    "        print(\"greater than or equal to zero\")\n",
    "        if num==0:\n",
    "            print(\"value is zero\")\n",
    "        else:\n",
    "            print(\"value is positive\")\n",
    "    else:\n",
    "        print(\"value is negative\")"
   ]
  },
  {
   "cell_type": "code",
   "execution_count": 20,
   "metadata": {},
   "outputs": [
    {
     "name": "stdout",
     "output_type": "stream",
     "text": [
      "greater than or equal to zero\n",
      "value is positive\n"
     ]
    }
   ],
   "source": [
    "get_sign(10)"
   ]
  },
  {
   "cell_type": "code",
   "execution_count": 21,
   "metadata": {},
   "outputs": [
    {
     "name": "stdout",
     "output_type": "stream",
     "text": [
      "greater than or equal to zero\n",
      "value is zero\n"
     ]
    }
   ],
   "source": [
    "get_sign(0)"
   ]
  },
  {
   "cell_type": "code",
   "execution_count": 22,
   "metadata": {},
   "outputs": [
    {
     "name": "stdout",
     "output_type": "stream",
     "text": [
      "5\n"
     ]
    }
   ],
   "source": [
    "# format string\n",
    "x = 5\n",
    "print(x)"
   ]
  },
  {
   "cell_type": "code",
   "execution_count": 23,
   "metadata": {},
   "outputs": [
    {
     "name": "stdout",
     "output_type": "stream",
     "text": [
      "variable x is: 5\n"
     ]
    }
   ],
   "source": [
    "print(\"variable x is:\", x)"
   ]
  },
  {
   "cell_type": "code",
   "execution_count": 24,
   "metadata": {},
   "outputs": [
    {
     "data": {
      "text/plain": [
       "'variable x is: {x}'"
      ]
     },
     "execution_count": 24,
     "metadata": {},
     "output_type": "execute_result"
    }
   ],
   "source": [
    "\"variable x is: {x}\""
   ]
  },
  {
   "cell_type": "code",
   "execution_count": 25,
   "metadata": {},
   "outputs": [
    {
     "data": {
      "text/plain": [
       "5"
      ]
     },
     "execution_count": 25,
     "metadata": {},
     "output_type": "execute_result"
    }
   ],
   "source": [
    "x"
   ]
  },
  {
   "cell_type": "code",
   "execution_count": 26,
   "metadata": {},
   "outputs": [
    {
     "data": {
      "text/plain": [
       "'variable x is: 5'"
      ]
     },
     "execution_count": 26,
     "metadata": {},
     "output_type": "execute_result"
    }
   ],
   "source": [
    "f\"variable x is: {x}\""
   ]
  },
  {
   "cell_type": "code",
   "execution_count": 27,
   "metadata": {},
   "outputs": [
    {
     "name": "stdout",
     "output_type": "stream",
     "text": [
      "1|2|4|5\n"
     ]
    }
   ],
   "source": [
    "print(1, 2, 4, 5, sep='|')"
   ]
  },
  {
   "cell_type": "markdown",
   "metadata": {},
   "source": [
    "# Functions"
   ]
  },
  {
   "cell_type": "code",
   "execution_count": 28,
   "metadata": {},
   "outputs": [],
   "source": [
    "def my_function():\n",
    "    print(\"hello!\")"
   ]
  },
  {
   "cell_type": "code",
   "execution_count": 29,
   "metadata": {},
   "outputs": [
    {
     "name": "stdout",
     "output_type": "stream",
     "text": [
      "hello!\n"
     ]
    }
   ],
   "source": [
    "my_function()"
   ]
  },
  {
   "cell_type": "code",
   "execution_count": 30,
   "metadata": {},
   "outputs": [],
   "source": [
    "# with argument(s) (args)\n",
    "def my_function(usr):\n",
    "    print(f\"hello {usr}!\")"
   ]
  },
  {
   "cell_type": "code",
   "execution_count": 31,
   "metadata": {},
   "outputs": [
    {
     "ename": "TypeError",
     "evalue": "my_function() missing 1 required positional argument: 'usr'",
     "output_type": "error",
     "traceback": [
      "\u001b[1;31m---------------------------------------------------------------------------\u001b[0m",
      "\u001b[1;31mTypeError\u001b[0m                                 Traceback (most recent call last)",
      "Input \u001b[1;32mIn [31]\u001b[0m, in \u001b[0;36m<cell line: 2>\u001b[1;34m()\u001b[0m\n\u001b[0;32m      1\u001b[0m \u001b[38;5;66;03m# it is mandatory to pass arguments when function is defined with one\u001b[39;00m\n\u001b[1;32m----> 2\u001b[0m \u001b[43mmy_function\u001b[49m\u001b[43m(\u001b[49m\u001b[43m)\u001b[49m\n",
      "\u001b[1;31mTypeError\u001b[0m: my_function() missing 1 required positional argument: 'usr'"
     ]
    }
   ],
   "source": [
    "# it is mandatory to pass arguments when function is defined with one\n",
    "my_function()"
   ]
  },
  {
   "cell_type": "code",
   "execution_count": 32,
   "metadata": {},
   "outputs": [
    {
     "name": "stdout",
     "output_type": "stream",
     "text": [
      "hello Sanjeev!\n"
     ]
    }
   ],
   "source": [
    "my_function('Sanjeev')"
   ]
  },
  {
   "cell_type": "code",
   "execution_count": 33,
   "metadata": {},
   "outputs": [
    {
     "name": "stdout",
     "output_type": "stream",
     "text": [
      "hello Aron!\n"
     ]
    }
   ],
   "source": [
    "my_function('Aron')"
   ]
  },
  {
   "cell_type": "code",
   "execution_count": 34,
   "metadata": {},
   "outputs": [],
   "source": [
    "# with a default argument\n",
    "# this is called as key word argument (kwargs)\n",
    "def my_function(usr='User'):\n",
    "    # usr is called as key word argument as there is a defualt value.\n",
    "    print(f\"hello {usr}!\")"
   ]
  },
  {
   "cell_type": "code",
   "execution_count": 35,
   "metadata": {},
   "outputs": [
    {
     "name": "stdout",
     "output_type": "stream",
     "text": [
      "hello Sanjeev!\n"
     ]
    }
   ],
   "source": [
    "my_function('Sanjeev')"
   ]
  },
  {
   "cell_type": "code",
   "execution_count": 36,
   "metadata": {},
   "outputs": [
    {
     "name": "stdout",
     "output_type": "stream",
     "text": [
      "hello User!\n"
     ]
    }
   ],
   "source": [
    "my_function()"
   ]
  },
  {
   "cell_type": "code",
   "execution_count": 37,
   "metadata": {},
   "outputs": [],
   "source": [
    "def add_nums(x, y):\n",
    "    # x, y are called as positional arguments.\n",
    "    return sum([x,y])"
   ]
  },
  {
   "cell_type": "code",
   "execution_count": 38,
   "metadata": {},
   "outputs": [
    {
     "data": {
      "text/plain": [
       "15"
      ]
     },
     "execution_count": 38,
     "metadata": {},
     "output_type": "execute_result"
    }
   ],
   "source": [
    "add_nums(10, 5)"
   ]
  },
  {
   "cell_type": "code",
   "execution_count": 39,
   "metadata": {},
   "outputs": [
    {
     "data": {
      "text/plain": [
       "13"
      ]
     },
     "execution_count": 39,
     "metadata": {},
     "output_type": "execute_result"
    }
   ],
   "source": [
    "add_nums(4, 9)"
   ]
  },
  {
   "cell_type": "code",
   "execution_count": 40,
   "metadata": {},
   "outputs": [
    {
     "ename": "TypeError",
     "evalue": "add_nums() takes 2 positional arguments but 3 were given",
     "output_type": "error",
     "traceback": [
      "\u001b[1;31m---------------------------------------------------------------------------\u001b[0m",
      "\u001b[1;31mTypeError\u001b[0m                                 Traceback (most recent call last)",
      "Input \u001b[1;32mIn [40]\u001b[0m, in \u001b[0;36m<cell line: 1>\u001b[1;34m()\u001b[0m\n\u001b[1;32m----> 1\u001b[0m \u001b[43madd_nums\u001b[49m\u001b[43m(\u001b[49m\u001b[38;5;241;43m1\u001b[39;49m\u001b[43m,\u001b[49m\u001b[43m \u001b[49m\u001b[38;5;241;43m2\u001b[39;49m\u001b[43m,\u001b[49m\u001b[43m \u001b[49m\u001b[38;5;241;43m3\u001b[39;49m\u001b[43m)\u001b[49m\n",
      "\u001b[1;31mTypeError\u001b[0m: add_nums() takes 2 positional arguments but 3 were given"
     ]
    }
   ],
   "source": [
    "# when the function has two arguments, we cannot pass more or less\n",
    "add_nums(1, 2, 3)"
   ]
  },
  {
   "cell_type": "code",
   "execution_count": 41,
   "metadata": {},
   "outputs": [],
   "source": [
    "# more about  *args\n",
    "# *args are generally used when there are varied set of arguments\n",
    "def add_nums(*args):\n",
    "    print(args)\n",
    "    return sum(args)"
   ]
  },
  {
   "cell_type": "code",
   "execution_count": 42,
   "metadata": {},
   "outputs": [
    {
     "name": "stdout",
     "output_type": "stream",
     "text": [
      "(1, 2, 3, 5, 6, 6, 9, 10)\n"
     ]
    },
    {
     "data": {
      "text/plain": [
       "42"
      ]
     },
     "execution_count": 42,
     "metadata": {},
     "output_type": "execute_result"
    }
   ],
   "source": [
    "add_nums(1, 2, 3, 5, 6, 6, 9, 10)"
   ]
  },
  {
   "cell_type": "code",
   "execution_count": 43,
   "metadata": {},
   "outputs": [
    {
     "name": "stdout",
     "output_type": "stream",
     "text": [
      "(1, 2, 3, 6, 9, 10)\n"
     ]
    },
    {
     "data": {
      "text/plain": [
       "31"
      ]
     },
     "execution_count": 43,
     "metadata": {},
     "output_type": "execute_result"
    }
   ],
   "source": [
    "add_nums(1, 2, 3,  6, 9, 10)"
   ]
  },
  {
   "cell_type": "code",
   "execution_count": null,
   "metadata": {},
   "outputs": [],
   "source": []
  }
 ],
 "metadata": {
  "kernelspec": {
   "display_name": "Python 3",
   "language": "python",
   "name": "python3"
  },
  "language_info": {
   "codemirror_mode": {
    "name": "ipython",
    "version": 3
   },
   "file_extension": ".py",
   "mimetype": "text/x-python",
   "name": "python",
   "nbconvert_exporter": "python",
   "pygments_lexer": "ipython3",
   "version": "3.10.5"
  }
 },
 "nbformat": 4,
 "nbformat_minor": 2
}
